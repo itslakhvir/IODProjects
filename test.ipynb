{
 "cells": [
  {
   "cell_type": "markdown",
   "id": "e3db4ed3-fc49-42a5-8bc2-33d6ee5bb79c",
   "metadata": {},
   "source": [
    "Stress is how we feel when something is hard or scary for us. Stress can be good or bad for our body and mind. When we are stressed, our body makes chemicals that help us deal with the situation. This is called the \"fight or flight\" response .\n",
    "\n",
    "Stress can be good when it helps us to solve problems and reach our goals. But stress can be bad when it makes us feel too worried or lasts for too long. Too much stress can make us sick or unhappy, and can cause problems like headaches, sleeplessness, nervousness, sadness, and heart troubles .\n",
    "\n",
    "Stress can come from different things, such as work, family, money, health, or bad events. Everyone feels stress differently, and some people can handle more stress than others. So, it is important to know what makes us stressed and how we show it, and to find ways to deal with it. Some ways to reduce stress are to relax, exercise, talk to friends, think positively, and get help from a professional if needed ."
   ]
  },
  {
   "cell_type": "code",
   "execution_count": 125,
   "id": "2831e79c-aa8f-4779-86cf-ce7828fd0c9b",
   "metadata": {
    "tags": []
   },
   "outputs": [
    {
     "name": "stdout",
     "output_type": "stream",
     "text": [
      "Defaulting to user installation because normal site-packages is not writeable\n",
      "Requirement already satisfied: transformers in c:\\programdata\\anaconda3\\lib\\site-packages (2.1.1)\n",
      "Requirement already satisfied: numpy in c:\\programdata\\anaconda3\\lib\\site-packages (from transformers) (1.24.3)\n",
      "Requirement already satisfied: boto3 in c:\\programdata\\anaconda3\\lib\\site-packages (from transformers) (1.24.28)\n",
      "Requirement already satisfied: requests in c:\\programdata\\anaconda3\\lib\\site-packages (from transformers) (2.31.0)\n",
      "Requirement already satisfied: tqdm in c:\\programdata\\anaconda3\\lib\\site-packages (from transformers) (4.65.0)\n",
      "Requirement already satisfied: regex in c:\\programdata\\anaconda3\\lib\\site-packages (from transformers) (2022.7.9)\n",
      "Collecting sentencepiece (from transformers)\n",
      "  Downloading sentencepiece-0.1.99-cp311-cp311-win_amd64.whl (977 kB)\n",
      "     ---------------------------------------- 0.0/977.5 kB ? eta -:--:--\n",
      "     - ------------------------------------- 30.7/977.5 kB 1.4 MB/s eta 0:00:01\n",
      "     --- ----------------------------------- 92.2/977.5 kB 1.3 MB/s eta 0:00:01\n",
      "     -------- ----------------------------- 225.3/977.5 kB 2.0 MB/s eta 0:00:01\n",
      "     ------------ ------------------------- 327.7/977.5 kB 1.8 MB/s eta 0:00:01\n",
      "     ----------------- -------------------- 440.3/977.5 kB 2.0 MB/s eta 0:00:01\n",
      "     --------------------- ---------------- 542.7/977.5 kB 2.3 MB/s eta 0:00:01\n",
      "     --------------------------- ---------- 706.6/977.5 kB 2.3 MB/s eta 0:00:01\n",
      "     --------------------------------- ---- 870.4/977.5 kB 2.4 MB/s eta 0:00:01\n",
      "     -------------------------------------  972.8/977.5 kB 2.4 MB/s eta 0:00:01\n",
      "     -------------------------------------- 977.5/977.5 kB 2.3 MB/s eta 0:00:00\n",
      "Requirement already satisfied: sacremoses in c:\\programdata\\anaconda3\\lib\\site-packages (from transformers) (0.0.43)\n",
      "Requirement already satisfied: botocore<1.28.0,>=1.27.28 in c:\\programdata\\anaconda3\\lib\\site-packages (from boto3->transformers) (1.27.59)\n",
      "Requirement already satisfied: jmespath<2.0.0,>=0.7.1 in c:\\programdata\\anaconda3\\lib\\site-packages (from boto3->transformers) (0.10.0)\n",
      "Requirement already satisfied: s3transfer<0.7.0,>=0.6.0 in c:\\programdata\\anaconda3\\lib\\site-packages (from boto3->transformers) (0.6.0)\n",
      "Requirement already satisfied: charset-normalizer<4,>=2 in c:\\programdata\\anaconda3\\lib\\site-packages (from requests->transformers) (2.0.4)\n",
      "Requirement already satisfied: idna<4,>=2.5 in c:\\programdata\\anaconda3\\lib\\site-packages (from requests->transformers) (3.4)\n",
      "Requirement already satisfied: urllib3<3,>=1.21.1 in c:\\programdata\\anaconda3\\lib\\site-packages (from requests->transformers) (1.26.16)\n",
      "Requirement already satisfied: certifi>=2017.4.17 in c:\\programdata\\anaconda3\\lib\\site-packages (from requests->transformers) (2023.7.22)\n",
      "Requirement already satisfied: six in c:\\programdata\\anaconda3\\lib\\site-packages (from sacremoses->transformers) (1.16.0)\n",
      "Requirement already satisfied: click in c:\\programdata\\anaconda3\\lib\\site-packages (from sacremoses->transformers) (8.0.4)\n",
      "Requirement already satisfied: joblib in c:\\users\\itsla\\appdata\\roaming\\python\\python311\\site-packages (from sacremoses->transformers) (1.3.2)\n",
      "Requirement already satisfied: colorama in c:\\programdata\\anaconda3\\lib\\site-packages (from tqdm->transformers) (0.4.6)\n",
      "Requirement already satisfied: python-dateutil<3.0.0,>=2.1 in c:\\programdata\\anaconda3\\lib\\site-packages (from botocore<1.28.0,>=1.27.28->boto3->transformers) (2.8.2)\n",
      "Installing collected packages: sentencepiece\n",
      "Successfully installed sentencepiece-0.1.99\n",
      "Note: you may need to restart the kernel to use updated packages.\n"
     ]
    }
   ],
   "source": [
    "pip install transformers"
   ]
  },
  {
   "cell_type": "code",
   "execution_count": 433,
   "id": "1971ab66-07c9-45f5-90a6-33517e7dbf1f",
   "metadata": {
    "tags": []
   },
   "outputs": [],
   "source": [
    "import pandas as pd\n",
    "import numpy as np\n",
    "import matplotlib.pyplot as plt\n",
    "import seaborn as sns\n",
    "import nltk\n",
    "import nlp\n",
    "from sklearn.model_selection import LearningCurveDisplay,train_test_split,GridSearchCV\n",
    "from sklearn.svm import SVC\n",
    "import plotly\n",
    "from nltk.tokenize import word_tokenize\n",
    "from nltk.corpus import stopwords\n",
    "from nltk.stem import WordNetLemmatizer\n",
    "from sklearn.naive_bayes import MultinomialNB\n",
    "from sklearn.pipeline import Pipeline\n",
    "from sklearn.preprocessing import MinMaxScaler,LabelEncoder\n",
    "from sklearn.model_selection import GridSearchCV\n",
    "from sklearn.feature_extraction.text import CountVectorizer,TfidfTransformer\n",
    "import re \n",
    "import string\n",
    "import plotly.express as px\n",
    "from sklearn.model_selection import train_test_split,GridSearchCV\n",
    "from sklearn.feature_extraction.text import TfidfVectorizer\n",
    "from sklearn.metrics import accuracy_score,confusion_matrix,ConfusionMatrixDisplay\n",
    "from sklearn.svm import SVC\n",
    "from sklearn.model_selection import cross_val_score\n",
    "from sklearn.pipeline import make_pipeline\n",
    "from sklearn.feature_extraction.text import TfidfVectorizer\n",
    "from sklearn.ensemble import RandomForestClassifier\n",
    "from sklearn.decomposition import PCA\n",
    "from mlxtend.plotting import plot_decision_regions\n",
    "from sklearn.metrics import classification_report\n",
    "from transformers import BertTokenizer\n"
   ]
  },
  {
   "cell_type": "code",
   "execution_count": 434,
   "id": "e1d96fdc-ad2b-49b4-a40d-3d5ec1de2ea5",
   "metadata": {
    "tags": []
   },
   "outputs": [],
   "source": [
    "# Load your dataset\n",
    "data = pd.read_csv(r\"C:\\Users\\itsla\\Downloads\\CapstoneProject\\Stress.csv\")"
   ]
  },
  {
   "cell_type": "code",
   "execution_count": 435,
   "id": "ce0a8d90-212c-41ac-8b02-0016eb2324e2",
   "metadata": {
    "tags": []
   },
   "outputs": [],
   "source": [
    "# def create_label(row):\n",
    "#     if row['subreddit'] in ['ptsd', 'assistance', 'relationships', 'survivorsofabuse', 'domesticviolence']:\n",
    "#         if row['confidence'] >= 0.8:\n",
    "#             return 1  # Stress\n",
    "#         else:\n",
    "#             return 0  # No stress\n",
    "#     elif row['subreddit'] in ['anxiety', 'homeless', 'stress', 'almosthomeless', 'food_pantry']:\n",
    "#         if row['confidence'] >= 0.6:\n",
    "#             return 1  # Stress\n",
    "#         else:\n",
    "#             return 0  # No stress\n",
    "#     else:\n",
    "#         return 0  # Default to No stress\n",
    "# data['label'] = data.apply(create_label, axis=1)\n",
    "# print(data)"
   ]
  },
  {
   "cell_type": "code",
   "execution_count": 436,
   "id": "82dfa766-9fbc-452c-80f5-6d1e13cb1f4c",
   "metadata": {
    "tags": []
   },
   "outputs": [],
   "source": [
    "# # Defining a function to create the label based on both the confidence score and the subreddit\n",
    "# def create_stress_label(row, confidence_threshold=0.8, stress_subreddits={'ptsd', 'anxiety', 'domesticviolence'}):\n",
    "#     # Label as stress if the confidence is above the threshold and the subreddit is one of the stress-related ones\n",
    "#     if row['confidence'] > confidence_threshold and row['subreddit'] in stress_subreddits:\n",
    "#         return 1\n",
    "#     else:\n",
    "#         return 0\n",
    "\n",
    "# # Apply the function to the dataset\n",
    "# data['label'] = data.apply(create_stress_label, axis=1)\n",
    "\n",
    "# # Display the first few rows with the new 'label' column\n",
    "# data.head()\n"
   ]
  },
  {
   "cell_type": "code",
   "execution_count": 437,
   "id": "ab1323c1-7b15-41bd-8c5e-a21385f8c527",
   "metadata": {
    "tags": []
   },
   "outputs": [
    {
     "data": {
      "text/html": [
       "<div>\n",
       "<style scoped>\n",
       "    .dataframe tbody tr th:only-of-type {\n",
       "        vertical-align: middle;\n",
       "    }\n",
       "\n",
       "    .dataframe tbody tr th {\n",
       "        vertical-align: top;\n",
       "    }\n",
       "\n",
       "    .dataframe thead th {\n",
       "        text-align: right;\n",
       "    }\n",
       "</style>\n",
       "<table border=\"1\" class=\"dataframe\">\n",
       "  <thead>\n",
       "    <tr style=\"text-align: right;\">\n",
       "      <th></th>\n",
       "      <th>subreddit</th>\n",
       "      <th>post_id</th>\n",
       "      <th>sentence_range</th>\n",
       "      <th>text</th>\n",
       "      <th>label</th>\n",
       "      <th>confidence</th>\n",
       "      <th>social_timestamp</th>\n",
       "    </tr>\n",
       "  </thead>\n",
       "  <tbody>\n",
       "    <tr>\n",
       "      <th>0</th>\n",
       "      <td>ptsd</td>\n",
       "      <td>8601tu</td>\n",
       "      <td>(15, 20)</td>\n",
       "      <td>He said he had not felt that way before, sugge...</td>\n",
       "      <td>1</td>\n",
       "      <td>0.80</td>\n",
       "      <td>1521614353</td>\n",
       "    </tr>\n",
       "    <tr>\n",
       "      <th>1</th>\n",
       "      <td>assistance</td>\n",
       "      <td>8lbrx9</td>\n",
       "      <td>(0, 5)</td>\n",
       "      <td>Hey there r/assistance, Not sure if this is th...</td>\n",
       "      <td>0</td>\n",
       "      <td>1.00</td>\n",
       "      <td>1527009817</td>\n",
       "    </tr>\n",
       "    <tr>\n",
       "      <th>2</th>\n",
       "      <td>ptsd</td>\n",
       "      <td>9ch1zh</td>\n",
       "      <td>(15, 20)</td>\n",
       "      <td>My mom then hit me with the newspaper and it s...</td>\n",
       "      <td>1</td>\n",
       "      <td>0.80</td>\n",
       "      <td>1535935605</td>\n",
       "    </tr>\n",
       "    <tr>\n",
       "      <th>3</th>\n",
       "      <td>relationships</td>\n",
       "      <td>7rorpp</td>\n",
       "      <td>[5, 10]</td>\n",
       "      <td>until i met my new boyfriend, he is amazing, h...</td>\n",
       "      <td>1</td>\n",
       "      <td>0.60</td>\n",
       "      <td>1516429555</td>\n",
       "    </tr>\n",
       "    <tr>\n",
       "      <th>4</th>\n",
       "      <td>survivorsofabuse</td>\n",
       "      <td>9p2gbc</td>\n",
       "      <td>[0, 5]</td>\n",
       "      <td>October is Domestic Violence Awareness Month a...</td>\n",
       "      <td>1</td>\n",
       "      <td>0.80</td>\n",
       "      <td>1539809005</td>\n",
       "    </tr>\n",
       "  </tbody>\n",
       "</table>\n",
       "</div>"
      ],
      "text/plain": [
       "          subreddit post_id sentence_range  \\\n",
       "0              ptsd  8601tu       (15, 20)   \n",
       "1        assistance  8lbrx9         (0, 5)   \n",
       "2              ptsd  9ch1zh       (15, 20)   \n",
       "3     relationships  7rorpp        [5, 10]   \n",
       "4  survivorsofabuse  9p2gbc         [0, 5]   \n",
       "\n",
       "                                                text  label  confidence  \\\n",
       "0  He said he had not felt that way before, sugge...      1        0.80   \n",
       "1  Hey there r/assistance, Not sure if this is th...      0        1.00   \n",
       "2  My mom then hit me with the newspaper and it s...      1        0.80   \n",
       "3  until i met my new boyfriend, he is amazing, h...      1        0.60   \n",
       "4  October is Domestic Violence Awareness Month a...      1        0.80   \n",
       "\n",
       "   social_timestamp  \n",
       "0        1521614353  \n",
       "1        1527009817  \n",
       "2        1535935605  \n",
       "3        1516429555  \n",
       "4        1539809005  "
      ]
     },
     "execution_count": 437,
     "metadata": {},
     "output_type": "execute_result"
    }
   ],
   "source": [
    "data.iloc[:5] # Display the first five rows"
   ]
  },
  {
   "cell_type": "code",
   "execution_count": 438,
   "id": "bdcc7b0a-5f20-4fea-9b6b-6ae5db47e1b2",
   "metadata": {
    "tags": []
   },
   "outputs": [
    {
     "data": {
      "application/vnd.plotly.v1+json": {
       "config": {
        "plotlyServerURL": "https://plot.ly"
       },
       "data": [
        {
         "alignmentgroup": "True",
         "hovertemplate": "variable=proportion<br>Percentage=%{x}<br>label=%{text}<extra></extra>",
         "legendgroup": "proportion",
         "marker": {
          "color": "#636efa",
          "pattern": {
           "shape": ""
          }
         },
         "name": "proportion",
         "offsetgroup": "proportion",
         "orientation": "h",
         "showlegend": true,
         "text": [
          1,
          0
         ],
         "textposition": "inside",
         "type": "bar",
         "x": [
          52.43128964059197,
          47.56871035940804
         ],
         "xaxis": "x",
         "y": [
          1,
          0
         ],
         "yaxis": "y"
        }
       ],
       "layout": {
        "autosize": true,
        "barmode": "relative",
        "legend": {
         "title": {
          "text": "variable"
         },
         "tracegroupgap": 0
        },
        "template": {
         "data": {
          "bar": [
           {
            "error_x": {
             "color": "#2a3f5f"
            },
            "error_y": {
             "color": "#2a3f5f"
            },
            "marker": {
             "line": {
              "color": "#E5ECF6",
              "width": 0.5
             },
             "pattern": {
              "fillmode": "overlay",
              "size": 10,
              "solidity": 0.2
             }
            },
            "type": "bar"
           }
          ],
          "barpolar": [
           {
            "marker": {
             "line": {
              "color": "#E5ECF6",
              "width": 0.5
             },
             "pattern": {
              "fillmode": "overlay",
              "size": 10,
              "solidity": 0.2
             }
            },
            "type": "barpolar"
           }
          ],
          "carpet": [
           {
            "aaxis": {
             "endlinecolor": "#2a3f5f",
             "gridcolor": "white",
             "linecolor": "white",
             "minorgridcolor": "white",
             "startlinecolor": "#2a3f5f"
            },
            "baxis": {
             "endlinecolor": "#2a3f5f",
             "gridcolor": "white",
             "linecolor": "white",
             "minorgridcolor": "white",
             "startlinecolor": "#2a3f5f"
            },
            "type": "carpet"
           }
          ],
          "choropleth": [
           {
            "colorbar": {
             "outlinewidth": 0,
             "ticks": ""
            },
            "type": "choropleth"
           }
          ],
          "contour": [
           {
            "colorbar": {
             "outlinewidth": 0,
             "ticks": ""
            },
            "colorscale": [
             [
              0,
              "#0d0887"
             ],
             [
              0.1111111111111111,
              "#46039f"
             ],
             [
              0.2222222222222222,
              "#7201a8"
             ],
             [
              0.3333333333333333,
              "#9c179e"
             ],
             [
              0.4444444444444444,
              "#bd3786"
             ],
             [
              0.5555555555555556,
              "#d8576b"
             ],
             [
              0.6666666666666666,
              "#ed7953"
             ],
             [
              0.7777777777777778,
              "#fb9f3a"
             ],
             [
              0.8888888888888888,
              "#fdca26"
             ],
             [
              1,
              "#f0f921"
             ]
            ],
            "type": "contour"
           }
          ],
          "contourcarpet": [
           {
            "colorbar": {
             "outlinewidth": 0,
             "ticks": ""
            },
            "type": "contourcarpet"
           }
          ],
          "heatmap": [
           {
            "colorbar": {
             "outlinewidth": 0,
             "ticks": ""
            },
            "colorscale": [
             [
              0,
              "#0d0887"
             ],
             [
              0.1111111111111111,
              "#46039f"
             ],
             [
              0.2222222222222222,
              "#7201a8"
             ],
             [
              0.3333333333333333,
              "#9c179e"
             ],
             [
              0.4444444444444444,
              "#bd3786"
             ],
             [
              0.5555555555555556,
              "#d8576b"
             ],
             [
              0.6666666666666666,
              "#ed7953"
             ],
             [
              0.7777777777777778,
              "#fb9f3a"
             ],
             [
              0.8888888888888888,
              "#fdca26"
             ],
             [
              1,
              "#f0f921"
             ]
            ],
            "type": "heatmap"
           }
          ],
          "heatmapgl": [
           {
            "colorbar": {
             "outlinewidth": 0,
             "ticks": ""
            },
            "colorscale": [
             [
              0,
              "#0d0887"
             ],
             [
              0.1111111111111111,
              "#46039f"
             ],
             [
              0.2222222222222222,
              "#7201a8"
             ],
             [
              0.3333333333333333,
              "#9c179e"
             ],
             [
              0.4444444444444444,
              "#bd3786"
             ],
             [
              0.5555555555555556,
              "#d8576b"
             ],
             [
              0.6666666666666666,
              "#ed7953"
             ],
             [
              0.7777777777777778,
              "#fb9f3a"
             ],
             [
              0.8888888888888888,
              "#fdca26"
             ],
             [
              1,
              "#f0f921"
             ]
            ],
            "type": "heatmapgl"
           }
          ],
          "histogram": [
           {
            "marker": {
             "pattern": {
              "fillmode": "overlay",
              "size": 10,
              "solidity": 0.2
             }
            },
            "type": "histogram"
           }
          ],
          "histogram2d": [
           {
            "colorbar": {
             "outlinewidth": 0,
             "ticks": ""
            },
            "colorscale": [
             [
              0,
              "#0d0887"
             ],
             [
              0.1111111111111111,
              "#46039f"
             ],
             [
              0.2222222222222222,
              "#7201a8"
             ],
             [
              0.3333333333333333,
              "#9c179e"
             ],
             [
              0.4444444444444444,
              "#bd3786"
             ],
             [
              0.5555555555555556,
              "#d8576b"
             ],
             [
              0.6666666666666666,
              "#ed7953"
             ],
             [
              0.7777777777777778,
              "#fb9f3a"
             ],
             [
              0.8888888888888888,
              "#fdca26"
             ],
             [
              1,
              "#f0f921"
             ]
            ],
            "type": "histogram2d"
           }
          ],
          "histogram2dcontour": [
           {
            "colorbar": {
             "outlinewidth": 0,
             "ticks": ""
            },
            "colorscale": [
             [
              0,
              "#0d0887"
             ],
             [
              0.1111111111111111,
              "#46039f"
             ],
             [
              0.2222222222222222,
              "#7201a8"
             ],
             [
              0.3333333333333333,
              "#9c179e"
             ],
             [
              0.4444444444444444,
              "#bd3786"
             ],
             [
              0.5555555555555556,
              "#d8576b"
             ],
             [
              0.6666666666666666,
              "#ed7953"
             ],
             [
              0.7777777777777778,
              "#fb9f3a"
             ],
             [
              0.8888888888888888,
              "#fdca26"
             ],
             [
              1,
              "#f0f921"
             ]
            ],
            "type": "histogram2dcontour"
           }
          ],
          "mesh3d": [
           {
            "colorbar": {
             "outlinewidth": 0,
             "ticks": ""
            },
            "type": "mesh3d"
           }
          ],
          "parcoords": [
           {
            "line": {
             "colorbar": {
              "outlinewidth": 0,
              "ticks": ""
             }
            },
            "type": "parcoords"
           }
          ],
          "pie": [
           {
            "automargin": true,
            "type": "pie"
           }
          ],
          "scatter": [
           {
            "fillpattern": {
             "fillmode": "overlay",
             "size": 10,
             "solidity": 0.2
            },
            "type": "scatter"
           }
          ],
          "scatter3d": [
           {
            "line": {
             "colorbar": {
              "outlinewidth": 0,
              "ticks": ""
             }
            },
            "marker": {
             "colorbar": {
              "outlinewidth": 0,
              "ticks": ""
             }
            },
            "type": "scatter3d"
           }
          ],
          "scattercarpet": [
           {
            "marker": {
             "colorbar": {
              "outlinewidth": 0,
              "ticks": ""
             }
            },
            "type": "scattercarpet"
           }
          ],
          "scattergeo": [
           {
            "marker": {
             "colorbar": {
              "outlinewidth": 0,
              "ticks": ""
             }
            },
            "type": "scattergeo"
           }
          ],
          "scattergl": [
           {
            "marker": {
             "colorbar": {
              "outlinewidth": 0,
              "ticks": ""
             }
            },
            "type": "scattergl"
           }
          ],
          "scattermapbox": [
           {
            "marker": {
             "colorbar": {
              "outlinewidth": 0,
              "ticks": ""
             }
            },
            "type": "scattermapbox"
           }
          ],
          "scatterpolar": [
           {
            "marker": {
             "colorbar": {
              "outlinewidth": 0,
              "ticks": ""
             }
            },
            "type": "scatterpolar"
           }
          ],
          "scatterpolargl": [
           {
            "marker": {
             "colorbar": {
              "outlinewidth": 0,
              "ticks": ""
             }
            },
            "type": "scatterpolargl"
           }
          ],
          "scatterternary": [
           {
            "marker": {
             "colorbar": {
              "outlinewidth": 0,
              "ticks": ""
             }
            },
            "type": "scatterternary"
           }
          ],
          "surface": [
           {
            "colorbar": {
             "outlinewidth": 0,
             "ticks": ""
            },
            "colorscale": [
             [
              0,
              "#0d0887"
             ],
             [
              0.1111111111111111,
              "#46039f"
             ],
             [
              0.2222222222222222,
              "#7201a8"
             ],
             [
              0.3333333333333333,
              "#9c179e"
             ],
             [
              0.4444444444444444,
              "#bd3786"
             ],
             [
              0.5555555555555556,
              "#d8576b"
             ],
             [
              0.6666666666666666,
              "#ed7953"
             ],
             [
              0.7777777777777778,
              "#fb9f3a"
             ],
             [
              0.8888888888888888,
              "#fdca26"
             ],
             [
              1,
              "#f0f921"
             ]
            ],
            "type": "surface"
           }
          ],
          "table": [
           {
            "cells": {
             "fill": {
              "color": "#EBF0F8"
             },
             "line": {
              "color": "white"
             }
            },
            "header": {
             "fill": {
              "color": "#C8D4E3"
             },
             "line": {
              "color": "white"
             }
            },
            "type": "table"
           }
          ]
         },
         "layout": {
          "annotationdefaults": {
           "arrowcolor": "#2a3f5f",
           "arrowhead": 0,
           "arrowwidth": 1
          },
          "autotypenumbers": "strict",
          "coloraxis": {
           "colorbar": {
            "outlinewidth": 0,
            "ticks": ""
           }
          },
          "colorscale": {
           "diverging": [
            [
             0,
             "#8e0152"
            ],
            [
             0.1,
             "#c51b7d"
            ],
            [
             0.2,
             "#de77ae"
            ],
            [
             0.3,
             "#f1b6da"
            ],
            [
             0.4,
             "#fde0ef"
            ],
            [
             0.5,
             "#f7f7f7"
            ],
            [
             0.6,
             "#e6f5d0"
            ],
            [
             0.7,
             "#b8e186"
            ],
            [
             0.8,
             "#7fbc41"
            ],
            [
             0.9,
             "#4d9221"
            ],
            [
             1,
             "#276419"
            ]
           ],
           "sequential": [
            [
             0,
             "#0d0887"
            ],
            [
             0.1111111111111111,
             "#46039f"
            ],
            [
             0.2222222222222222,
             "#7201a8"
            ],
            [
             0.3333333333333333,
             "#9c179e"
            ],
            [
             0.4444444444444444,
             "#bd3786"
            ],
            [
             0.5555555555555556,
             "#d8576b"
            ],
            [
             0.6666666666666666,
             "#ed7953"
            ],
            [
             0.7777777777777778,
             "#fb9f3a"
            ],
            [
             0.8888888888888888,
             "#fdca26"
            ],
            [
             1,
             "#f0f921"
            ]
           ],
           "sequentialminus": [
            [
             0,
             "#0d0887"
            ],
            [
             0.1111111111111111,
             "#46039f"
            ],
            [
             0.2222222222222222,
             "#7201a8"
            ],
            [
             0.3333333333333333,
             "#9c179e"
            ],
            [
             0.4444444444444444,
             "#bd3786"
            ],
            [
             0.5555555555555556,
             "#d8576b"
            ],
            [
             0.6666666666666666,
             "#ed7953"
            ],
            [
             0.7777777777777778,
             "#fb9f3a"
            ],
            [
             0.8888888888888888,
             "#fdca26"
            ],
            [
             1,
             "#f0f921"
            ]
           ]
          },
          "colorway": [
           "#636efa",
           "#EF553B",
           "#00cc96",
           "#ab63fa",
           "#FFA15A",
           "#19d3f3",
           "#FF6692",
           "#B6E880",
           "#FF97FF",
           "#FECB52"
          ],
          "font": {
           "color": "#2a3f5f"
          },
          "geo": {
           "bgcolor": "white",
           "lakecolor": "white",
           "landcolor": "#E5ECF6",
           "showlakes": true,
           "showland": true,
           "subunitcolor": "white"
          },
          "hoverlabel": {
           "align": "left"
          },
          "hovermode": "closest",
          "mapbox": {
           "style": "light"
          },
          "paper_bgcolor": "white",
          "plot_bgcolor": "#E5ECF6",
          "polar": {
           "angularaxis": {
            "gridcolor": "white",
            "linecolor": "white",
            "ticks": ""
           },
           "bgcolor": "#E5ECF6",
           "radialaxis": {
            "gridcolor": "white",
            "linecolor": "white",
            "ticks": ""
           }
          },
          "scene": {
           "xaxis": {
            "backgroundcolor": "#E5ECF6",
            "gridcolor": "white",
            "gridwidth": 2,
            "linecolor": "white",
            "showbackground": true,
            "ticks": "",
            "zerolinecolor": "white"
           },
           "yaxis": {
            "backgroundcolor": "#E5ECF6",
            "gridcolor": "white",
            "gridwidth": 2,
            "linecolor": "white",
            "showbackground": true,
            "ticks": "",
            "zerolinecolor": "white"
           },
           "zaxis": {
            "backgroundcolor": "#E5ECF6",
            "gridcolor": "white",
            "gridwidth": 2,
            "linecolor": "white",
            "showbackground": true,
            "ticks": "",
            "zerolinecolor": "white"
           }
          },
          "shapedefaults": {
           "line": {
            "color": "#2a3f5f"
           }
          },
          "ternary": {
           "aaxis": {
            "gridcolor": "white",
            "linecolor": "white",
            "ticks": ""
           },
           "baxis": {
            "gridcolor": "white",
            "linecolor": "white",
            "ticks": ""
           },
           "bgcolor": "#E5ECF6",
           "caxis": {
            "gridcolor": "white",
            "linecolor": "white",
            "ticks": ""
           }
          },
          "title": {
           "x": 0.05
          },
          "xaxis": {
           "automargin": true,
           "gridcolor": "white",
           "linecolor": "white",
           "ticks": "",
           "title": {
            "standoff": 15
           },
           "zerolinecolor": "white",
           "zerolinewidth": 2
          },
          "yaxis": {
           "automargin": true,
           "gridcolor": "white",
           "linecolor": "white",
           "ticks": "",
           "title": {
            "standoff": 15
           },
           "zerolinecolor": "white",
           "zerolinewidth": 2
          }
         }
        },
        "title": {
         "text": "Target Distribution"
        },
        "xaxis": {
         "anchor": "y",
         "autorange": true,
         "domain": [
          0,
          1
         ],
         "range": [
          0,
          55.19083120062312
         ],
         "title": {
          "text": "Percentage"
         },
         "type": "linear"
        },
        "yaxis": {
         "anchor": "x",
         "autorange": true,
         "domain": [
          0,
          1
         ],
         "range": [
          -0.5,
          1.5
         ],
         "title": {
          "text": "label"
         },
         "type": "linear"
        }
       }
      },
      "image/png": "[encoded data removed]",
      "text/html": [
       "<div>                            <div id=\"0a51096d-be1f-4f9e-9f20-7677c15f134b\" class=\"plotly-graph-div\" style=\"height:525px; width:100%;\"></div>            <script type=\"text/javascript\">                require([\"plotly\"], function(Plotly) {                    window.PLOTLYENV=window.PLOTLYENV || {};                                    if (document.getElementById(\"0a51096d-be1f-4f9e-9f20-7677c15f134b\")) {                    Plotly.newPlot(                        \"0a51096d-be1f-4f9e-9f20-7677c15f134b\",                        [{\"alignmentgroup\":\"True\",\"hovertemplate\":\"variable=proportion<br>Percentage=%{x}<br>label=%{text}<extra></extra>\",\"legendgroup\":\"proportion\",\"marker\":{\"color\":\"#636efa\",\"pattern\":{\"shape\":\"\"}},\"name\":\"proportion\",\"offsetgroup\":\"proportion\",\"orientation\":\"h\",\"showlegend\":true,\"text\":[1.0,0.0],\"textposition\":\"inside\",\"x\":[52.43128964059197,47.56871035940804],\"xaxis\":\"x\",\"y\":[1,0],\"yaxis\":\"y\",\"type\":\"bar\"}],                        {\"template\":{\"data\":{\"histogram2dcontour\":[{\"type\":\"histogram2dcontour\",\"colorbar\":{\"outlinewidth\":0,\"ticks\":\"\"},\"colorscale\":[[0.0,\"#0d0887\"],[0.1111111111111111,\"#46039f\"],[0.2222222222222222,\"#7201a8\"],[0.3333333333333333,\"#9c179e\"],[0.4444444444444444,\"#bd3786\"],[0.5555555555555556,\"#d8576b\"],[0.6666666666666666,\"#ed7953\"],[0.7777777777777778,\"#fb9f3a\"],[0.8888888888888888,\"#fdca26\"],[1.0,\"#f0f921\"]]}],\"choropleth\":[{\"type\":\"choropleth\",\"colorbar\":{\"outlinewidth\":0,\"ticks\":\"\"}}],\"histogram2d\":[{\"type\":\"histogram2d\",\"colorbar\":{\"outlinewidth\":0,\"ticks\":\"\"},\"colorscale\":[[0.0,\"#0d0887\"],[0.1111111111111111,\"#46039f\"],[0.2222222222222222,\"#7201a8\"],[0.3333333333333333,\"#9c179e\"],[0.4444444444444444,\"#bd3786\"],[0.5555555555555556,\"#d8576b\"],[0.6666666666666666,\"#ed7953\"],[0.7777777777777778,\"#fb9f3a\"],[0.8888888888888888,\"#fdca26\"],[1.0,\"#f0f921\"]]}],\"heatmap\":[{\"type\":\"heatmap\",\"colorbar\":{\"outlinewidth\":0,\"ticks\":\"\"},\"colorscale\":[[0.0,\"#0d0887\"],[0.1111111111111111,\"#46039f\"],[0.2222222222222222,\"#7201a8\"],[0.3333333333333333,\"#9c179e\"],[0.4444444444444444,\"#bd3786\"],[0.5555555555555556,\"#d8576b\"],[0.6666666666666666,\"#ed7953\"],[0.7777777777777778,\"#fb9f3a\"],[0.8888888888888888,\"#fdca26\"],[1.0,\"#f0f921\"]]}],\"heatmapgl\":[{\"type\":\"heatmapgl\",\"colorbar\":{\"outlinewidth\":0,\"ticks\":\"\"},\"colorscale\":[[0.0,\"#0d0887\"],[0.1111111111111111,\"#46039f\"],[0.2222222222222222,\"#7201a8\"],[0.3333333333333333,\"#9c179e\"],[0.4444444444444444,\"#bd3786\"],[0.5555555555555556,\"#d8576b\"],[0.6666666666666666,\"#ed7953\"],[0.7777777777777778,\"#fb9f3a\"],[0.8888888888888888,\"#fdca26\"],[1.0,\"#f0f921\"]]}],\"contourcarpet\":[{\"type\":\"contourcarpet\",\"colorbar\":{\"outlinewidth\":0,\"ticks\":\"\"}}],\"contour\":[{\"type\":\"contour\",\"colorbar\":{\"outlinewidth\":0,\"ticks\":\"\"},\"colorscale\":[[0.0,\"#0d0887\"],[0.1111111111111111,\"#46039f\"],[0.2222222222222222,\"#7201a8\"],[0.3333333333333333,\"#9c179e\"],[0.4444444444444444,\"#bd3786\"],[0.5555555555555556,\"#d8576b\"],[0.6666666666666666,\"#ed7953\"],[0.7777777777777778,\"#fb9f3a\"],[0.8888888888888888,\"#fdca26\"],[1.0,\"#f0f921\"]]}],\"surface\":[{\"type\":\"surface\",\"colorbar\":{\"outlinewidth\":0,\"ticks\":\"\"},\"colorscale\":[[0.0,\"#0d0887\"],[0.1111111111111111,\"#46039f\"],[0.2222222222222222,\"#7201a8\"],[0.3333333333333333,\"#9c179e\"],[0.4444444444444444,\"#bd3786\"],[0.5555555555555556,\"#d8576b\"],[0.6666666666666666,\"#ed7953\"],[0.7777777777777778,\"#fb9f3a\"],[0.8888888888888888,\"#fdca26\"],[1.0,\"#f0f921\"]]}],\"mesh3d\":[{\"type\":\"mesh3d\",\"colorbar\":{\"outlinewidth\":0,\"ticks\":\"\"}}],\"scatter\":[{\"fillpattern\":{\"fillmode\":\"overlay\",\"size\":10,\"solidity\":0.2},\"type\":\"scatter\"}],\"parcoords\":[{\"type\":\"parcoords\",\"line\":{\"colorbar\":{\"outlinewidth\":0,\"ticks\":\"\"}}}],\"scatterpolargl\":[{\"type\":\"scatterpolargl\",\"marker\":{\"colorbar\":{\"outlinewidth\":0,\"ticks\":\"\"}}}],\"bar\":[{\"error_x\":{\"color\":\"#2a3f5f\"},\"error_y\":{\"color\":\"#2a3f5f\"},\"marker\":{\"line\":{\"color\":\"#E5ECF6\",\"width\":0.5},\"pattern\":{\"fillmode\":\"overlay\",\"size\":10,\"solidity\":0.2}},\"type\":\"bar\"}],\"scattergeo\":[{\"type\":\"scattergeo\",\"marker\":{\"colorbar\":{\"outlinewidth\":0,\"ticks\":\"\"}}}],\"scatterpolar\":[{\"type\":\"scatterpolar\",\"marker\":{\"colorbar\":{\"outlinewidth\":0,\"ticks\":\"\"}}}],\"histogram\":[{\"marker\":{\"pattern\":{\"fillmode\":\"overlay\",\"size\":10,\"solidity\":0.2}},\"type\":\"histogram\"}],\"scattergl\":[{\"type\":\"scattergl\",\"marker\":{\"colorbar\":{\"outlinewidth\":0,\"ticks\":\"\"}}}],\"scatter3d\":[{\"type\":\"scatter3d\",\"line\":{\"colorbar\":{\"outlinewidth\":0,\"ticks\":\"\"}},\"marker\":{\"colorbar\":{\"outlinewidth\":0,\"ticks\":\"\"}}}],\"scattermapbox\":[{\"type\":\"scattermapbox\",\"marker\":{\"colorbar\":{\"outlinewidth\":0,\"ticks\":\"\"}}}],\"scatterternary\":[{\"type\":\"scatterternary\",\"marker\":{\"colorbar\":{\"outlinewidth\":0,\"ticks\":\"\"}}}],\"scattercarpet\":[{\"type\":\"scattercarpet\",\"marker\":{\"colorbar\":{\"outlinewidth\":0,\"ticks\":\"\"}}}],\"carpet\":[{\"aaxis\":{\"endlinecolor\":\"#2a3f5f\",\"gridcolor\":\"white\",\"linecolor\":\"white\",\"minorgridcolor\":\"white\",\"startlinecolor\":\"#2a3f5f\"},\"baxis\":{\"endlinecolor\":\"#2a3f5f\",\"gridcolor\":\"white\",\"linecolor\":\"white\",\"minorgridcolor\":\"white\",\"startlinecolor\":\"#2a3f5f\"},\"type\":\"carpet\"}],\"table\":[{\"cells\":{\"fill\":{\"color\":\"#EBF0F8\"},\"line\":{\"color\":\"white\"}},\"header\":{\"fill\":{\"color\":\"#C8D4E3\"},\"line\":{\"color\":\"white\"}},\"type\":\"table\"}],\"barpolar\":[{\"marker\":{\"line\":{\"color\":\"#E5ECF6\",\"width\":0.5},\"pattern\":{\"fillmode\":\"overlay\",\"size\":10,\"solidity\":0.2}},\"type\":\"barpolar\"}],\"pie\":[{\"automargin\":true,\"type\":\"pie\"}]},\"layout\":{\"autotypenumbers\":\"strict\",\"colorway\":[\"#636efa\",\"#EF553B\",\"#00cc96\",\"#ab63fa\",\"#FFA15A\",\"#19d3f3\",\"#FF6692\",\"#B6E880\",\"#FF97FF\",\"#FECB52\"],\"font\":{\"color\":\"#2a3f5f\"},\"hovermode\":\"closest\",\"hoverlabel\":{\"align\":\"left\"},\"paper_bgcolor\":\"white\",\"plot_bgcolor\":\"#E5ECF6\",\"polar\":{\"bgcolor\":\"#E5ECF6\",\"angularaxis\":{\"gridcolor\":\"white\",\"linecolor\":\"white\",\"ticks\":\"\"},\"radialaxis\":{\"gridcolor\":\"white\",\"linecolor\":\"white\",\"ticks\":\"\"}},\"ternary\":{\"bgcolor\":\"#E5ECF6\",\"aaxis\":{\"gridcolor\":\"white\",\"linecolor\":\"white\",\"ticks\":\"\"},\"baxis\":{\"gridcolor\":\"white\",\"linecolor\":\"white\",\"ticks\":\"\"},\"caxis\":{\"gridcolor\":\"white\",\"linecolor\":\"white\",\"ticks\":\"\"}},\"coloraxis\":{\"colorbar\":{\"outlinewidth\":0,\"ticks\":\"\"}},\"colorscale\":{\"sequential\":[[0.0,\"#0d0887\"],[0.1111111111111111,\"#46039f\"],[0.2222222222222222,\"#7201a8\"],[0.3333333333333333,\"#9c179e\"],[0.4444444444444444,\"#bd3786\"],[0.5555555555555556,\"#d8576b\"],[0.6666666666666666,\"#ed7953\"],[0.7777777777777778,\"#fb9f3a\"],[0.8888888888888888,\"#fdca26\"],[1.0,\"#f0f921\"]],\"sequentialminus\":[[0.0,\"#0d0887\"],[0.1111111111111111,\"#46039f\"],[0.2222222222222222,\"#7201a8\"],[0.3333333333333333,\"#9c179e\"],[0.4444444444444444,\"#bd3786\"],[0.5555555555555556,\"#d8576b\"],[0.6666666666666666,\"#ed7953\"],[0.7777777777777778,\"#fb9f3a\"],[0.8888888888888888,\"#fdca26\"],[1.0,\"#f0f921\"]],\"diverging\":[[0,\"#8e0152\"],[0.1,\"#c51b7d\"],[0.2,\"#de77ae\"],[0.3,\"#f1b6da\"],[0.4,\"#fde0ef\"],[0.5,\"#f7f7f7\"],[0.6,\"#e6f5d0\"],[0.7,\"#b8e186\"],[0.8,\"#7fbc41\"],[0.9,\"#4d9221\"],[1,\"#276419\"]]},\"xaxis\":{\"gridcolor\":\"white\",\"linecolor\":\"white\",\"ticks\":\"\",\"title\":{\"standoff\":15},\"zerolinecolor\":\"white\",\"automargin\":true,\"zerolinewidth\":2},\"yaxis\":{\"gridcolor\":\"white\",\"linecolor\":\"white\",\"ticks\":\"\",\"title\":{\"standoff\":15},\"zerolinecolor\":\"white\",\"automargin\":true,\"zerolinewidth\":2},\"scene\":{\"xaxis\":{\"backgroundcolor\":\"#E5ECF6\",\"gridcolor\":\"white\",\"linecolor\":\"white\",\"showbackground\":true,\"ticks\":\"\",\"zerolinecolor\":\"white\",\"gridwidth\":2},\"yaxis\":{\"backgroundcolor\":\"#E5ECF6\",\"gridcolor\":\"white\",\"linecolor\":\"white\",\"showbackground\":true,\"ticks\":\"\",\"zerolinecolor\":\"white\",\"gridwidth\":2},\"zaxis\":{\"backgroundcolor\":\"#E5ECF6\",\"gridcolor\":\"white\",\"linecolor\":\"white\",\"showbackground\":true,\"ticks\":\"\",\"zerolinecolor\":\"white\",\"gridwidth\":2}},\"shapedefaults\":{\"line\":{\"color\":\"#2a3f5f\"}},\"annotationdefaults\":{\"arrowcolor\":\"#2a3f5f\",\"arrowhead\":0,\"arrowwidth\":1},\"geo\":{\"bgcolor\":\"white\",\"landcolor\":\"#E5ECF6\",\"subunitcolor\":\"white\",\"showland\":true,\"showlakes\":true,\"lakecolor\":\"white\"},\"title\":{\"x\":0.05},\"mapbox\":{\"style\":\"light\"}}},\"xaxis\":{\"anchor\":\"y\",\"domain\":[0.0,1.0],\"title\":{\"text\":\"Percentage\"}},\"yaxis\":{\"anchor\":\"x\",\"domain\":[0.0,1.0],\"title\":{\"text\":\"label\"}},\"legend\":{\"title\":{\"text\":\"variable\"},\"tracegroupgap\":0},\"title\":{\"text\":\"Target Distribution\"},\"barmode\":\"relative\"},                        {\"responsive\": true}                    ).then(function(){\n",
       "                            \n",
       "var gd = document.getElementById('0a51096d-be1f-4f9e-9f20-7677c15f134b');\n",
       "var x = new MutationObserver(function (mutations, observer) {{\n",
       "        var display = window.getComputedStyle(gd).display;\n",
       "        if (!display || display === 'none') {{\n",
       "            console.log([gd, 'removed!']);\n",
       "            Plotly.purge(gd);\n",
       "            observer.disconnect();\n",
       "        }}\n",
       "}});\n",
       "\n",
       "// Listen for the removal of the full notebook cells\n",
       "var notebookContainer = gd.closest('#notebook-container');\n",
       "if (notebookContainer) {{\n",
       "    x.observe(notebookContainer, {childList: true});\n",
       "}}\n",
       "\n",
       "// Listen for the clearing of the current output cell\n",
       "var outputEl = gd.closest('.output');\n",
       "if (outputEl) {{\n",
       "    x.observe(outputEl, {childList: true});\n",
       "}}\n",
       "\n",
       "                        })                };                });            </script>        </div>"
      ]
     },
     "metadata": {},
     "output_type": "display_data"
    }
   ],
   "source": [
    "label_counts = data['label'].value_counts(normalize=True) * 100\n",
    "fig = px.bar(label_counts,\n",
    "             orientation='h',\n",
    "             title='Target Distribution',\n",
    "             labels={'value': 'Percentage', 'index': 'Label'},\n",
    "             text=label_counts.index)\n",
    "fig.update_traces(textposition='inside')\n",
    "fig.show()"
   ]
  },
  {
   "cell_type": "code",
   "execution_count": 439,
   "id": "a38fdeaa-11da-4f00-a7ce-2b48699fefb4",
   "metadata": {
    "tags": []
   },
   "outputs": [
    {
     "data": {
      "text/plain": [
       "subreddit\n",
       "ptsd                584\n",
       "relationships       552\n",
       "anxiety             503\n",
       "domesticviolence    316\n",
       "assistance          289\n",
       "survivorsofabuse    245\n",
       "homeless            168\n",
       "almosthomeless       80\n",
       "stress               64\n",
       "food_pantry          37\n",
       "Name: count, dtype: int64"
      ]
     },
     "execution_count": 439,
     "metadata": {},
     "output_type": "execute_result"
    }
   ],
   "source": [
    "data['subreddit'].value_counts()"
   ]
  },
  {
   "cell_type": "code",
   "execution_count": 440,
   "id": "4bd32282-b23e-490d-81e3-d7810b0bf0ef",
   "metadata": {
    "tags": []
   },
   "outputs": [],
   "source": [
    "data['label_in_value']=data['label'].map({0:'No Stress',1:\"Stress\"})"
   ]
  },
  {
   "cell_type": "code",
   "execution_count": 441,
   "id": "babb7901-74f9-4cba-811a-32b042c8f485",
   "metadata": {
    "tags": []
   },
   "outputs": [
    {
     "data": {
      "application/vnd.plotly.v1+json": {
       "config": {
        "plotlyServerURL": "https://plot.ly"
       },
       "data": [
        {
         "alignmentgroup": "True",
         "bingroup": "x",
         "hovertemplate": "Label=Stress<br>Subreddit=%{x}<br>count=%{y}<extra></extra>",
         "legendgroup": "Stress",
         "marker": {
          "color": "#636efa",
          "pattern": {
           "shape": ""
          }
         },
         "name": "Stress",
         "nbinsx": 50,
         "offsetgroup": "Stress",
         "orientation": "v",
         "showlegend": true,
         "textposition": "outside",
         "texttemplate": "%{y}",
         "type": "histogram",
         "x": [
          "ptsd",
          "ptsd",
          "relationships",
          "survivorsofabuse",
          "relationships",
          "anxiety",
          "relationships",
          "assistance",
          "anxiety",
          "anxiety",
          "anxiety",
          "homeless",
          "anxiety",
          "relationships",
          "anxiety",
          "domesticviolence",
          "domesticviolence",
          "ptsd",
          "ptsd",
          "anxiety",
          "assistance",
          "anxiety",
          "domesticviolence",
          "assistance",
          "homeless",
          "relationships",
          "domesticviolence",
          "anxiety",
          "assistance",
          "anxiety",
          "domesticviolence",
          "relationships",
          "ptsd",
          "domesticviolence",
          "relationships",
          "anxiety",
          "ptsd",
          "ptsd",
          "survivorsofabuse",
          "anxiety",
          "anxiety",
          "assistance",
          "anxiety",
          "survivorsofabuse",
          "stress",
          "ptsd",
          "ptsd",
          "relationships",
          "anxiety",
          "assistance",
          "ptsd",
          "survivorsofabuse",
          "relationships",
          "anxiety",
          "survivorsofabuse",
          "assistance",
          "anxiety",
          "relationships",
          "anxiety",
          "anxiety",
          "domesticviolence",
          "domesticviolence",
          "ptsd",
          "anxiety",
          "anxiety",
          "domesticviolence",
          "relationships",
          "ptsd",
          "anxiety",
          "ptsd",
          "anxiety",
          "ptsd",
          "relationships",
          "stress",
          "relationships",
          "relationships",
          "domesticviolence",
          "relationships",
          "relationships",
          "anxiety",
          "domesticviolence",
          "ptsd",
          "anxiety",
          "anxiety",
          "ptsd",
          "relationships",
          "ptsd",
          "relationships",
          "homeless",
          "anxiety",
          "ptsd",
          "ptsd",
          "domesticviolence",
          "relationships",
          "relationships",
          "relationships",
          "assistance",
          "relationships",
          "domesticviolence",
          "relationships",
          "relationships",
          "anxiety",
          "relationships",
          "ptsd",
          "anxiety",
          "homeless",
          "relationships",
          "homeless",
          "anxiety",
          "ptsd",
          "ptsd",
          "assistance",
          "domesticviolence",
          "anxiety",
          "anxiety",
          "homeless",
          "anxiety",
          "survivorsofabuse",
          "anxiety",
          "ptsd",
          "domesticviolence",
          "anxiety",
          "anxiety",
          "anxiety",
          "ptsd",
          "anxiety",
          "anxiety",
          "survivorsofabuse",
          "relationships",
          "ptsd",
          "anxiety",
          "domesticviolence",
          "relationships",
          "domesticviolence",
          "relationships",
          "relationships",
          "ptsd",
          "domesticviolence",
          "ptsd",
          "ptsd",
          "relationships",
          "anxiety",
          "assistance",
          "ptsd",
          "ptsd",
          "relationships",
          "domesticviolence",
          "anxiety",
          "domesticviolence",
          "anxiety",
          "relationships",
          "relationships",
          "domesticviolence",
          "ptsd",
          "relationships",
          "relationships",
          "domesticviolence",
          "ptsd",
          "domesticviolence",
          "domesticviolence",
          "assistance",
          "relationships",
          "anxiety",
          "relationships",
          "almosthomeless",
          "ptsd",
          "anxiety",
          "domesticviolence",
          "assistance",
          "domesticviolence",
          "anxiety",
          "domesticviolence",
          "survivorsofabuse",
          "relationships",
          "anxiety",
          "survivorsofabuse",
          "homeless",
          "assistance",
          "survivorsofabuse",
          "domesticviolence",
          "domesticviolence",
          "stress",
          "anxiety",
          "homeless",
          "survivorsofabuse",
          "ptsd",
          "ptsd",
          "domesticviolence",
          "anxiety",
          "anxiety",
          "ptsd",
          "survivorsofabuse",
          "survivorsofabuse",
          "ptsd",
          "anxiety",
          "almosthomeless",
          "ptsd",
          "anxiety",
          "domesticviolence",
          "relationships",
          "anxiety",
          "assistance",
          "anxiety",
          "domesticviolence",
          "ptsd",
          "relationships",
          "domesticviolence",
          "ptsd",
          "domesticviolence",
          "anxiety",
          "ptsd",
          "anxiety",
          "ptsd",
          "domesticviolence",
          "relationships",
          "domesticviolence",
          "stress",
          "domesticviolence",
          "domesticviolence",
          "ptsd",
          "relationships",
          "ptsd",
          "domesticviolence",
          "ptsd",
          "anxiety",
          "relationships",
          "domesticviolence",
          "domesticviolence",
          "homeless",
          "domesticviolence",
          "relationships",
          "ptsd",
          "assistance",
          "assistance",
          "survivorsofabuse",
          "almosthomeless",
          "assistance",
          "anxiety",
          "domesticviolence",
          "survivorsofabuse",
          "anxiety",
          "relationships",
          "relationships",
          "relationships",
          "survivorsofabuse",
          "domesticviolence",
          "anxiety",
          "survivorsofabuse",
          "anxiety",
          "ptsd",
          "relationships",
          "ptsd",
          "survivorsofabuse",
          "ptsd",
          "ptsd",
          "anxiety",
          "survivorsofabuse",
          "ptsd",
          "ptsd",
          "anxiety",
          "homeless",
          "survivorsofabuse",
          "relationships",
          "anxiety",
          "stress",
          "domesticviolence",
          "assistance",
          "ptsd",
          "ptsd",
          "relationships",
          "ptsd",
          "ptsd",
          "domesticviolence",
          "relationships",
          "assistance",
          "survivorsofabuse",
          "anxiety",
          "anxiety",
          "survivorsofabuse",
          "anxiety",
          "ptsd",
          "relationships",
          "domesticviolence",
          "relationships",
          "ptsd",
          "ptsd",
          "ptsd",
          "assistance",
          "anxiety",
          "relationships",
          "domesticviolence",
          "anxiety",
          "relationships",
          "domesticviolence",
          "ptsd",
          "anxiety",
          "ptsd",
          "anxiety",
          "relationships",
          "assistance",
          "relationships",
          "anxiety",
          "food_pantry",
          "assistance",
          "ptsd",
          "ptsd",
          "survivorsofabuse",
          "ptsd",
          "ptsd",
          "ptsd",
          "relationships",
          "assistance",
          "ptsd",
          "domesticviolence",
          "ptsd",
          "domesticviolence",
          "almosthomeless",
          "domesticviolence",
          "anxiety",
          "ptsd",
          "domesticviolence",
          "ptsd",
          "anxiety",
          "assistance",
          "anxiety",
          "anxiety",
          "ptsd",
          "relationships",
          "ptsd",
          "almosthomeless",
          "anxiety",
          "domesticviolence",
          "survivorsofabuse",
          "almosthomeless",
          "domesticviolence",
          "domesticviolence",
          "survivorsofabuse",
          "anxiety",
          "anxiety",
          "assistance",
          "domesticviolence",
          "food_pantry",
          "anxiety",
          "anxiety",
          "survivorsofabuse",
          "relationships",
          "relationships",
          "ptsd",
          "ptsd",
          "stress",
          "ptsd",
          "assistance",
          "survivorsofabuse",
          "ptsd",
          "survivorsofabuse",
          "relationships",
          "anxiety",
          "relationships",
          "relationships",
          "relationships",
          "relationships",
          "homeless",
          "ptsd",
          "assistance",
          "anxiety",
          "ptsd",
          "survivorsofabuse",
          "food_pantry",
          "relationships",
          "domesticviolence",
          "anxiety",
          "ptsd",
          "ptsd",
          "relationships",
          "domesticviolence",
          "stress",
          "relationships",
          "ptsd",
          "ptsd",
          "ptsd",
          "assistance",
          "anxiety",
          "assistance",
          "ptsd",
          "ptsd",
          "ptsd",
          "anxiety",
          "domesticviolence",
          "anxiety",
          "anxiety",
          "anxiety",
          "relationships",
          "ptsd",
          "anxiety",
          "anxiety",
          "homeless",
          "relationships",
          "ptsd",
          "survivorsofabuse",
          "relationships",
          "ptsd",
          "domesticviolence",
          "anxiety",
          "anxiety",
          "relationships",
          "ptsd",
          "ptsd",
          "domesticviolence",
          "relationships",
          "relationships",
          "domesticviolence",
          "anxiety",
          "domesticviolence",
          "domesticviolence",
          "ptsd",
          "relationships",
          "anxiety",
          "relationships",
          "domesticviolence",
          "anxiety",
          "anxiety",
          "stress",
          "ptsd",
          "anxiety",
          "anxiety",
          "anxiety",
          "homeless",
          "anxiety",
          "domesticviolence",
          "domesticviolence",
          "anxiety",
          "domesticviolence",
          "almosthomeless",
          "homeless",
          "relationships",
          "ptsd",
          "anxiety",
          "anxiety",
          "ptsd",
          "anxiety",
          "anxiety",
          "relationships",
          "relationships",
          "relationships",
          "ptsd",
          "relationships",
          "ptsd",
          "ptsd",
          "relationships",
          "homeless",
          "anxiety",
          "stress",
          "anxiety",
          "survivorsofabuse",
          "relationships",
          "homeless",
          "ptsd",
          "relationships",
          "domesticviolence",
          "ptsd",
          "domesticviolence",
          "assistance",
          "relationships",
          "ptsd",
          "assistance",
          "domesticviolence",
          "anxiety",
          "domesticviolence",
          "assistance",
          "domesticviolence",
          "survivorsofabuse",
          "survivorsofabuse",
          "homeless",
          "stress",
          "anxiety",
          "domesticviolence",
          "survivorsofabuse",
          "ptsd",
          "relationships",
          "ptsd",
          "assistance",
          "assistance",
          "ptsd",
          "domesticviolence",
          "assistance",
          "survivorsofabuse",
          "domesticviolence",
          "relationships",
          "anxiety",
          "ptsd",
          "anxiety",
          "ptsd",
          "relationships",
          "ptsd",
          "ptsd",
          "almosthomeless",
          "assistance",
          "homeless",
          "ptsd",
          "survivorsofabuse",
          "relationships",
          "ptsd",
          "ptsd",
          "assistance",
          "relationships",
          "assistance",
          "relationships",
          "ptsd",
          "survivorsofabuse",
          "anxiety",
          "ptsd",
          "ptsd",
          "relationships",
          "ptsd",
          "assistance",
          "ptsd",
          "relationships",
          "ptsd",
          "ptsd",
          "anxiety",
          "ptsd",
          "relationships",
          "anxiety",
          "ptsd",
          "relationships",
          "anxiety",
          "anxiety",
          "relationships",
          "domesticviolence",
          "anxiety",
          "almosthomeless",
          "anxiety",
          "ptsd",
          "relationships",
          "relationships",
          "survivorsofabuse",
          "ptsd",
          "survivorsofabuse",
          "relationships",
          "relationships",
          "relationships",
          "ptsd",
          "anxiety",
          "assistance",
          "anxiety",
          "almosthomeless",
          "anxiety",
          "assistance",
          "food_pantry",
          "relationships",
          "survivorsofabuse",
          "anxiety",
          "ptsd",
          "ptsd",
          "assistance",
          "domesticviolence",
          "anxiety",
          "ptsd",
          "ptsd",
          "anxiety",
          "assistance",
          "anxiety",
          "stress",
          "assistance",
          "assistance",
          "anxiety",
          "relationships",
          "assistance",
          "ptsd",
          "almosthomeless",
          "ptsd",
          "domesticviolence",
          "anxiety",
          "anxiety",
          "ptsd",
          "stress",
          "ptsd",
          "ptsd",
          "relationships",
          "survivorsofabuse",
          "assistance",
          "relationships",
          "relationships",
          "anxiety",
          "domesticviolence",
          "almosthomeless",
          "survivorsofabuse",
          "anxiety",
          "domesticviolence",
          "domesticviolence",
          "survivorsofabuse",
          "stress",
          "anxiety",
          "domesticviolence",
          "relationships",
          "relationships",
          "relationships",
          "assistance",
          "anxiety",
          "relationships",
          "anxiety",
          "relationships",
          "relationships",
          "relationships",
          "anxiety",
          "ptsd",
          "relationships",
          "relationships",
          "homeless",
          "ptsd",
          "ptsd",
          "anxiety",
          "assistance",
          "relationships",
          "ptsd",
          "survivorsofabuse",
          "anxiety",
          "almosthomeless",
          "relationships",
          "anxiety",
          "anxiety",
          "ptsd",
          "ptsd",
          "domesticviolence",
          "ptsd",
          "survivorsofabuse",
          "almosthomeless",
          "survivorsofabuse",
          "survivorsofabuse",
          "stress",
          "anxiety",
          "anxiety",
          "relationships",
          "domesticviolence",
          "relationships",
          "domesticviolence",
          "domesticviolence",
          "anxiety",
          "domesticviolence",
          "anxiety",
          "ptsd",
          "domesticviolence",
          "relationships",
          "anxiety",
          "relationships",
          "anxiety",
          "survivorsofabuse",
          "domesticviolence",
          "relationships",
          "anxiety",
          "anxiety",
          "assistance",
          "ptsd",
          "anxiety",
          "anxiety",
          "assistance",
          "ptsd",
          "assistance",
          "relationships",
          "anxiety",
          "relationships",
          "ptsd",
          "anxiety",
          "almosthomeless",
          "ptsd",
          "food_pantry",
          "relationships",
          "anxiety",
          "anxiety",
          "anxiety",
          "ptsd",
          "domesticviolence",
          "anxiety",
          "anxiety",
          "almosthomeless",
          "relationships",
          "assistance",
          "ptsd",
          "domesticviolence",
          "homeless",
          "assistance",
          "survivorsofabuse",
          "anxiety",
          "homeless",
          "anxiety",
          "survivorsofabuse",
          "anxiety",
          "homeless",
          "ptsd",
          "stress",
          "domesticviolence",
          "anxiety",
          "survivorsofabuse",
          "ptsd",
          "survivorsofabuse",
          "relationships",
          "survivorsofabuse",
          "ptsd",
          "stress",
          "domesticviolence",
          "assistance",
          "homeless",
          "relationships",
          "anxiety",
          "ptsd",
          "homeless",
          "anxiety",
          "anxiety",
          "assistance",
          "relationships",
          "assistance",
          "domesticviolence",
          "anxiety",
          "ptsd",
          "ptsd",
          "anxiety",
          "relationships",
          "relationships",
          "ptsd",
          "ptsd",
          "homeless",
          "ptsd",
          "assistance",
          "relationships",
          "assistance",
          "ptsd",
          "anxiety",
          "assistance",
          "ptsd",
          "assistance",
          "anxiety",
          "anxiety",
          "assistance",
          "relationships",
          "relationships",
          "survivorsofabuse",
          "homeless",
          "anxiety",
          "domesticviolence",
          "almosthomeless",
          "anxiety",
          "relationships",
          "homeless",
          "homeless",
          "relationships",
          "survivorsofabuse",
          "ptsd",
          "assistance",
          "ptsd",
          "ptsd",
          "stress",
          "anxiety",
          "relationships",
          "almosthomeless",
          "domesticviolence",
          "ptsd",
          "assistance",
          "anxiety",
          "stress",
          "relationships",
          "ptsd",
          "ptsd",
          "anxiety",
          "food_pantry",
          "anxiety",
          "ptsd",
          "relationships",
          "ptsd",
          "ptsd",
          "domesticviolence",
          "relationships",
          "survivorsofabuse",
          "anxiety",
          "survivorsofabuse",
          "ptsd",
          "relationships",
          "assistance",
          "anxiety",
          "ptsd",
          "ptsd",
          "relationships",
          "relationships",
          "domesticviolence",
          "assistance",
          "almosthomeless",
          "anxiety",
          "anxiety",
          "anxiety",
          "anxiety",
          "anxiety",
          "stress",
          "relationships",
          "ptsd",
          "anxiety",
          "relationships",
          "relationships",
          "anxiety",
          "domesticviolence",
          "domesticviolence",
          "anxiety",
          "ptsd",
          "survivorsofabuse",
          "ptsd",
          "ptsd",
          "relationships",
          "domesticviolence",
          "ptsd",
          "ptsd",
          "survivorsofabuse",
          "ptsd",
          "ptsd",
          "anxiety",
          "domesticviolence",
          "anxiety",
          "ptsd",
          "domesticviolence",
          "homeless",
          "anxiety",
          "survivorsofabuse",
          "domesticviolence",
          "stress",
          "ptsd",
          "domesticviolence",
          "anxiety",
          "survivorsofabuse",
          "assistance",
          "stress",
          "ptsd",
          "survivorsofabuse",
          "homeless",
          "ptsd",
          "relationships",
          "ptsd",
          "anxiety",
          "relationships",
          "anxiety",
          "survivorsofabuse",
          "relationships",
          "domesticviolence",
          "ptsd",
          "domesticviolence",
          "ptsd",
          "ptsd",
          "ptsd",
          "domesticviolence",
          "relationships",
          "domesticviolence",
          "survivorsofabuse",
          "ptsd",
          "ptsd",
          "anxiety",
          "domesticviolence",
          "assistance",
          "survivorsofabuse",
          "anxiety",
          "anxiety",
          "homeless",
          "stress",
          "ptsd",
          "assistance",
          "assistance",
          "assistance",
          "assistance",
          "ptsd",
          "anxiety",
          "anxiety",
          "relationships",
          "anxiety",
          "relationships",
          "homeless",
          "ptsd",
          "almosthomeless",
          "homeless",
          "relationships",
          "domesticviolence",
          "almosthomeless",
          "relationships",
          "assistance",
          "almosthomeless",
          "survivorsofabuse",
          "anxiety",
          "anxiety",
          "anxiety",
          "ptsd",
          "assistance",
          "homeless",
          "domesticviolence",
          "stress",
          "relationships",
          "homeless",
          "homeless",
          "domesticviolence",
          "homeless",
          "assistance",
          "almosthomeless",
          "homeless",
          "anxiety",
          "anxiety",
          "domesticviolence",
          "relationships",
          "homeless",
          "survivorsofabuse",
          "anxiety",
          "survivorsofabuse",
          "ptsd",
          "survivorsofabuse",
          "anxiety",
          "ptsd",
          "ptsd",
          "stress",
          "relationships",
          "domesticviolence",
          "ptsd",
          "anxiety",
          "relationships",
          "domesticviolence",
          "survivorsofabuse",
          "homeless",
          "relationships",
          "ptsd",
          "relationships",
          "anxiety",
          "ptsd",
          "relationships",
          "almosthomeless",
          "relationships",
          "domesticviolence",
          "anxiety",
          "anxiety",
          "domesticviolence",
          "assistance",
          "ptsd",
          "ptsd",
          "ptsd",
          "relationships",
          "ptsd",
          "domesticviolence",
          "domesticviolence",
          "assistance",
          "ptsd",
          "relationships",
          "domesticviolence",
          "domesticviolence",
          "anxiety",
          "ptsd",
          "domesticviolence",
          "relationships",
          "almosthomeless",
          "relationships",
          "homeless",
          "anxiety",
          "ptsd",
          "stress",
          "domesticviolence",
          "anxiety",
          "domesticviolence",
          "ptsd",
          "survivorsofabuse",
          "ptsd",
          "survivorsofabuse",
          "anxiety",
          "assistance",
          "anxiety",
          "domesticviolence",
          "anxiety",
          "ptsd",
          "anxiety",
          "ptsd",
          "ptsd",
          "stress",
          "anxiety",
          "domesticviolence",
          "ptsd",
          "relationships",
          "survivorsofabuse",
          "homeless",
          "anxiety",
          "domesticviolence",
          "assistance",
          "anxiety",
          "domesticviolence",
          "stress",
          "ptsd",
          "ptsd",
          "relationships",
          "survivorsofabuse",
          "survivorsofabuse",
          "ptsd",
          "homeless",
          "anxiety",
          "homeless",
          "ptsd",
          "ptsd",
          "ptsd",
          "relationships",
          "domesticviolence",
          "almosthomeless",
          "stress",
          "anxiety",
          "anxiety",
          "homeless",
          "anxiety",
          "survivorsofabuse",
          "anxiety",
          "ptsd",
          "anxiety",
          "survivorsofabuse",
          "food_pantry",
          "relationships",
          "anxiety",
          "domesticviolence",
          "ptsd",
          "almosthomeless",
          "survivorsofabuse",
          "relationships",
          "survivorsofabuse",
          "relationships",
          "almosthomeless",
          "assistance",
          "relationships",
          "ptsd",
          "relationships",
          "ptsd",
          "homeless",
          "anxiety",
          "anxiety",
          "ptsd",
          "food_pantry",
          "ptsd",
          "ptsd",
          "relationships",
          "ptsd",
          "assistance",
          "ptsd",
          "assistance",
          "stress",
          "anxiety",
          "survivorsofabuse",
          "anxiety",
          "anxiety",
          "assistance",
          "domesticviolence",
          "domesticviolence",
          "assistance",
          "relationships",
          "anxiety",
          "domesticviolence",
          "assistance",
          "domesticviolence",
          "homeless",
          "anxiety",
          "almosthomeless",
          "ptsd",
          "homeless",
          "survivorsofabuse",
          "anxiety",
          "domesticviolence",
          "anxiety",
          "ptsd",
          "anxiety",
          "relationships",
          "domesticviolence",
          "survivorsofabuse",
          "anxiety",
          "domesticviolence",
          "ptsd",
          "stress",
          "food_pantry",
          "survivorsofabuse",
          "homeless",
          "ptsd",
          "ptsd",
          "anxiety",
          "relationships",
          "relationships",
          "relationships",
          "survivorsofabuse",
          "ptsd",
          "homeless",
          "anxiety",
          "survivorsofabuse",
          "survivorsofabuse",
          "ptsd",
          "relationships",
          "anxiety",
          "ptsd",
          "anxiety",
          "ptsd",
          "survivorsofabuse",
          "ptsd",
          "relationships",
          "ptsd",
          "ptsd",
          "food_pantry",
          "anxiety",
          "anxiety",
          "domesticviolence",
          "domesticviolence",
          "relationships",
          "domesticviolence",
          "homeless",
          "anxiety",
          "anxiety",
          "ptsd",
          "ptsd",
          "ptsd",
          "ptsd",
          "almosthomeless",
          "ptsd",
          "anxiety",
          "ptsd",
          "relationships",
          "ptsd",
          "domesticviolence",
          "survivorsofabuse",
          "homeless",
          "ptsd",
          "anxiety",
          "ptsd",
          "relationships",
          "relationships",
          "survivorsofabuse",
          "relationships",
          "survivorsofabuse",
          "ptsd",
          "relationships",
          "ptsd",
          "ptsd",
          "relationships",
          "ptsd",
          "domesticviolence",
          "relationships",
          "ptsd",
          "ptsd",
          "relationships",
          "anxiety",
          "ptsd",
          "assistance",
          "homeless",
          "assistance",
          "anxiety",
          "domesticviolence",
          "survivorsofabuse",
          "ptsd",
          "domesticviolence",
          "anxiety",
          "ptsd",
          "anxiety",
          "ptsd",
          "ptsd",
          "anxiety",
          "domesticviolence",
          "homeless",
          "relationships",
          "domesticviolence",
          "domesticviolence",
          "ptsd",
          "anxiety",
          "stress",
          "anxiety",
          "ptsd",
          "anxiety",
          "relationships",
          "relationships",
          "stress",
          "anxiety",
          "anxiety",
          "anxiety",
          "domesticviolence",
          "domesticviolence",
          "ptsd",
          "domesticviolence",
          "domesticviolence",
          "anxiety",
          "relationships",
          "anxiety",
          "homeless",
          "anxiety",
          "ptsd",
          "homeless",
          "ptsd",
          "ptsd",
          "anxiety",
          "ptsd",
          "ptsd",
          "domesticviolence",
          "anxiety",
          "anxiety",
          "relationships",
          "domesticviolence",
          "ptsd",
          "survivorsofabuse",
          "survivorsofabuse",
          "relationships",
          "assistance",
          "anxiety",
          "relationships",
          "ptsd",
          "almosthomeless",
          "anxiety",
          "ptsd",
          "ptsd",
          "domesticviolence",
          "survivorsofabuse",
          "relationships",
          "ptsd",
          "stress",
          "food_pantry",
          "assistance",
          "relationships",
          "domesticviolence",
          "stress",
          "anxiety",
          "anxiety",
          "domesticviolence",
          "ptsd",
          "anxiety",
          "anxiety",
          "ptsd",
          "anxiety",
          "domesticviolence",
          "survivorsofabuse",
          "stress",
          "assistance",
          "almosthomeless",
          "homeless",
          "assistance",
          "survivorsofabuse",
          "food_pantry",
          "relationships",
          "ptsd",
          "domesticviolence",
          "anxiety",
          "domesticviolence",
          "assistance",
          "domesticviolence",
          "anxiety",
          "assistance",
          "anxiety",
          "ptsd",
          "survivorsofabuse",
          "anxiety",
          "assistance",
          "domesticviolence",
          "anxiety",
          "ptsd",
          "ptsd",
          "assistance",
          "domesticviolence",
          "anxiety",
          "domesticviolence",
          "assistance",
          "anxiety",
          "almosthomeless",
          "ptsd",
          "almosthomeless",
          "domesticviolence",
          "anxiety",
          "anxiety",
          "relationships",
          "assistance",
          "anxiety",
          "assistance",
          "relationships",
          "anxiety",
          "relationships",
          "homeless",
          "anxiety",
          "relationships",
          "domesticviolence",
          "anxiety",
          "anxiety",
          "food_pantry",
          "domesticviolence",
          "survivorsofabuse",
          "anxiety",
          "relationships",
          "domesticviolence",
          "relationships",
          "ptsd",
          "anxiety",
          "ptsd",
          "anxiety",
          "almosthomeless",
          "relationships",
          "ptsd",
          "domesticviolence",
          "ptsd",
          "almosthomeless",
          "anxiety",
          "anxiety",
          "ptsd",
          "homeless",
          "domesticviolence",
          "relationships",
          "anxiety",
          "anxiety",
          "relationships",
          "anxiety",
          "domesticviolence",
          "domesticviolence",
          "relationships",
          "survivorsofabuse",
          "domesticviolence",
          "relationships",
          "anxiety",
          "ptsd",
          "almosthomeless",
          "relationships",
          "domesticviolence",
          "relationships",
          "anxiety",
          "survivorsofabuse",
          "domesticviolence",
          "food_pantry",
          "domesticviolence",
          "survivorsofabuse",
          "survivorsofabuse",
          "relationships",
          "relationships",
          "relationships",
          "ptsd",
          "almosthomeless",
          "ptsd",
          "domesticviolence",
          "anxiety",
          "ptsd",
          "anxiety",
          "anxiety",
          "relationships",
          "ptsd",
          "anxiety",
          "anxiety",
          "ptsd",
          "ptsd",
          "homeless",
          "almosthomeless",
          "ptsd",
          "ptsd",
          "domesticviolence",
          "almosthomeless",
          "ptsd",
          "anxiety",
          "ptsd",
          "domesticviolence",
          "survivorsofabuse",
          "ptsd",
          "almosthomeless",
          "anxiety",
          "ptsd",
          "ptsd",
          "ptsd",
          "ptsd",
          "ptsd",
          "anxiety",
          "relationships",
          "almosthomeless",
          "homeless",
          "anxiety",
          "relationships",
          "anxiety",
          "almosthomeless",
          "ptsd",
          "relationships",
          "domesticviolence",
          "homeless",
          "relationships",
          "survivorsofabuse",
          "almosthomeless",
          "domesticviolence",
          "anxiety",
          "survivorsofabuse",
          "relationships",
          "assistance",
          "ptsd",
          "domesticviolence",
          "ptsd",
          "relationships",
          "anxiety",
          "relationships",
          "assistance",
          "ptsd",
          "survivorsofabuse",
          "domesticviolence",
          "ptsd",
          "survivorsofabuse",
          "ptsd",
          "anxiety",
          "ptsd",
          "survivorsofabuse",
          "ptsd",
          "relationships",
          "ptsd",
          "domesticviolence",
          "assistance",
          "domesticviolence",
          "anxiety",
          "anxiety",
          "relationships",
          "ptsd",
          "anxiety",
          "anxiety",
          "ptsd",
          "domesticviolence",
          "anxiety",
          "domesticviolence",
          "survivorsofabuse",
          "domesticviolence",
          "anxiety",
          "relationships",
          "relationships",
          "ptsd",
          "relationships",
          "relationships",
          "domesticviolence",
          "relationships",
          "domesticviolence",
          "ptsd",
          "relationships",
          "ptsd",
          "domesticviolence",
          "anxiety",
          "relationships",
          "anxiety",
          "ptsd",
          "ptsd",
          "assistance",
          "anxiety",
          "domesticviolence",
          "anxiety",
          "anxiety",
          "survivorsofabuse",
          "assistance",
          "anxiety",
          "domesticviolence",
          "ptsd",
          "domesticviolence",
          "assistance",
          "ptsd",
          "almosthomeless",
          "ptsd",
          "homeless",
          "anxiety",
          "domesticviolence",
          "almosthomeless",
          "ptsd",
          "ptsd",
          "anxiety",
          "relationships",
          "anxiety",
          "anxiety",
          "relationships",
          "survivorsofabuse",
          "domesticviolence",
          "domesticviolence",
          "relationships",
          "ptsd",
          "anxiety",
          "survivorsofabuse",
          "relationships",
          "ptsd",
          "assistance",
          "ptsd",
          "relationships",
          "relationships",
          "ptsd",
          "ptsd",
          "domesticviolence",
          "anxiety",
          "ptsd",
          "relationships",
          "anxiety",
          "ptsd",
          "relationships",
          "anxiety",
          "ptsd",
          "anxiety",
          "anxiety",
          "anxiety",
          "almosthomeless",
          "anxiety",
          "domesticviolence",
          "relationships",
          "domesticviolence",
          "anxiety",
          "relationships",
          "ptsd",
          "ptsd"
         ],
         "xaxis": "x",
         "yaxis": "y"
        },
        {
         "alignmentgroup": "True",
         "bingroup": "x",
         "hovertemplate": "Label=No Stress<br>Subreddit=%{x}<br>count=%{y}<extra></extra>",
         "legendgroup": "No Stress",
         "marker": {
          "color": "#EF553B",
          "pattern": {
           "shape": ""
          }
         },
         "name": "No Stress",
         "nbinsx": 50,
         "offsetgroup": "No Stress",
         "orientation": "v",
         "showlegend": true,
         "textposition": "outside",
         "texttemplate": "%{y}",
         "type": "histogram",
         "x": [
          "assistance",
          "domesticviolence",
          "assistance",
          "relationships",
          "survivorsofabuse",
          "ptsd",
          "survivorsofabuse",
          "relationships",
          "ptsd",
          "stress",
          "anxiety",
          "survivorsofabuse",
          "ptsd",
          "anxiety",
          "anxiety",
          "ptsd",
          "assistance",
          "homeless",
          "domesticviolence",
          "ptsd",
          "domesticviolence",
          "ptsd",
          "ptsd",
          "anxiety",
          "ptsd",
          "relationships",
          "ptsd",
          "relationships",
          "homeless",
          "assistance",
          "relationships",
          "relationships",
          "assistance",
          "relationships",
          "assistance",
          "stress",
          "anxiety",
          "domesticviolence",
          "assistance",
          "ptsd",
          "survivorsofabuse",
          "ptsd",
          "ptsd",
          "relationships",
          "homeless",
          "assistance",
          "ptsd",
          "domesticviolence",
          "relationships",
          "ptsd",
          "homeless",
          "anxiety",
          "assistance",
          "relationships",
          "relationships",
          "ptsd",
          "anxiety",
          "anxiety",
          "assistance",
          "relationships",
          "almosthomeless",
          "domesticviolence",
          "ptsd",
          "relationships",
          "ptsd",
          "assistance",
          "homeless",
          "anxiety",
          "food_pantry",
          "domesticviolence",
          "anxiety",
          "anxiety",
          "anxiety",
          "relationships",
          "survivorsofabuse",
          "assistance",
          "anxiety",
          "survivorsofabuse",
          "food_pantry",
          "ptsd",
          "domesticviolence",
          "almosthomeless",
          "anxiety",
          "domesticviolence",
          "survivorsofabuse",
          "domesticviolence",
          "assistance",
          "assistance",
          "ptsd",
          "homeless",
          "relationships",
          "domesticviolence",
          "ptsd",
          "domesticviolence",
          "ptsd",
          "homeless",
          "anxiety",
          "domesticviolence",
          "assistance",
          "domesticviolence",
          "anxiety",
          "anxiety",
          "ptsd",
          "assistance",
          "relationships",
          "relationships",
          "ptsd",
          "homeless",
          "stress",
          "relationships",
          "survivorsofabuse",
          "almosthomeless",
          "anxiety",
          "relationships",
          "ptsd",
          "homeless",
          "anxiety",
          "relationships",
          "assistance",
          "anxiety",
          "assistance",
          "almosthomeless",
          "almosthomeless",
          "anxiety",
          "anxiety",
          "domesticviolence",
          "ptsd",
          "domesticviolence",
          "ptsd",
          "anxiety",
          "relationships",
          "ptsd",
          "domesticviolence",
          "domesticviolence",
          "ptsd",
          "domesticviolence",
          "domesticviolence",
          "relationships",
          "survivorsofabuse",
          "relationships",
          "assistance",
          "survivorsofabuse",
          "assistance",
          "ptsd",
          "ptsd",
          "ptsd",
          "ptsd",
          "relationships",
          "relationships",
          "relationships",
          "homeless",
          "survivorsofabuse",
          "homeless",
          "anxiety",
          "domesticviolence",
          "ptsd",
          "relationships",
          "ptsd",
          "ptsd",
          "assistance",
          "assistance",
          "anxiety",
          "homeless",
          "ptsd",
          "relationships",
          "ptsd",
          "homeless",
          "homeless",
          "homeless",
          "ptsd",
          "domesticviolence",
          "survivorsofabuse",
          "anxiety",
          "relationships",
          "survivorsofabuse",
          "homeless",
          "ptsd",
          "assistance",
          "ptsd",
          "assistance",
          "anxiety",
          "domesticviolence",
          "anxiety",
          "relationships",
          "homeless",
          "anxiety",
          "relationships",
          "relationships",
          "relationships",
          "relationships",
          "ptsd",
          "relationships",
          "assistance",
          "anxiety",
          "anxiety",
          "survivorsofabuse",
          "ptsd",
          "survivorsofabuse",
          "assistance",
          "relationships",
          "relationships",
          "assistance",
          "assistance",
          "relationships",
          "domesticviolence",
          "anxiety",
          "stress",
          "relationships",
          "homeless",
          "domesticviolence",
          "assistance",
          "relationships",
          "anxiety",
          "ptsd",
          "ptsd",
          "ptsd",
          "anxiety",
          "survivorsofabuse",
          "survivorsofabuse",
          "survivorsofabuse",
          "domesticviolence",
          "relationships",
          "homeless",
          "anxiety",
          "domesticviolence",
          "relationships",
          "domesticviolence",
          "relationships",
          "homeless",
          "food_pantry",
          "survivorsofabuse",
          "relationships",
          "almosthomeless",
          "ptsd",
          "relationships",
          "assistance",
          "relationships",
          "homeless",
          "relationships",
          "assistance",
          "ptsd",
          "assistance",
          "anxiety",
          "ptsd",
          "ptsd",
          "homeless",
          "anxiety",
          "food_pantry",
          "assistance",
          "relationships",
          "ptsd",
          "survivorsofabuse",
          "domesticviolence",
          "assistance",
          "relationships",
          "relationships",
          "relationships",
          "ptsd",
          "food_pantry",
          "survivorsofabuse",
          "relationships",
          "anxiety",
          "ptsd",
          "food_pantry",
          "relationships",
          "ptsd",
          "domesticviolence",
          "domesticviolence",
          "relationships",
          "ptsd",
          "ptsd",
          "assistance",
          "relationships",
          "relationships",
          "domesticviolence",
          "homeless",
          "ptsd",
          "assistance",
          "ptsd",
          "relationships",
          "food_pantry",
          "ptsd",
          "assistance",
          "food_pantry",
          "relationships",
          "anxiety",
          "domesticviolence",
          "survivorsofabuse",
          "food_pantry",
          "homeless",
          "relationships",
          "ptsd",
          "homeless",
          "survivorsofabuse",
          "ptsd",
          "survivorsofabuse",
          "ptsd",
          "anxiety",
          "relationships",
          "assistance",
          "ptsd",
          "ptsd",
          "relationships",
          "relationships",
          "assistance",
          "relationships",
          "ptsd",
          "anxiety",
          "ptsd",
          "relationships",
          "relationships",
          "domesticviolence",
          "relationships",
          "anxiety",
          "ptsd",
          "survivorsofabuse",
          "relationships",
          "assistance",
          "ptsd",
          "relationships",
          "domesticviolence",
          "assistance",
          "ptsd",
          "domesticviolence",
          "ptsd",
          "relationships",
          "relationships",
          "ptsd",
          "domesticviolence",
          "ptsd",
          "anxiety",
          "assistance",
          "survivorsofabuse",
          "assistance",
          "homeless",
          "anxiety",
          "survivorsofabuse",
          "survivorsofabuse",
          "relationships",
          "ptsd",
          "ptsd",
          "ptsd",
          "relationships",
          "domesticviolence",
          "domesticviolence",
          "homeless",
          "food_pantry",
          "domesticviolence",
          "homeless",
          "relationships",
          "almosthomeless",
          "relationships",
          "survivorsofabuse",
          "assistance",
          "ptsd",
          "ptsd",
          "assistance",
          "relationships",
          "anxiety",
          "ptsd",
          "ptsd",
          "homeless",
          "survivorsofabuse",
          "survivorsofabuse",
          "relationships",
          "assistance",
          "relationships",
          "survivorsofabuse",
          "ptsd",
          "anxiety",
          "domesticviolence",
          "relationships",
          "relationships",
          "anxiety",
          "anxiety",
          "ptsd",
          "ptsd",
          "relationships",
          "survivorsofabuse",
          "ptsd",
          "relationships",
          "relationships",
          "anxiety",
          "anxiety",
          "relationships",
          "relationships",
          "assistance",
          "relationships",
          "domesticviolence",
          "assistance",
          "anxiety",
          "survivorsofabuse",
          "relationships",
          "homeless",
          "domesticviolence",
          "relationships",
          "anxiety",
          "anxiety",
          "domesticviolence",
          "relationships",
          "survivorsofabuse",
          "assistance",
          "ptsd",
          "assistance",
          "relationships",
          "survivorsofabuse",
          "survivorsofabuse",
          "relationships",
          "anxiety",
          "assistance",
          "domesticviolence",
          "domesticviolence",
          "survivorsofabuse",
          "relationships",
          "anxiety",
          "food_pantry",
          "domesticviolence",
          "assistance",
          "ptsd",
          "homeless",
          "anxiety",
          "relationships",
          "ptsd",
          "assistance",
          "relationships",
          "survivorsofabuse",
          "ptsd",
          "relationships",
          "relationships",
          "ptsd",
          "survivorsofabuse",
          "anxiety",
          "relationships",
          "relationships",
          "relationships",
          "relationships",
          "ptsd",
          "relationships",
          "domesticviolence",
          "assistance",
          "survivorsofabuse",
          "homeless",
          "relationships",
          "assistance",
          "homeless",
          "relationships",
          "survivorsofabuse",
          "survivorsofabuse",
          "ptsd",
          "domesticviolence",
          "anxiety",
          "ptsd",
          "assistance",
          "relationships",
          "ptsd",
          "anxiety",
          "assistance",
          "relationships",
          "anxiety",
          "relationships",
          "anxiety",
          "domesticviolence",
          "anxiety",
          "assistance",
          "stress",
          "survivorsofabuse",
          "ptsd",
          "almosthomeless",
          "ptsd",
          "ptsd",
          "assistance",
          "ptsd",
          "domesticviolence",
          "anxiety",
          "relationships",
          "anxiety",
          "assistance",
          "relationships",
          "stress",
          "homeless",
          "anxiety",
          "survivorsofabuse",
          "domesticviolence",
          "homeless",
          "relationships",
          "domesticviolence",
          "assistance",
          "ptsd",
          "almosthomeless",
          "anxiety",
          "relationships",
          "relationships",
          "homeless",
          "relationships",
          "homeless",
          "domesticviolence",
          "assistance",
          "relationships",
          "relationships",
          "homeless",
          "anxiety",
          "ptsd",
          "ptsd",
          "relationships",
          "relationships",
          "assistance",
          "ptsd",
          "relationships",
          "ptsd",
          "survivorsofabuse",
          "domesticviolence",
          "assistance",
          "stress",
          "ptsd",
          "ptsd",
          "ptsd",
          "relationships",
          "survivorsofabuse",
          "relationships",
          "assistance",
          "domesticviolence",
          "relationships",
          "ptsd",
          "assistance",
          "assistance",
          "homeless",
          "ptsd",
          "almosthomeless",
          "anxiety",
          "survivorsofabuse",
          "assistance",
          "relationships",
          "relationships",
          "almosthomeless",
          "almosthomeless",
          "assistance",
          "relationships",
          "domesticviolence",
          "relationships",
          "ptsd",
          "anxiety",
          "assistance",
          "assistance",
          "survivorsofabuse",
          "homeless",
          "almosthomeless",
          "anxiety",
          "relationships",
          "assistance",
          "relationships",
          "relationships",
          "relationships",
          "homeless",
          "homeless",
          "ptsd",
          "relationships",
          "anxiety",
          "anxiety",
          "almosthomeless",
          "survivorsofabuse",
          "ptsd",
          "anxiety",
          "relationships",
          "ptsd",
          "assistance",
          "ptsd",
          "relationships",
          "assistance",
          "domesticviolence",
          "ptsd",
          "domesticviolence",
          "relationships",
          "ptsd",
          "relationships",
          "anxiety",
          "relationships",
          "domesticviolence",
          "ptsd",
          "relationships",
          "assistance",
          "ptsd",
          "assistance",
          "assistance",
          "assistance",
          "assistance",
          "domesticviolence",
          "homeless",
          "ptsd",
          "ptsd",
          "ptsd",
          "ptsd",
          "ptsd",
          "ptsd",
          "assistance",
          "ptsd",
          "assistance",
          "relationships",
          "relationships",
          "ptsd",
          "survivorsofabuse",
          "assistance",
          "anxiety",
          "ptsd",
          "ptsd",
          "stress",
          "relationships",
          "relationships",
          "anxiety",
          "assistance",
          "stress",
          "assistance",
          "relationships",
          "survivorsofabuse",
          "relationships",
          "assistance",
          "anxiety",
          "assistance",
          "survivorsofabuse",
          "homeless",
          "anxiety",
          "ptsd",
          "stress",
          "homeless",
          "food_pantry",
          "almosthomeless",
          "ptsd",
          "anxiety",
          "homeless",
          "relationships",
          "anxiety",
          "stress",
          "ptsd",
          "assistance",
          "homeless",
          "anxiety",
          "domesticviolence",
          "ptsd",
          "ptsd",
          "ptsd",
          "ptsd",
          "survivorsofabuse",
          "ptsd",
          "ptsd",
          "stress",
          "ptsd",
          "ptsd",
          "domesticviolence",
          "survivorsofabuse",
          "domesticviolence",
          "ptsd",
          "food_pantry",
          "relationships",
          "survivorsofabuse",
          "relationships",
          "ptsd",
          "relationships",
          "food_pantry",
          "relationships",
          "anxiety",
          "survivorsofabuse",
          "homeless",
          "ptsd",
          "survivorsofabuse",
          "stress",
          "food_pantry",
          "relationships",
          "ptsd",
          "ptsd",
          "relationships",
          "ptsd",
          "anxiety",
          "assistance",
          "ptsd",
          "relationships",
          "ptsd",
          "survivorsofabuse",
          "relationships",
          "relationships",
          "relationships",
          "homeless",
          "domesticviolence",
          "ptsd",
          "relationships",
          "relationships",
          "relationships",
          "homeless",
          "domesticviolence",
          "relationships",
          "assistance",
          "assistance",
          "relationships",
          "domesticviolence",
          "relationships",
          "anxiety",
          "relationships",
          "relationships",
          "food_pantry",
          "anxiety",
          "assistance",
          "homeless",
          "anxiety",
          "ptsd",
          "anxiety",
          "domesticviolence",
          "domesticviolence",
          "food_pantry",
          "homeless",
          "relationships",
          "homeless",
          "ptsd",
          "relationships",
          "anxiety",
          "anxiety",
          "ptsd",
          "relationships",
          "anxiety",
          "relationships",
          "assistance",
          "anxiety",
          "domesticviolence",
          "assistance",
          "survivorsofabuse",
          "assistance",
          "relationships",
          "relationships",
          "ptsd",
          "ptsd",
          "assistance",
          "ptsd",
          "ptsd",
          "homeless",
          "ptsd",
          "assistance",
          "ptsd",
          "assistance",
          "relationships",
          "anxiety",
          "ptsd",
          "relationships",
          "homeless",
          "relationships",
          "ptsd",
          "assistance",
          "survivorsofabuse",
          "assistance",
          "relationships",
          "homeless",
          "relationships",
          "anxiety",
          "anxiety",
          "survivorsofabuse",
          "relationships",
          "survivorsofabuse",
          "survivorsofabuse",
          "ptsd",
          "ptsd",
          "domesticviolence",
          "relationships",
          "anxiety",
          "survivorsofabuse",
          "homeless",
          "relationships",
          "survivorsofabuse",
          "ptsd",
          "ptsd",
          "homeless",
          "homeless",
          "homeless",
          "domesticviolence",
          "almosthomeless",
          "anxiety",
          "homeless",
          "domesticviolence",
          "ptsd",
          "assistance",
          "anxiety",
          "anxiety",
          "assistance",
          "assistance",
          "relationships",
          "relationships",
          "assistance",
          "anxiety",
          "ptsd",
          "ptsd",
          "domesticviolence",
          "survivorsofabuse",
          "relationships",
          "stress",
          "ptsd",
          "ptsd",
          "relationships",
          "anxiety",
          "domesticviolence",
          "relationships",
          "anxiety",
          "stress",
          "relationships",
          "anxiety",
          "homeless",
          "ptsd",
          "domesticviolence",
          "ptsd",
          "anxiety",
          "anxiety",
          "relationships",
          "almosthomeless",
          "survivorsofabuse",
          "survivorsofabuse",
          "relationships",
          "ptsd",
          "homeless",
          "homeless",
          "relationships",
          "anxiety",
          "survivorsofabuse",
          "ptsd",
          "survivorsofabuse",
          "stress",
          "anxiety",
          "assistance",
          "relationships",
          "relationships",
          "homeless",
          "homeless",
          "domesticviolence",
          "homeless",
          "survivorsofabuse",
          "assistance",
          "survivorsofabuse",
          "almosthomeless",
          "stress",
          "assistance",
          "ptsd",
          "homeless",
          "homeless",
          "ptsd",
          "ptsd",
          "relationships",
          "survivorsofabuse",
          "ptsd",
          "homeless",
          "anxiety",
          "ptsd",
          "survivorsofabuse",
          "relationships",
          "homeless",
          "survivorsofabuse",
          "domesticviolence",
          "survivorsofabuse",
          "anxiety",
          "ptsd",
          "ptsd",
          "survivorsofabuse",
          "relationships",
          "domesticviolence",
          "homeless",
          "ptsd",
          "relationships",
          "assistance",
          "anxiety",
          "relationships",
          "relationships",
          "homeless",
          "relationships",
          "ptsd",
          "relationships",
          "homeless",
          "relationships",
          "relationships",
          "assistance",
          "assistance",
          "ptsd",
          "survivorsofabuse",
          "almosthomeless",
          "survivorsofabuse",
          "anxiety",
          "homeless",
          "anxiety",
          "assistance",
          "survivorsofabuse",
          "relationships",
          "homeless",
          "relationships",
          "relationships",
          "survivorsofabuse",
          "almosthomeless",
          "ptsd",
          "relationships",
          "relationships",
          "domesticviolence",
          "survivorsofabuse",
          "assistance",
          "anxiety",
          "homeless",
          "assistance",
          "anxiety",
          "homeless",
          "assistance",
          "relationships",
          "homeless",
          "survivorsofabuse",
          "domesticviolence",
          "relationships",
          "domesticviolence",
          "survivorsofabuse",
          "relationships",
          "survivorsofabuse",
          "ptsd",
          "homeless",
          "assistance",
          "homeless",
          "domesticviolence",
          "ptsd",
          "homeless",
          "domesticviolence",
          "ptsd",
          "relationships",
          "assistance",
          "homeless",
          "assistance",
          "homeless",
          "anxiety",
          "survivorsofabuse",
          "domesticviolence",
          "relationships",
          "relationships",
          "relationships",
          "relationships",
          "relationships",
          "ptsd",
          "domesticviolence",
          "survivorsofabuse",
          "ptsd",
          "relationships",
          "relationships",
          "domesticviolence",
          "relationships",
          "assistance",
          "stress",
          "survivorsofabuse",
          "relationships",
          "relationships",
          "ptsd",
          "ptsd",
          "anxiety",
          "ptsd",
          "relationships",
          "anxiety",
          "relationships",
          "ptsd",
          "assistance",
          "anxiety",
          "ptsd",
          "assistance",
          "assistance",
          "assistance",
          "assistance",
          "relationships",
          "survivorsofabuse",
          "domesticviolence",
          "ptsd",
          "almosthomeless",
          "ptsd",
          "anxiety",
          "assistance",
          "anxiety",
          "relationships",
          "relationships",
          "homeless",
          "ptsd",
          "ptsd",
          "survivorsofabuse",
          "anxiety",
          "assistance",
          "assistance",
          "homeless",
          "homeless",
          "domesticviolence",
          "survivorsofabuse",
          "homeless",
          "assistance",
          "ptsd",
          "assistance",
          "anxiety",
          "relationships",
          "relationships",
          "relationships",
          "anxiety",
          "domesticviolence",
          "relationships",
          "anxiety",
          "domesticviolence",
          "anxiety",
          "survivorsofabuse",
          "homeless",
          "ptsd",
          "ptsd",
          "homeless",
          "ptsd",
          "relationships",
          "homeless",
          "relationships",
          "survivorsofabuse",
          "relationships",
          "survivorsofabuse",
          "stress",
          "assistance",
          "survivorsofabuse",
          "relationships",
          "survivorsofabuse",
          "anxiety",
          "homeless",
          "anxiety",
          "relationships",
          "relationships",
          "ptsd",
          "assistance",
          "relationships",
          "survivorsofabuse",
          "survivorsofabuse",
          "relationships",
          "almosthomeless",
          "relationships",
          "relationships",
          "anxiety",
          "relationships",
          "stress",
          "ptsd",
          "ptsd",
          "relationships",
          "relationships",
          "assistance",
          "relationships",
          "assistance",
          "assistance",
          "anxiety",
          "assistance",
          "anxiety",
          "relationships",
          "assistance",
          "relationships",
          "ptsd",
          "relationships",
          "homeless",
          "relationships",
          "relationships",
          "almosthomeless",
          "relationships",
          "relationships",
          "relationships",
          "stress",
          "domesticviolence",
          "ptsd",
          "relationships",
          "relationships",
          "survivorsofabuse",
          "assistance",
          "survivorsofabuse",
          "relationships",
          "anxiety",
          "stress",
          "anxiety",
          "assistance",
          "ptsd",
          "ptsd",
          "assistance",
          "ptsd",
          "relationships",
          "stress",
          "survivorsofabuse",
          "ptsd",
          "assistance",
          "survivorsofabuse",
          "relationships",
          "survivorsofabuse",
          "relationships",
          "survivorsofabuse",
          "assistance",
          "ptsd",
          "ptsd",
          "anxiety",
          "ptsd",
          "almosthomeless",
          "assistance",
          "relationships",
          "survivorsofabuse",
          "anxiety",
          "relationships",
          "ptsd",
          "anxiety",
          "relationships",
          "assistance",
          "homeless",
          "domesticviolence",
          "food_pantry",
          "survivorsofabuse",
          "almosthomeless",
          "homeless",
          "assistance",
          "domesticviolence",
          "homeless",
          "relationships",
          "relationships",
          "ptsd",
          "ptsd",
          "relationships",
          "anxiety",
          "relationships",
          "ptsd",
          "relationships",
          "relationships",
          "domesticviolence",
          "assistance",
          "ptsd",
          "assistance",
          "anxiety",
          "anxiety",
          "homeless",
          "assistance",
          "ptsd",
          "assistance",
          "anxiety",
          "relationships",
          "ptsd",
          "ptsd",
          "assistance",
          "anxiety",
          "ptsd",
          "ptsd",
          "relationships",
          "relationships",
          "assistance",
          "anxiety",
          "anxiety",
          "relationships",
          "stress",
          "relationships",
          "almosthomeless",
          "relationships",
          "relationships",
          "assistance",
          "domesticviolence",
          "anxiety",
          "survivorsofabuse",
          "ptsd",
          "relationships",
          "assistance",
          "relationships",
          "domesticviolence",
          "domesticviolence",
          "survivorsofabuse",
          "survivorsofabuse",
          "anxiety",
          "survivorsofabuse",
          "ptsd",
          "relationships",
          "relationships",
          "anxiety",
          "relationships",
          "assistance",
          "ptsd",
          "relationships",
          "ptsd",
          "anxiety",
          "survivorsofabuse",
          "relationships",
          "assistance",
          "survivorsofabuse",
          "relationships",
          "relationships",
          "relationships",
          "anxiety",
          "anxiety",
          "domesticviolence",
          "homeless",
          "survivorsofabuse",
          "relationships",
          "stress",
          "assistance",
          "relationships",
          "homeless",
          "domesticviolence",
          "homeless",
          "relationships",
          "relationships",
          "food_pantry",
          "anxiety",
          "food_pantry",
          "survivorsofabuse",
          "assistance",
          "ptsd",
          "anxiety",
          "survivorsofabuse",
          "relationships",
          "food_pantry",
          "domesticviolence",
          "relationships",
          "almosthomeless",
          "relationships",
          "assistance",
          "survivorsofabuse",
          "almosthomeless",
          "relationships",
          "relationships",
          "survivorsofabuse",
          "anxiety",
          "assistance",
          "domesticviolence",
          "ptsd",
          "stress",
          "relationships",
          "assistance",
          "survivorsofabuse",
          "ptsd",
          "survivorsofabuse",
          "ptsd",
          "assistance",
          "survivorsofabuse",
          "assistance",
          "survivorsofabuse",
          "domesticviolence",
          "anxiety",
          "assistance",
          "assistance",
          "assistance",
          "homeless",
          "assistance",
          "ptsd",
          "anxiety",
          "relationships",
          "relationships",
          "anxiety",
          "anxiety",
          "relationships",
          "assistance",
          "stress",
          "anxiety",
          "ptsd",
          "survivorsofabuse",
          "domesticviolence",
          "survivorsofabuse",
          "food_pantry",
          "anxiety",
          "ptsd",
          "relationships",
          "homeless",
          "assistance",
          "domesticviolence",
          "assistance",
          "homeless",
          "relationships",
          "assistance",
          "food_pantry",
          "relationships",
          "survivorsofabuse",
          "stress",
          "assistance",
          "anxiety",
          "assistance",
          "anxiety",
          "domesticviolence",
          "assistance",
          "relationships",
          "almosthomeless",
          "assistance",
          "assistance",
          "assistance",
          "ptsd",
          "ptsd",
          "ptsd",
          "relationships",
          "anxiety",
          "anxiety",
          "anxiety",
          "ptsd",
          "ptsd",
          "survivorsofabuse",
          "ptsd",
          "assistance",
          "ptsd",
          "anxiety",
          "anxiety",
          "relationships",
          "ptsd",
          "assistance",
          "assistance",
          "ptsd",
          "survivorsofabuse",
          "relationships",
          "homeless",
          "ptsd",
          "assistance",
          "domesticviolence",
          "relationships",
          "relationships",
          "survivorsofabuse",
          "survivorsofabuse",
          "almosthomeless",
          "ptsd",
          "ptsd",
          "ptsd",
          "ptsd",
          "survivorsofabuse",
          "assistance",
          "survivorsofabuse",
          "ptsd",
          "almosthomeless",
          "anxiety",
          "domesticviolence",
          "anxiety",
          "almosthomeless",
          "ptsd",
          "relationships",
          "anxiety",
          "homeless",
          "relationships",
          "domesticviolence",
          "survivorsofabuse",
          "ptsd",
          "ptsd",
          "anxiety",
          "assistance",
          "anxiety",
          "relationships",
          "relationships",
          "ptsd",
          "domesticviolence",
          "ptsd",
          "anxiety",
          "stress",
          "survivorsofabuse",
          "domesticviolence",
          "domesticviolence",
          "assistance",
          "ptsd",
          "anxiety",
          "anxiety",
          "assistance",
          "assistance",
          "domesticviolence",
          "ptsd",
          "relationships",
          "domesticviolence",
          "assistance",
          "assistance",
          "relationships",
          "relationships",
          "anxiety",
          "almosthomeless"
         ],
         "xaxis": "x",
         "yaxis": "y"
        }
       ],
       "layout": {
        "autosize": true,
        "barmode": "relative",
        "legend": {
         "title": {
          "text": "Label"
         },
         "tracegroupgap": 0
        },
        "template": {
         "data": {
          "bar": [
           {
            "error_x": {
             "color": "#2a3f5f"
            },
            "error_y": {
             "color": "#2a3f5f"
            },
            "marker": {
             "line": {
              "color": "#E5ECF6",
              "width": 0.5
             },
             "pattern": {
              "fillmode": "overlay",
              "size": 10,
              "solidity": 0.2
             }
            },
            "type": "bar"
           }
          ],
          "barpolar": [
           {
            "marker": {
             "line": {
              "color": "#E5ECF6",
              "width": 0.5
             },
             "pattern": {
              "fillmode": "overlay",
              "size": 10,
              "solidity": 0.2
             }
            },
            "type": "barpolar"
           }
          ],
          "carpet": [
           {
            "aaxis": {
             "endlinecolor": "#2a3f5f",
             "gridcolor": "white",
             "linecolor": "white",
             "minorgridcolor": "white",
             "startlinecolor": "#2a3f5f"
            },
            "baxis": {
             "endlinecolor": "#2a3f5f",
             "gridcolor": "white",
             "linecolor": "white",
             "minorgridcolor": "white",
             "startlinecolor": "#2a3f5f"
            },
            "type": "carpet"
           }
          ],
          "choropleth": [
           {
            "colorbar": {
             "outlinewidth": 0,
             "ticks": ""
            },
            "type": "choropleth"
           }
          ],
          "contour": [
           {
            "colorbar": {
             "outlinewidth": 0,
             "ticks": ""
            },
            "colorscale": [
             [
              0,
              "#0d0887"
             ],
             [
              0.1111111111111111,
              "#46039f"
             ],
             [
              0.2222222222222222,
              "#7201a8"
             ],
             [
              0.3333333333333333,
              "#9c179e"
             ],
             [
              0.4444444444444444,
              "#bd3786"
             ],
             [
              0.5555555555555556,
              "#d8576b"
             ],
             [
              0.6666666666666666,
              "#ed7953"
             ],
             [
              0.7777777777777778,
              "#fb9f3a"
             ],
             [
              0.8888888888888888,
              "#fdca26"
             ],
             [
              1,
              "#f0f921"
             ]
            ],
            "type": "contour"
           }
          ],
          "contourcarpet": [
           {
            "colorbar": {
             "outlinewidth": 0,
             "ticks": ""
            },
            "type": "contourcarpet"
           }
          ],
          "heatmap": [
           {
            "colorbar": {
             "outlinewidth": 0,
             "ticks": ""
            },
            "colorscale": [
             [
              0,
              "#0d0887"
             ],
             [
              0.1111111111111111,
              "#46039f"
             ],
             [
              0.2222222222222222,
              "#7201a8"
             ],
             [
              0.3333333333333333,
              "#9c179e"
             ],
             [
              0.4444444444444444,
              "#bd3786"
             ],
             [
              0.5555555555555556,
              "#d8576b"
             ],
             [
              0.6666666666666666,
              "#ed7953"
             ],
             [
              0.7777777777777778,
              "#fb9f3a"
             ],
             [
              0.8888888888888888,
              "#fdca26"
             ],
             [
              1,
              "#f0f921"
             ]
            ],
            "type": "heatmap"
           }
          ],
          "heatmapgl": [
           {
            "colorbar": {
             "outlinewidth": 0,
             "ticks": ""
            },
            "colorscale": [
             [
              0,
              "#0d0887"
             ],
             [
              0.1111111111111111,
              "#46039f"
             ],
             [
              0.2222222222222222,
              "#7201a8"
             ],
             [
              0.3333333333333333,
              "#9c179e"
             ],
             [
              0.4444444444444444,
              "#bd3786"
             ],
             [
              0.5555555555555556,
              "#d8576b"
             ],
             [
              0.6666666666666666,
              "#ed7953"
             ],
             [
              0.7777777777777778,
              "#fb9f3a"
             ],
             [
              0.8888888888888888,
              "#fdca26"
             ],
             [
              1,
              "#f0f921"
             ]
            ],
            "type": "heatmapgl"
           }
          ],
          "histogram": [
           {
            "marker": {
             "pattern": {
              "fillmode": "overlay",
              "size": 10,
              "solidity": 0.2
             }
            },
            "type": "histogram"
           }
          ],
          "histogram2d": [
           {
            "colorbar": {
             "outlinewidth": 0,
             "ticks": ""
            },
            "colorscale": [
             [
              0,
              "#0d0887"
             ],
             [
              0.1111111111111111,
              "#46039f"
             ],
             [
              0.2222222222222222,
              "#7201a8"
             ],
             [
              0.3333333333333333,
              "#9c179e"
             ],
             [
              0.4444444444444444,
              "#bd3786"
             ],
             [
              0.5555555555555556,
              "#d8576b"
             ],
             [
              0.6666666666666666,
              "#ed7953"
             ],
             [
              0.7777777777777778,
              "#fb9f3a"
             ],
             [
              0.8888888888888888,
              "#fdca26"
             ],
             [
              1,
              "#f0f921"
             ]
            ],
            "type": "histogram2d"
           }
          ],
          "histogram2dcontour": [
           {
            "colorbar": {
             "outlinewidth": 0,
             "ticks": ""
            },
            "colorscale": [
             [
              0,
              "#0d0887"
             ],
             [
              0.1111111111111111,
              "#46039f"
             ],
             [
              0.2222222222222222,
              "#7201a8"
             ],
             [
              0.3333333333333333,
              "#9c179e"
             ],
             [
              0.4444444444444444,
              "#bd3786"
             ],
             [
              0.5555555555555556,
              "#d8576b"
             ],
             [
              0.6666666666666666,
              "#ed7953"
             ],
             [
              0.7777777777777778,
              "#fb9f3a"
             ],
             [
              0.8888888888888888,
              "#fdca26"
             ],
             [
              1,
              "#f0f921"
             ]
            ],
            "type": "histogram2dcontour"
           }
          ],
          "mesh3d": [
           {
            "colorbar": {
             "outlinewidth": 0,
             "ticks": ""
            },
            "type": "mesh3d"
           }
          ],
          "parcoords": [
           {
            "line": {
             "colorbar": {
              "outlinewidth": 0,
              "ticks": ""
             }
            },
            "type": "parcoords"
           }
          ],
          "pie": [
           {
            "automargin": true,
            "type": "pie"
           }
          ],
          "scatter": [
           {
            "fillpattern": {
             "fillmode": "overlay",
             "size": 10,
             "solidity": 0.2
            },
            "type": "scatter"
           }
          ],
          "scatter3d": [
           {
            "line": {
             "colorbar": {
              "outlinewidth": 0,
              "ticks": ""
             }
            },
            "marker": {
             "colorbar": {
              "outlinewidth": 0,
              "ticks": ""
             }
            },
            "type": "scatter3d"
           }
          ],
          "scattercarpet": [
           {
            "marker": {
             "colorbar": {
              "outlinewidth": 0,
              "ticks": ""
             }
            },
            "type": "scattercarpet"
           }
          ],
          "scattergeo": [
           {
            "marker": {
             "colorbar": {
              "outlinewidth": 0,
              "ticks": ""
             }
            },
            "type": "scattergeo"
           }
          ],
          "scattergl": [
           {
            "marker": {
             "colorbar": {
              "outlinewidth": 0,
              "ticks": ""
             }
            },
            "type": "scattergl"
           }
          ],
          "scattermapbox": [
           {
            "marker": {
             "colorbar": {
              "outlinewidth": 0,
              "ticks": ""
             }
            },
            "type": "scattermapbox"
           }
          ],
          "scatterpolar": [
           {
            "marker": {
             "colorbar": {
              "outlinewidth": 0,
              "ticks": ""
             }
            },
            "type": "scatterpolar"
           }
          ],
          "scatterpolargl": [
           {
            "marker": {
             "colorbar": {
              "outlinewidth": 0,
              "ticks": ""
             }
            },
            "type": "scatterpolargl"
           }
          ],
          "scatterternary": [
           {
            "marker": {
             "colorbar": {
              "outlinewidth": 0,
              "ticks": ""
             }
            },
            "type": "scatterternary"
           }
          ],
          "surface": [
           {
            "colorbar": {
             "outlinewidth": 0,
             "ticks": ""
            },
            "colorscale": [
             [
              0,
              "#0d0887"
             ],
             [
              0.1111111111111111,
              "#46039f"
             ],
             [
              0.2222222222222222,
              "#7201a8"
             ],
             [
              0.3333333333333333,
              "#9c179e"
             ],
             [
              0.4444444444444444,
              "#bd3786"
             ],
             [
              0.5555555555555556,
              "#d8576b"
             ],
             [
              0.6666666666666666,
              "#ed7953"
             ],
             [
              0.7777777777777778,
              "#fb9f3a"
             ],
             [
              0.8888888888888888,
              "#fdca26"
             ],
             [
              1,
              "#f0f921"
             ]
            ],
            "type": "surface"
           }
          ],
          "table": [
           {
            "cells": {
             "fill": {
              "color": "#EBF0F8"
             },
             "line": {
              "color": "white"
             }
            },
            "header": {
             "fill": {
              "color": "#C8D4E3"
             },
             "line": {
              "color": "white"
             }
            },
            "type": "table"
           }
          ]
         },
         "layout": {
          "annotationdefaults": {
           "arrowcolor": "#2a3f5f",
           "arrowhead": 0,
           "arrowwidth": 1
          },
          "autotypenumbers": "strict",
          "coloraxis": {
           "colorbar": {
            "outlinewidth": 0,
            "ticks": ""
           }
          },
          "colorscale": {
           "diverging": [
            [
             0,
             "#8e0152"
            ],
            [
             0.1,
             "#c51b7d"
            ],
            [
             0.2,
             "#de77ae"
            ],
            [
             0.3,
             "#f1b6da"
            ],
            [
             0.4,
             "#fde0ef"
            ],
            [
             0.5,
             "#f7f7f7"
            ],
            [
             0.6,
             "#e6f5d0"
            ],
            [
             0.7,
             "#b8e186"
            ],
            [
             0.8,
             "#7fbc41"
            ],
            [
             0.9,
             "#4d9221"
            ],
            [
             1,
             "#276419"
            ]
           ],
           "sequential": [
            [
             0,
             "#0d0887"
            ],
            [
             0.1111111111111111,
             "#46039f"
            ],
            [
             0.2222222222222222,
             "#7201a8"
            ],
            [
             0.3333333333333333,
             "#9c179e"
            ],
            [
             0.4444444444444444,
             "#bd3786"
            ],
            [
             0.5555555555555556,
             "#d8576b"
            ],
            [
             0.6666666666666666,
             "#ed7953"
            ],
            [
             0.7777777777777778,
             "#fb9f3a"
            ],
            [
             0.8888888888888888,
             "#fdca26"
            ],
            [
             1,
             "#f0f921"
            ]
           ],
           "sequentialminus": [
            [
             0,
             "#0d0887"
            ],
            [
             0.1111111111111111,
             "#46039f"
            ],
            [
             0.2222222222222222,
             "#7201a8"
            ],
            [
             0.3333333333333333,
             "#9c179e"
            ],
            [
             0.4444444444444444,
             "#bd3786"
            ],
            [
             0.5555555555555556,
             "#d8576b"
            ],
            [
             0.6666666666666666,
             "#ed7953"
            ],
            [
             0.7777777777777778,
             "#fb9f3a"
            ],
            [
             0.8888888888888888,
             "#fdca26"
            ],
            [
             1,
             "#f0f921"
            ]
           ]
          },
          "colorway": [
           "#636efa",
           "#EF553B",
           "#00cc96",
           "#ab63fa",
           "#FFA15A",
           "#19d3f3",
           "#FF6692",
           "#B6E880",
           "#FF97FF",
           "#FECB52"
          ],
          "font": {
           "color": "#2a3f5f"
          },
          "geo": {
           "bgcolor": "white",
           "lakecolor": "white",
           "landcolor": "#E5ECF6",
           "showlakes": true,
           "showland": true,
           "subunitcolor": "white"
          },
          "hoverlabel": {
           "align": "left"
          },
          "hovermode": "closest",
          "mapbox": {
           "style": "light"
          },
          "paper_bgcolor": "white",
          "plot_bgcolor": "#E5ECF6",
          "polar": {
           "angularaxis": {
            "gridcolor": "white",
            "linecolor": "white",
            "ticks": ""
           },
           "bgcolor": "#E5ECF6",
           "radialaxis": {
            "gridcolor": "white",
            "linecolor": "white",
            "ticks": ""
           }
          },
          "scene": {
           "xaxis": {
            "backgroundcolor": "#E5ECF6",
            "gridcolor": "white",
            "gridwidth": 2,
            "linecolor": "white",
            "showbackground": true,
            "ticks": "",
            "zerolinecolor": "white"
           },
           "yaxis": {
            "backgroundcolor": "#E5ECF6",
            "gridcolor": "white",
            "gridwidth": 2,
            "linecolor": "white",
            "showbackground": true,
            "ticks": "",
            "zerolinecolor": "white"
           },
           "zaxis": {
            "backgroundcolor": "#E5ECF6",
            "gridcolor": "white",
            "gridwidth": 2,
            "linecolor": "white",
            "showbackground": true,
            "ticks": "",
            "zerolinecolor": "white"
           }
          },
          "shapedefaults": {
           "line": {
            "color": "#2a3f5f"
           }
          },
          "ternary": {
           "aaxis": {
            "gridcolor": "white",
            "linecolor": "white",
            "ticks": ""
           },
           "baxis": {
            "gridcolor": "white",
            "linecolor": "white",
            "ticks": ""
           },
           "bgcolor": "#E5ECF6",
           "caxis": {
            "gridcolor": "white",
            "linecolor": "white",
            "ticks": ""
           }
          },
          "title": {
           "x": 0.05
          },
          "xaxis": {
           "automargin": true,
           "gridcolor": "white",
           "linecolor": "white",
           "ticks": "",
           "title": {
            "standoff": 15
           },
           "zerolinecolor": "white",
           "zerolinewidth": 2
          },
          "yaxis": {
           "automargin": true,
           "gridcolor": "white",
           "linecolor": "white",
           "ticks": "",
           "title": {
            "standoff": 15
           },
           "zerolinecolor": "white",
           "zerolinewidth": 2
          }
         }
        },
        "title": {
         "text": "Histogram of Subreddit by Label"
        },
        "xaxis": {
         "anchor": "y",
         "autorange": true,
         "domain": [
          0,
          1
         ],
         "range": [
          -0.5,
          9.5
         ],
         "title": {
          "text": "Subreddit"
         },
         "type": "category"
        },
        "yaxis": {
         "anchor": "x",
         "autorange": true,
         "domain": [
          0,
          1
         ],
         "range": [
          0,
          614.7368421052631
         ],
         "title": {
          "text": "count"
         }
        }
       }
      },
      "image/png": "[encoded data removed]",
      "text/html": [
       "<div>                            <div id=\"25eceedd-abf5-46db-86e3-303a6aabc3bf\" class=\"plotly-graph-div\" style=\"height:525px; width:100%;\"></div>            <script type=\"text/javascript\">                require([\"plotly\"], function(Plotly) {                    window.PLOTLYENV=window.PLOTLYENV || {};                                    if (document.getElementById(\"25eceedd-abf5-46db-86e3-303a6aabc3bf\")) {                    Plotly.newPlot(                        \"25eceedd-abf5-46db-86e3-303a6aabc3bf\",                        [{\"alignmentgroup\":\"True\",\"bingroup\":\"x\",\"hovertemplate\":\"Label=Stress<br>Subreddit=%{x}<br>count=%{y}<extra></extra>\",\"legendgroup\":\"Stress\",\"marker\":{\"color\":\"#636efa\",\"pattern\":{\"shape\":\"\"}},\"name\":\"Stress\",\"nbinsx\":50,\"offsetgroup\":\"Stress\",\"orientation\":\"v\",\"showlegend\":true,\"x\":[\"ptsd\",\"ptsd\",\"relationships\",\"survivorsofabuse\",\"relationships\",\"anxiety\",\"relationships\",\"assistance\",\"anxiety\",\"anxiety\",\"anxiety\",\"homeless\",\"anxiety\",\"relationships\",\"anxiety\",\"domesticviolence\",\"domesticviolence\",\"ptsd\",\"ptsd\",\"anxiety\",\"assistance\",\"anxiety\",\"domesticviolence\",\"assistance\",\"homeless\",\"relationships\",\"domesticviolence\",\"anxiety\",\"assistance\",\"anxiety\",\"domesticviolence\",\"relationships\",\"ptsd\",\"domesticviolence\",\"relationships\",\"anxiety\",\"ptsd\",\"ptsd\",\"survivorsofabuse\",\"anxiety\",\"anxiety\",\"assistance\",\"anxiety\",\"survivorsofabuse\",\"stress\",\"ptsd\",\"ptsd\",\"relationships\",\"anxiety\",\"assistance\",\"ptsd\",\"survivorsofabuse\",\"relationships\",\"anxiety\",\"survivorsofabuse\",\"assistance\",\"anxiety\",\"relationships\",\"anxiety\",\"anxiety\",\"domesticviolence\",\"domesticviolence\",\"ptsd\",\"anxiety\",\"anxiety\",\"domesticviolence\",\"relationships\",\"ptsd\",\"anxiety\",\"ptsd\",\"anxiety\",\"ptsd\",\"relationships\",\"stress\",\"relationships\",\"relationships\",\"domesticviolence\",\"relationships\",\"relationships\",\"anxiety\",\"domesticviolence\",\"ptsd\",\"anxiety\",\"anxiety\",\"ptsd\",\"relationships\",\"ptsd\",\"relationships\",\"homeless\",\"anxiety\",\"ptsd\",\"ptsd\",\"domesticviolence\",\"relationships\",\"relationships\",\"relationships\",\"assistance\",\"relationships\",\"domesticviolence\",\"relationships\",\"relationships\",\"anxiety\",\"relationships\",\"ptsd\",\"anxiety\",\"homeless\",\"relationships\",\"homeless\",\"anxiety\",\"ptsd\",\"ptsd\",\"assistance\",\"domesticviolence\",\"anxiety\",\"anxiety\",\"homeless\",\"anxiety\",\"survivorsofabuse\",\"anxiety\",\"ptsd\",\"domesticviolence\",\"anxiety\",\"anxiety\",\"anxiety\",\"ptsd\",\"anxiety\",\"anxiety\",\"survivorsofabuse\",\"relationships\",\"ptsd\",\"anxiety\",\"domesticviolence\",\"relationships\",\"domesticviolence\",\"relationships\",\"relationships\",\"ptsd\",\"domesticviolence\",\"ptsd\",\"ptsd\",\"relationships\",\"anxiety\",\"assistance\",\"ptsd\",\"ptsd\",\"relationships\",\"domesticviolence\",\"anxiety\",\"domesticviolence\",\"anxiety\",\"relationships\",\"relationships\",\"domesticviolence\",\"ptsd\",\"relationships\",\"relationships\",\"domesticviolence\",\"ptsd\",\"domesticviolence\",\"domesticviolence\",\"assistance\",\"relationships\",\"anxiety\",\"relationships\",\"almosthomeless\",\"ptsd\",\"anxiety\",\"domesticviolence\",\"assistance\",\"domesticviolence\",\"anxiety\",\"domesticviolence\",\"survivorsofabuse\",\"relationships\",\"anxiety\",\"survivorsofabuse\",\"homeless\",\"assistance\",\"survivorsofabuse\",\"domesticviolence\",\"domesticviolence\",\"stress\",\"anxiety\",\"homeless\",\"survivorsofabuse\",\"ptsd\",\"ptsd\",\"domesticviolence\",\"anxiety\",\"anxiety\",\"ptsd\",\"survivorsofabuse\",\"survivorsofabuse\",\"ptsd\",\"anxiety\",\"almosthomeless\",\"ptsd\",\"anxiety\",\"domesticviolence\",\"relationships\",\"anxiety\",\"assistance\",\"anxiety\",\"domesticviolence\",\"ptsd\",\"relationships\",\"domesticviolence\",\"ptsd\",\"domesticviolence\",\"anxiety\",\"ptsd\",\"anxiety\",\"ptsd\",\"domesticviolence\",\"relationships\",\"domesticviolence\",\"stress\",\"domesticviolence\",\"domesticviolence\",\"ptsd\",\"relationships\",\"ptsd\",\"domesticviolence\",\"ptsd\",\"anxiety\",\"relationships\",\"domesticviolence\",\"domesticviolence\",\"homeless\",\"domesticviolence\",\"relationships\",\"ptsd\",\"assistance\",\"assistance\",\"survivorsofabuse\",\"almosthomeless\",\"assistance\",\"anxiety\",\"domesticviolence\",\"survivorsofabuse\",\"anxiety\",\"relationships\",\"relationships\",\"relationships\",\"survivorsofabuse\",\"domesticviolence\",\"anxiety\",\"survivorsofabuse\",\"anxiety\",\"ptsd\",\"relationships\",\"ptsd\",\"survivorsofabuse\",\"ptsd\",\"ptsd\",\"anxiety\",\"survivorsofabuse\",\"ptsd\",\"ptsd\",\"anxiety\",\"homeless\",\"survivorsofabuse\",\"relationships\",\"anxiety\",\"stress\",\"domesticviolence\",\"assistance\",\"ptsd\",\"ptsd\",\"relationships\",\"ptsd\",\"ptsd\",\"domesticviolence\",\"relationships\",\"assistance\",\"survivorsofabuse\",\"anxiety\",\"anxiety\",\"survivorsofabuse\",\"anxiety\",\"ptsd\",\"relationships\",\"domesticviolence\",\"relationships\",\"ptsd\",\"ptsd\",\"ptsd\",\"assistance\",\"anxiety\",\"relationships\",\"domesticviolence\",\"anxiety\",\"relationships\",\"domesticviolence\",\"ptsd\",\"anxiety\",\"ptsd\",\"anxiety\",\"relationships\",\"assistance\",\"relationships\",\"anxiety\",\"food_pantry\",\"assistance\",\"ptsd\",\"ptsd\",\"survivorsofabuse\",\"ptsd\",\"ptsd\",\"ptsd\",\"relationships\",\"assistance\",\"ptsd\",\"domesticviolence\",\"ptsd\",\"domesticviolence\",\"almosthomeless\",\"domesticviolence\",\"anxiety\",\"ptsd\",\"domesticviolence\",\"ptsd\",\"anxiety\",\"assistance\",\"anxiety\",\"anxiety\",\"ptsd\",\"relationships\",\"ptsd\",\"almosthomeless\",\"anxiety\",\"domesticviolence\",\"survivorsofabuse\",\"almosthomeless\",\"domesticviolence\",\"domesticviolence\",\"survivorsofabuse\",\"anxiety\",\"anxiety\",\"assistance\",\"domesticviolence\",\"food_pantry\",\"anxiety\",\"anxiety\",\"survivorsofabuse\",\"relationships\",\"relationships\",\"ptsd\",\"ptsd\",\"stress\",\"ptsd\",\"assistance\",\"survivorsofabuse\",\"ptsd\",\"survivorsofabuse\",\"relationships\",\"anxiety\",\"relationships\",\"relationships\",\"relationships\",\"relationships\",\"homeless\",\"ptsd\",\"assistance\",\"anxiety\",\"ptsd\",\"survivorsofabuse\",\"food_pantry\",\"relationships\",\"domesticviolence\",\"anxiety\",\"ptsd\",\"ptsd\",\"relationships\",\"domesticviolence\",\"stress\",\"relationships\",\"ptsd\",\"ptsd\",\"ptsd\",\"assistance\",\"anxiety\",\"assistance\",\"ptsd\",\"ptsd\",\"ptsd\",\"anxiety\",\"domesticviolence\",\"anxiety\",\"anxiety\",\"anxiety\",\"relationships\",\"ptsd\",\"anxiety\",\"anxiety\",\"homeless\",\"relationships\",\"ptsd\",\"survivorsofabuse\",\"relationships\",\"ptsd\",\"domesticviolence\",\"anxiety\",\"anxiety\",\"relationships\",\"ptsd\",\"ptsd\",\"domesticviolence\",\"relationships\",\"relationships\",\"domesticviolence\",\"anxiety\",\"domesticviolence\",\"domesticviolence\",\"ptsd\",\"relationships\",\"anxiety\",\"relationships\",\"domesticviolence\",\"anxiety\",\"anxiety\",\"stress\",\"ptsd\",\"anxiety\",\"anxiety\",\"anxiety\",\"homeless\",\"anxiety\",\"domesticviolence\",\"domesticviolence\",\"anxiety\",\"domesticviolence\",\"almosthomeless\",\"homeless\",\"relationships\",\"ptsd\",\"anxiety\",\"anxiety\",\"ptsd\",\"anxiety\",\"anxiety\",\"relationships\",\"relationships\",\"relationships\",\"ptsd\",\"relationships\",\"ptsd\",\"ptsd\",\"relationships\",\"homeless\",\"anxiety\",\"stress\",\"anxiety\",\"survivorsofabuse\",\"relationships\",\"homeless\",\"ptsd\",\"relationships\",\"domesticviolence\",\"ptsd\",\"domesticviolence\",\"assistance\",\"relationships\",\"ptsd\",\"assistance\",\"domesticviolence\",\"anxiety\",\"domesticviolence\",\"assistance\",\"domesticviolence\",\"survivorsofabuse\",\"survivorsofabuse\",\"homeless\",\"stress\",\"anxiety\",\"domesticviolence\",\"survivorsofabuse\",\"ptsd\",\"relationships\",\"ptsd\",\"assistance\",\"assistance\",\"ptsd\",\"domesticviolence\",\"assistance\",\"survivorsofabuse\",\"domesticviolence\",\"relationships\",\"anxiety\",\"ptsd\",\"anxiety\",\"ptsd\",\"relationships\",\"ptsd\",\"ptsd\",\"almosthomeless\",\"assistance\",\"homeless\",\"ptsd\",\"survivorsofabuse\",\"relationships\",\"ptsd\",\"ptsd\",\"assistance\",\"relationships\",\"assistance\",\"relationships\",\"ptsd\",\"survivorsofabuse\",\"anxiety\",\"ptsd\",\"ptsd\",\"relationships\",\"ptsd\",\"assistance\",\"ptsd\",\"relationships\",\"ptsd\",\"ptsd\",\"anxiety\",\"ptsd\",\"relationships\",\"anxiety\",\"ptsd\",\"relationships\",\"anxiety\",\"anxiety\",\"relationships\",\"domesticviolence\",\"anxiety\",\"almosthomeless\",\"anxiety\",\"ptsd\",\"relationships\",\"relationships\",\"survivorsofabuse\",\"ptsd\",\"survivorsofabuse\",\"relationships\",\"relationships\",\"relationships\",\"ptsd\",\"anxiety\",\"assistance\",\"anxiety\",\"almosthomeless\",\"anxiety\",\"assistance\",\"food_pantry\",\"relationships\",\"survivorsofabuse\",\"anxiety\",\"ptsd\",\"ptsd\",\"assistance\",\"domesticviolence\",\"anxiety\",\"ptsd\",\"ptsd\",\"anxiety\",\"assistance\",\"anxiety\",\"stress\",\"assistance\",\"assistance\",\"anxiety\",\"relationships\",\"assistance\",\"ptsd\",\"almosthomeless\",\"ptsd\",\"domesticviolence\",\"anxiety\",\"anxiety\",\"ptsd\",\"stress\",\"ptsd\",\"ptsd\",\"relationships\",\"survivorsofabuse\",\"assistance\",\"relationships\",\"relationships\",\"anxiety\",\"domesticviolence\",\"almosthomeless\",\"survivorsofabuse\",\"anxiety\",\"domesticviolence\",\"domesticviolence\",\"survivorsofabuse\",\"stress\",\"anxiety\",\"domesticviolence\",\"relationships\",\"relationships\",\"relationships\",\"assistance\",\"anxiety\",\"relationships\",\"anxiety\",\"relationships\",\"relationships\",\"relationships\",\"anxiety\",\"ptsd\",\"relationships\",\"relationships\",\"homeless\",\"ptsd\",\"ptsd\",\"anxiety\",\"assistance\",\"relationships\",\"ptsd\",\"survivorsofabuse\",\"anxiety\",\"almosthomeless\",\"relationships\",\"anxiety\",\"anxiety\",\"ptsd\",\"ptsd\",\"domesticviolence\",\"ptsd\",\"survivorsofabuse\",\"almosthomeless\",\"survivorsofabuse\",\"survivorsofabuse\",\"stress\",\"anxiety\",\"anxiety\",\"relationships\",\"domesticviolence\",\"relationships\",\"domesticviolence\",\"domesticviolence\",\"anxiety\",\"domesticviolence\",\"anxiety\",\"ptsd\",\"domesticviolence\",\"relationships\",\"anxiety\",\"relationships\",\"anxiety\",\"survivorsofabuse\",\"domesticviolence\",\"relationships\",\"anxiety\",\"anxiety\",\"assistance\",\"ptsd\",\"anxiety\",\"anxiety\",\"assistance\",\"ptsd\",\"assistance\",\"relationships\",\"anxiety\",\"relationships\",\"ptsd\",\"anxiety\",\"almosthomeless\",\"ptsd\",\"food_pantry\",\"relationships\",\"anxiety\",\"anxiety\",\"anxiety\",\"ptsd\",\"domesticviolence\",\"anxiety\",\"anxiety\",\"almosthomeless\",\"relationships\",\"assistance\",\"ptsd\",\"domesticviolence\",\"homeless\",\"assistance\",\"survivorsofabuse\",\"anxiety\",\"homeless\",\"anxiety\",\"survivorsofabuse\",\"anxiety\",\"homeless\",\"ptsd\",\"stress\",\"domesticviolence\",\"anxiety\",\"survivorsofabuse\",\"ptsd\",\"survivorsofabuse\",\"relationships\",\"survivorsofabuse\",\"ptsd\",\"stress\",\"domesticviolence\",\"assistance\",\"homeless\",\"relationships\",\"anxiety\",\"ptsd\",\"homeless\",\"anxiety\",\"anxiety\",\"assistance\",\"relationships\",\"assistance\",\"domesticviolence\",\"anxiety\",\"ptsd\",\"ptsd\",\"anxiety\",\"relationships\",\"relationships\",\"ptsd\",\"ptsd\",\"homeless\",\"ptsd\",\"assistance\",\"relationships\",\"assistance\",\"ptsd\",\"anxiety\",\"assistance\",\"ptsd\",\"assistance\",\"anxiety\",\"anxiety\",\"assistance\",\"relationships\",\"relationships\",\"survivorsofabuse\",\"homeless\",\"anxiety\",\"domesticviolence\",\"almosthomeless\",\"anxiety\",\"relationships\",\"homeless\",\"homeless\",\"relationships\",\"survivorsofabuse\",\"ptsd\",\"assistance\",\"ptsd\",\"ptsd\",\"stress\",\"anxiety\",\"relationships\",\"almosthomeless\",\"domesticviolence\",\"ptsd\",\"assistance\",\"anxiety\",\"stress\",\"relationships\",\"ptsd\",\"ptsd\",\"anxiety\",\"food_pantry\",\"anxiety\",\"ptsd\",\"relationships\",\"ptsd\",\"ptsd\",\"domesticviolence\",\"relationships\",\"survivorsofabuse\",\"anxiety\",\"survivorsofabuse\",\"ptsd\",\"relationships\",\"assistance\",\"anxiety\",\"ptsd\",\"ptsd\",\"relationships\",\"relationships\",\"domesticviolence\",\"assistance\",\"almosthomeless\",\"anxiety\",\"anxiety\",\"anxiety\",\"anxiety\",\"anxiety\",\"stress\",\"relationships\",\"ptsd\",\"anxiety\",\"relationships\",\"relationships\",\"anxiety\",\"domesticviolence\",\"domesticviolence\",\"anxiety\",\"ptsd\",\"survivorsofabuse\",\"ptsd\",\"ptsd\",\"relationships\",\"domesticviolence\",\"ptsd\",\"ptsd\",\"survivorsofabuse\",\"ptsd\",\"ptsd\",\"anxiety\",\"domesticviolence\",\"anxiety\",\"ptsd\",\"domesticviolence\",\"homeless\",\"anxiety\",\"survivorsofabuse\",\"domesticviolence\",\"stress\",\"ptsd\",\"domesticviolence\",\"anxiety\",\"survivorsofabuse\",\"assistance\",\"stress\",\"ptsd\",\"survivorsofabuse\",\"homeless\",\"ptsd\",\"relationships\",\"ptsd\",\"anxiety\",\"relationships\",\"anxiety\",\"survivorsofabuse\",\"relationships\",\"domesticviolence\",\"ptsd\",\"domesticviolence\",\"ptsd\",\"ptsd\",\"ptsd\",\"domesticviolence\",\"relationships\",\"domesticviolence\",\"survivorsofabuse\",\"ptsd\",\"ptsd\",\"anxiety\",\"domesticviolence\",\"assistance\",\"survivorsofabuse\",\"anxiety\",\"anxiety\",\"homeless\",\"stress\",\"ptsd\",\"assistance\",\"assistance\",\"assistance\",\"assistance\",\"ptsd\",\"anxiety\",\"anxiety\",\"relationships\",\"anxiety\",\"relationships\",\"homeless\",\"ptsd\",\"almosthomeless\",\"homeless\",\"relationships\",\"domesticviolence\",\"almosthomeless\",\"relationships\",\"assistance\",\"almosthomeless\",\"survivorsofabuse\",\"anxiety\",\"anxiety\",\"anxiety\",\"ptsd\",\"assistance\",\"homeless\",\"domesticviolence\",\"stress\",\"relationships\",\"homeless\",\"homeless\",\"domesticviolence\",\"homeless\",\"assistance\",\"almosthomeless\",\"homeless\",\"anxiety\",\"anxiety\",\"domesticviolence\",\"relationships\",\"homeless\",\"survivorsofabuse\",\"anxiety\",\"survivorsofabuse\",\"ptsd\",\"survivorsofabuse\",\"anxiety\",\"ptsd\",\"ptsd\",\"stress\",\"relationships\",\"domesticviolence\",\"ptsd\",\"anxiety\",\"relationships\",\"domesticviolence\",\"survivorsofabuse\",\"homeless\",\"relationships\",\"ptsd\",\"relationships\",\"anxiety\",\"ptsd\",\"relationships\",\"almosthomeless\",\"relationships\",\"domesticviolence\",\"anxiety\",\"anxiety\",\"domesticviolence\",\"assistance\",\"ptsd\",\"ptsd\",\"ptsd\",\"relationships\",\"ptsd\",\"domesticviolence\",\"domesticviolence\",\"assistance\",\"ptsd\",\"relationships\",\"domesticviolence\",\"domesticviolence\",\"anxiety\",\"ptsd\",\"domesticviolence\",\"relationships\",\"almosthomeless\",\"relationships\",\"homeless\",\"anxiety\",\"ptsd\",\"stress\",\"domesticviolence\",\"anxiety\",\"domesticviolence\",\"ptsd\",\"survivorsofabuse\",\"ptsd\",\"survivorsofabuse\",\"anxiety\",\"assistance\",\"anxiety\",\"domesticviolence\",\"anxiety\",\"ptsd\",\"anxiety\",\"ptsd\",\"ptsd\",\"stress\",\"anxiety\",\"domesticviolence\",\"ptsd\",\"relationships\",\"survivorsofabuse\",\"homeless\",\"anxiety\",\"domesticviolence\",\"assistance\",\"anxiety\",\"domesticviolence\",\"stress\",\"ptsd\",\"ptsd\",\"relationships\",\"survivorsofabuse\",\"survivorsofabuse\",\"ptsd\",\"homeless\",\"anxiety\",\"homeless\",\"ptsd\",\"ptsd\",\"ptsd\",\"relationships\",\"domesticviolence\",\"almosthomeless\",\"stress\",\"anxiety\",\"anxiety\",\"homeless\",\"anxiety\",\"survivorsofabuse\",\"anxiety\",\"ptsd\",\"anxiety\",\"survivorsofabuse\",\"food_pantry\",\"relationships\",\"anxiety\",\"domesticviolence\",\"ptsd\",\"almosthomeless\",\"survivorsofabuse\",\"relationships\",\"survivorsofabuse\",\"relationships\",\"almosthomeless\",\"assistance\",\"relationships\",\"ptsd\",\"relationships\",\"ptsd\",\"homeless\",\"anxiety\",\"anxiety\",\"ptsd\",\"food_pantry\",\"ptsd\",\"ptsd\",\"relationships\",\"ptsd\",\"assistance\",\"ptsd\",\"assistance\",\"stress\",\"anxiety\",\"survivorsofabuse\",\"anxiety\",\"anxiety\",\"assistance\",\"domesticviolence\",\"domesticviolence\",\"assistance\",\"relationships\",\"anxiety\",\"domesticviolence\",\"assistance\",\"domesticviolence\",\"homeless\",\"anxiety\",\"almosthomeless\",\"ptsd\",\"homeless\",\"survivorsofabuse\",\"anxiety\",\"domesticviolence\",\"anxiety\",\"ptsd\",\"anxiety\",\"relationships\",\"domesticviolence\",\"survivorsofabuse\",\"anxiety\",\"domesticviolence\",\"ptsd\",\"stress\",\"food_pantry\",\"survivorsofabuse\",\"homeless\",\"ptsd\",\"ptsd\",\"anxiety\",\"relationships\",\"relationships\",\"relationships\",\"survivorsofabuse\",\"ptsd\",\"homeless\",\"anxiety\",\"survivorsofabuse\",\"survivorsofabuse\",\"ptsd\",\"relationships\",\"anxiety\",\"ptsd\",\"anxiety\",\"ptsd\",\"survivorsofabuse\",\"ptsd\",\"relationships\",\"ptsd\",\"ptsd\",\"food_pantry\",\"anxiety\",\"anxiety\",\"domesticviolence\",\"domesticviolence\",\"relationships\",\"domesticviolence\",\"homeless\",\"anxiety\",\"anxiety\",\"ptsd\",\"ptsd\",\"ptsd\",\"ptsd\",\"almosthomeless\",\"ptsd\",\"anxiety\",\"ptsd\",\"relationships\",\"ptsd\",\"domesticviolence\",\"survivorsofabuse\",\"homeless\",\"ptsd\",\"anxiety\",\"ptsd\",\"relationships\",\"relationships\",\"survivorsofabuse\",\"relationships\",\"survivorsofabuse\",\"ptsd\",\"relationships\",\"ptsd\",\"ptsd\",\"relationships\",\"ptsd\",\"domesticviolence\",\"relationships\",\"ptsd\",\"ptsd\",\"relationships\",\"anxiety\",\"ptsd\",\"assistance\",\"homeless\",\"assistance\",\"anxiety\",\"domesticviolence\",\"survivorsofabuse\",\"ptsd\",\"domesticviolence\",\"anxiety\",\"ptsd\",\"anxiety\",\"ptsd\",\"ptsd\",\"anxiety\",\"domesticviolence\",\"homeless\",\"relationships\",\"domesticviolence\",\"domesticviolence\",\"ptsd\",\"anxiety\",\"stress\",\"anxiety\",\"ptsd\",\"anxiety\",\"relationships\",\"relationships\",\"stress\",\"anxiety\",\"anxiety\",\"anxiety\",\"domesticviolence\",\"domesticviolence\",\"ptsd\",\"domesticviolence\",\"domesticviolence\",\"anxiety\",\"relationships\",\"anxiety\",\"homeless\",\"anxiety\",\"ptsd\",\"homeless\",\"ptsd\",\"ptsd\",\"anxiety\",\"ptsd\",\"ptsd\",\"domesticviolence\",\"anxiety\",\"anxiety\",\"relationships\",\"domesticviolence\",\"ptsd\",\"survivorsofabuse\",\"survivorsofabuse\",\"relationships\",\"assistance\",\"anxiety\",\"relationships\",\"ptsd\",\"almosthomeless\",\"anxiety\",\"ptsd\",\"ptsd\",\"domesticviolence\",\"survivorsofabuse\",\"relationships\",\"ptsd\",\"stress\",\"food_pantry\",\"assistance\",\"relationships\",\"domesticviolence\",\"stress\",\"anxiety\",\"anxiety\",\"domesticviolence\",\"ptsd\",\"anxiety\",\"anxiety\",\"ptsd\",\"anxiety\",\"domesticviolence\",\"survivorsofabuse\",\"stress\",\"assistance\",\"almosthomeless\",\"homeless\",\"assistance\",\"survivorsofabuse\",\"food_pantry\",\"relationships\",\"ptsd\",\"domesticviolence\",\"anxiety\",\"domesticviolence\",\"assistance\",\"domesticviolence\",\"anxiety\",\"assistance\",\"anxiety\",\"ptsd\",\"survivorsofabuse\",\"anxiety\",\"assistance\",\"domesticviolence\",\"anxiety\",\"ptsd\",\"ptsd\",\"assistance\",\"domesticviolence\",\"anxiety\",\"domesticviolence\",\"assistance\",\"anxiety\",\"almosthomeless\",\"ptsd\",\"almosthomeless\",\"domesticviolence\",\"anxiety\",\"anxiety\",\"relationships\",\"assistance\",\"anxiety\",\"assistance\",\"relationships\",\"anxiety\",\"relationships\",\"homeless\",\"anxiety\",\"relationships\",\"domesticviolence\",\"anxiety\",\"anxiety\",\"food_pantry\",\"domesticviolence\",\"survivorsofabuse\",\"anxiety\",\"relationships\",\"domesticviolence\",\"relationships\",\"ptsd\",\"anxiety\",\"ptsd\",\"anxiety\",\"almosthomeless\",\"relationships\",\"ptsd\",\"domesticviolence\",\"ptsd\",\"almosthomeless\",\"anxiety\",\"anxiety\",\"ptsd\",\"homeless\",\"domesticviolence\",\"relationships\",\"anxiety\",\"anxiety\",\"relationships\",\"anxiety\",\"domesticviolence\",\"domesticviolence\",\"relationships\",\"survivorsofabuse\",\"domesticviolence\",\"relationships\",\"anxiety\",\"ptsd\",\"almosthomeless\",\"relationships\",\"domesticviolence\",\"relationships\",\"anxiety\",\"survivorsofabuse\",\"domesticviolence\",\"food_pantry\",\"domesticviolence\",\"survivorsofabuse\",\"survivorsofabuse\",\"relationships\",\"relationships\",\"relationships\",\"ptsd\",\"almosthomeless\",\"ptsd\",\"domesticviolence\",\"anxiety\",\"ptsd\",\"anxiety\",\"anxiety\",\"relationships\",\"ptsd\",\"anxiety\",\"anxiety\",\"ptsd\",\"ptsd\",\"homeless\",\"almosthomeless\",\"ptsd\",\"ptsd\",\"domesticviolence\",\"almosthomeless\",\"ptsd\",\"anxiety\",\"ptsd\",\"domesticviolence\",\"survivorsofabuse\",\"ptsd\",\"almosthomeless\",\"anxiety\",\"ptsd\",\"ptsd\",\"ptsd\",\"ptsd\",\"ptsd\",\"anxiety\",\"relationships\",\"almosthomeless\",\"homeless\",\"anxiety\",\"relationships\",\"anxiety\",\"almosthomeless\",\"ptsd\",\"relationships\",\"domesticviolence\",\"homeless\",\"relationships\",\"survivorsofabuse\",\"almosthomeless\",\"domesticviolence\",\"anxiety\",\"survivorsofabuse\",\"relationships\",\"assistance\",\"ptsd\",\"domesticviolence\",\"ptsd\",\"relationships\",\"anxiety\",\"relationships\",\"assistance\",\"ptsd\",\"survivorsofabuse\",\"domesticviolence\",\"ptsd\",\"survivorsofabuse\",\"ptsd\",\"anxiety\",\"ptsd\",\"survivorsofabuse\",\"ptsd\",\"relationships\",\"ptsd\",\"domesticviolence\",\"assistance\",\"domesticviolence\",\"anxiety\",\"anxiety\",\"relationships\",\"ptsd\",\"anxiety\",\"anxiety\",\"ptsd\",\"domesticviolence\",\"anxiety\",\"domesticviolence\",\"survivorsofabuse\",\"domesticviolence\",\"anxiety\",\"relationships\",\"relationships\",\"ptsd\",\"relationships\",\"relationships\",\"domesticviolence\",\"relationships\",\"domesticviolence\",\"ptsd\",\"relationships\",\"ptsd\",\"domesticviolence\",\"anxiety\",\"relationships\",\"anxiety\",\"ptsd\",\"ptsd\",\"assistance\",\"anxiety\",\"domesticviolence\",\"anxiety\",\"anxiety\",\"survivorsofabuse\",\"assistance\",\"anxiety\",\"domesticviolence\",\"ptsd\",\"domesticviolence\",\"assistance\",\"ptsd\",\"almosthomeless\",\"ptsd\",\"homeless\",\"anxiety\",\"domesticviolence\",\"almosthomeless\",\"ptsd\",\"ptsd\",\"anxiety\",\"relationships\",\"anxiety\",\"anxiety\",\"relationships\",\"survivorsofabuse\",\"domesticviolence\",\"domesticviolence\",\"relationships\",\"ptsd\",\"anxiety\",\"survivorsofabuse\",\"relationships\",\"ptsd\",\"assistance\",\"ptsd\",\"relationships\",\"relationships\",\"ptsd\",\"ptsd\",\"domesticviolence\",\"anxiety\",\"ptsd\",\"relationships\",\"anxiety\",\"ptsd\",\"relationships\",\"anxiety\",\"ptsd\",\"anxiety\",\"anxiety\",\"anxiety\",\"almosthomeless\",\"anxiety\",\"domesticviolence\",\"relationships\",\"domesticviolence\",\"anxiety\",\"relationships\",\"ptsd\",\"ptsd\"],\"xaxis\":\"x\",\"yaxis\":\"y\",\"type\":\"histogram\",\"textposition\":\"outside\",\"texttemplate\":\"%{y}\"},{\"alignmentgroup\":\"True\",\"bingroup\":\"x\",\"hovertemplate\":\"Label=No Stress<br>Subreddit=%{x}<br>count=%{y}<extra></extra>\",\"legendgroup\":\"No Stress\",\"marker\":{\"color\":\"#EF553B\",\"pattern\":{\"shape\":\"\"}},\"name\":\"No Stress\",\"nbinsx\":50,\"offsetgroup\":\"No Stress\",\"orientation\":\"v\",\"showlegend\":true,\"x\":[\"assistance\",\"domesticviolence\",\"assistance\",\"relationships\",\"survivorsofabuse\",\"ptsd\",\"survivorsofabuse\",\"relationships\",\"ptsd\",\"stress\",\"anxiety\",\"survivorsofabuse\",\"ptsd\",\"anxiety\",\"anxiety\",\"ptsd\",\"assistance\",\"homeless\",\"domesticviolence\",\"ptsd\",\"domesticviolence\",\"ptsd\",\"ptsd\",\"anxiety\",\"ptsd\",\"relationships\",\"ptsd\",\"relationships\",\"homeless\",\"assistance\",\"relationships\",\"relationships\",\"assistance\",\"relationships\",\"assistance\",\"stress\",\"anxiety\",\"domesticviolence\",\"assistance\",\"ptsd\",\"survivorsofabuse\",\"ptsd\",\"ptsd\",\"relationships\",\"homeless\",\"assistance\",\"ptsd\",\"domesticviolence\",\"relationships\",\"ptsd\",\"homeless\",\"anxiety\",\"assistance\",\"relationships\",\"relationships\",\"ptsd\",\"anxiety\",\"anxiety\",\"assistance\",\"relationships\",\"almosthomeless\",\"domesticviolence\",\"ptsd\",\"relationships\",\"ptsd\",\"assistance\",\"homeless\",\"anxiety\",\"food_pantry\",\"domesticviolence\",\"anxiety\",\"anxiety\",\"anxiety\",\"relationships\",\"survivorsofabuse\",\"assistance\",\"anxiety\",\"survivorsofabuse\",\"food_pantry\",\"ptsd\",\"domesticviolence\",\"almosthomeless\",\"anxiety\",\"domesticviolence\",\"survivorsofabuse\",\"domesticviolence\",\"assistance\",\"assistance\",\"ptsd\",\"homeless\",\"relationships\",\"domesticviolence\",\"ptsd\",\"domesticviolence\",\"ptsd\",\"homeless\",\"anxiety\",\"domesticviolence\",\"assistance\",\"domesticviolence\",\"anxiety\",\"anxiety\",\"ptsd\",\"assistance\",\"relationships\",\"relationships\",\"ptsd\",\"homeless\",\"stress\",\"relationships\",\"survivorsofabuse\",\"almosthomeless\",\"anxiety\",\"relationships\",\"ptsd\",\"homeless\",\"anxiety\",\"relationships\",\"assistance\",\"anxiety\",\"assistance\",\"almosthomeless\",\"almosthomeless\",\"anxiety\",\"anxiety\",\"domesticviolence\",\"ptsd\",\"domesticviolence\",\"ptsd\",\"anxiety\",\"relationships\",\"ptsd\",\"domesticviolence\",\"domesticviolence\",\"ptsd\",\"domesticviolence\",\"domesticviolence\",\"relationships\",\"survivorsofabuse\",\"relationships\",\"assistance\",\"survivorsofabuse\",\"assistance\",\"ptsd\",\"ptsd\",\"ptsd\",\"ptsd\",\"relationships\",\"relationships\",\"relationships\",\"homeless\",\"survivorsofabuse\",\"homeless\",\"anxiety\",\"domesticviolence\",\"ptsd\",\"relationships\",\"ptsd\",\"ptsd\",\"assistance\",\"assistance\",\"anxiety\",\"homeless\",\"ptsd\",\"relationships\",\"ptsd\",\"homeless\",\"homeless\",\"homeless\",\"ptsd\",\"domesticviolence\",\"survivorsofabuse\",\"anxiety\",\"relationships\",\"survivorsofabuse\",\"homeless\",\"ptsd\",\"assistance\",\"ptsd\",\"assistance\",\"anxiety\",\"domesticviolence\",\"anxiety\",\"relationships\",\"homeless\",\"anxiety\",\"relationships\",\"relationships\",\"relationships\",\"relationships\",\"ptsd\",\"relationships\",\"assistance\",\"anxiety\",\"anxiety\",\"survivorsofabuse\",\"ptsd\",\"survivorsofabuse\",\"assistance\",\"relationships\",\"relationships\",\"assistance\",\"assistance\",\"relationships\",\"domesticviolence\",\"anxiety\",\"stress\",\"relationships\",\"homeless\",\"domesticviolence\",\"assistance\",\"relationships\",\"anxiety\",\"ptsd\",\"ptsd\",\"ptsd\",\"anxiety\",\"survivorsofabuse\",\"survivorsofabuse\",\"survivorsofabuse\",\"domesticviolence\",\"relationships\",\"homeless\",\"anxiety\",\"domesticviolence\",\"relationships\",\"domesticviolence\",\"relationships\",\"homeless\",\"food_pantry\",\"survivorsofabuse\",\"relationships\",\"almosthomeless\",\"ptsd\",\"relationships\",\"assistance\",\"relationships\",\"homeless\",\"relationships\",\"assistance\",\"ptsd\",\"assistance\",\"anxiety\",\"ptsd\",\"ptsd\",\"homeless\",\"anxiety\",\"food_pantry\",\"assistance\",\"relationships\",\"ptsd\",\"survivorsofabuse\",\"domesticviolence\",\"assistance\",\"relationships\",\"relationships\",\"relationships\",\"ptsd\",\"food_pantry\",\"survivorsofabuse\",\"relationships\",\"anxiety\",\"ptsd\",\"food_pantry\",\"relationships\",\"ptsd\",\"domesticviolence\",\"domesticviolence\",\"relationships\",\"ptsd\",\"ptsd\",\"assistance\",\"relationships\",\"relationships\",\"domesticviolence\",\"homeless\",\"ptsd\",\"assistance\",\"ptsd\",\"relationships\",\"food_pantry\",\"ptsd\",\"assistance\",\"food_pantry\",\"relationships\",\"anxiety\",\"domesticviolence\",\"survivorsofabuse\",\"food_pantry\",\"homeless\",\"relationships\",\"ptsd\",\"homeless\",\"survivorsofabuse\",\"ptsd\",\"survivorsofabuse\",\"ptsd\",\"anxiety\",\"relationships\",\"assistance\",\"ptsd\",\"ptsd\",\"relationships\",\"relationships\",\"assistance\",\"relationships\",\"ptsd\",\"anxiety\",\"ptsd\",\"relationships\",\"relationships\",\"domesticviolence\",\"relationships\",\"anxiety\",\"ptsd\",\"survivorsofabuse\",\"relationships\",\"assistance\",\"ptsd\",\"relationships\",\"domesticviolence\",\"assistance\",\"ptsd\",\"domesticviolence\",\"ptsd\",\"relationships\",\"relationships\",\"ptsd\",\"domesticviolence\",\"ptsd\",\"anxiety\",\"assistance\",\"survivorsofabuse\",\"assistance\",\"homeless\",\"anxiety\",\"survivorsofabuse\",\"survivorsofabuse\",\"relationships\",\"ptsd\",\"ptsd\",\"ptsd\",\"relationships\",\"domesticviolence\",\"domesticviolence\",\"homeless\",\"food_pantry\",\"domesticviolence\",\"homeless\",\"relationships\",\"almosthomeless\",\"relationships\",\"survivorsofabuse\",\"assistance\",\"ptsd\",\"ptsd\",\"assistance\",\"relationships\",\"anxiety\",\"ptsd\",\"ptsd\",\"homeless\",\"survivorsofabuse\",\"survivorsofabuse\",\"relationships\",\"assistance\",\"relationships\",\"survivorsofabuse\",\"ptsd\",\"anxiety\",\"domesticviolence\",\"relationships\",\"relationships\",\"anxiety\",\"anxiety\",\"ptsd\",\"ptsd\",\"relationships\",\"survivorsofabuse\",\"ptsd\",\"relationships\",\"relationships\",\"anxiety\",\"anxiety\",\"relationships\",\"relationships\",\"assistance\",\"relationships\",\"domesticviolence\",\"assistance\",\"anxiety\",\"survivorsofabuse\",\"relationships\",\"homeless\",\"domesticviolence\",\"relationships\",\"anxiety\",\"anxiety\",\"domesticviolence\",\"relationships\",\"survivorsofabuse\",\"assistance\",\"ptsd\",\"assistance\",\"relationships\",\"survivorsofabuse\",\"survivorsofabuse\",\"relationships\",\"anxiety\",\"assistance\",\"domesticviolence\",\"domesticviolence\",\"survivorsofabuse\",\"relationships\",\"anxiety\",\"food_pantry\",\"domesticviolence\",\"assistance\",\"ptsd\",\"homeless\",\"anxiety\",\"relationships\",\"ptsd\",\"assistance\",\"relationships\",\"survivorsofabuse\",\"ptsd\",\"relationships\",\"relationships\",\"ptsd\",\"survivorsofabuse\",\"anxiety\",\"relationships\",\"relationships\",\"relationships\",\"relationships\",\"ptsd\",\"relationships\",\"domesticviolence\",\"assistance\",\"survivorsofabuse\",\"homeless\",\"relationships\",\"assistance\",\"homeless\",\"relationships\",\"survivorsofabuse\",\"survivorsofabuse\",\"ptsd\",\"domesticviolence\",\"anxiety\",\"ptsd\",\"assistance\",\"relationships\",\"ptsd\",\"anxiety\",\"assistance\",\"relationships\",\"anxiety\",\"relationships\",\"anxiety\",\"domesticviolence\",\"anxiety\",\"assistance\",\"stress\",\"survivorsofabuse\",\"ptsd\",\"almosthomeless\",\"ptsd\",\"ptsd\",\"assistance\",\"ptsd\",\"domesticviolence\",\"anxiety\",\"relationships\",\"anxiety\",\"assistance\",\"relationships\",\"stress\",\"homeless\",\"anxiety\",\"survivorsofabuse\",\"domesticviolence\",\"homeless\",\"relationships\",\"domesticviolence\",\"assistance\",\"ptsd\",\"almosthomeless\",\"anxiety\",\"relationships\",\"relationships\",\"homeless\",\"relationships\",\"homeless\",\"domesticviolence\",\"assistance\",\"relationships\",\"relationships\",\"homeless\",\"anxiety\",\"ptsd\",\"ptsd\",\"relationships\",\"relationships\",\"assistance\",\"ptsd\",\"relationships\",\"ptsd\",\"survivorsofabuse\",\"domesticviolence\",\"assistance\",\"stress\",\"ptsd\",\"ptsd\",\"ptsd\",\"relationships\",\"survivorsofabuse\",\"relationships\",\"assistance\",\"domesticviolence\",\"relationships\",\"ptsd\",\"assistance\",\"assistance\",\"homeless\",\"ptsd\",\"almosthomeless\",\"anxiety\",\"survivorsofabuse\",\"assistance\",\"relationships\",\"relationships\",\"almosthomeless\",\"almosthomeless\",\"assistance\",\"relationships\",\"domesticviolence\",\"relationships\",\"ptsd\",\"anxiety\",\"assistance\",\"assistance\",\"survivorsofabuse\",\"homeless\",\"almosthomeless\",\"anxiety\",\"relationships\",\"assistance\",\"relationships\",\"relationships\",\"relationships\",\"homeless\",\"homeless\",\"ptsd\",\"relationships\",\"anxiety\",\"anxiety\",\"almosthomeless\",\"survivorsofabuse\",\"ptsd\",\"anxiety\",\"relationships\",\"ptsd\",\"assistance\",\"ptsd\",\"relationships\",\"assistance\",\"domesticviolence\",\"ptsd\",\"domesticviolence\",\"relationships\",\"ptsd\",\"relationships\",\"anxiety\",\"relationships\",\"domesticviolence\",\"ptsd\",\"relationships\",\"assistance\",\"ptsd\",\"assistance\",\"assistance\",\"assistance\",\"assistance\",\"domesticviolence\",\"homeless\",\"ptsd\",\"ptsd\",\"ptsd\",\"ptsd\",\"ptsd\",\"ptsd\",\"assistance\",\"ptsd\",\"assistance\",\"relationships\",\"relationships\",\"ptsd\",\"survivorsofabuse\",\"assistance\",\"anxiety\",\"ptsd\",\"ptsd\",\"stress\",\"relationships\",\"relationships\",\"anxiety\",\"assistance\",\"stress\",\"assistance\",\"relationships\",\"survivorsofabuse\",\"relationships\",\"assistance\",\"anxiety\",\"assistance\",\"survivorsofabuse\",\"homeless\",\"anxiety\",\"ptsd\",\"stress\",\"homeless\",\"food_pantry\",\"almosthomeless\",\"ptsd\",\"anxiety\",\"homeless\",\"relationships\",\"anxiety\",\"stress\",\"ptsd\",\"assistance\",\"homeless\",\"anxiety\",\"domesticviolence\",\"ptsd\",\"ptsd\",\"ptsd\",\"ptsd\",\"survivorsofabuse\",\"ptsd\",\"ptsd\",\"stress\",\"ptsd\",\"ptsd\",\"domesticviolence\",\"survivorsofabuse\",\"domesticviolence\",\"ptsd\",\"food_pantry\",\"relationships\",\"survivorsofabuse\",\"relationships\",\"ptsd\",\"relationships\",\"food_pantry\",\"relationships\",\"anxiety\",\"survivorsofabuse\",\"homeless\",\"ptsd\",\"survivorsofabuse\",\"stress\",\"food_pantry\",\"relationships\",\"ptsd\",\"ptsd\",\"relationships\",\"ptsd\",\"anxiety\",\"assistance\",\"ptsd\",\"relationships\",\"ptsd\",\"survivorsofabuse\",\"relationships\",\"relationships\",\"relationships\",\"homeless\",\"domesticviolence\",\"ptsd\",\"relationships\",\"relationships\",\"relationships\",\"homeless\",\"domesticviolence\",\"relationships\",\"assistance\",\"assistance\",\"relationships\",\"domesticviolence\",\"relationships\",\"anxiety\",\"relationships\",\"relationships\",\"food_pantry\",\"anxiety\",\"assistance\",\"homeless\",\"anxiety\",\"ptsd\",\"anxiety\",\"domesticviolence\",\"domesticviolence\",\"food_pantry\",\"homeless\",\"relationships\",\"homeless\",\"ptsd\",\"relationships\",\"anxiety\",\"anxiety\",\"ptsd\",\"relationships\",\"anxiety\",\"relationships\",\"assistance\",\"anxiety\",\"domesticviolence\",\"assistance\",\"survivorsofabuse\",\"assistance\",\"relationships\",\"relationships\",\"ptsd\",\"ptsd\",\"assistance\",\"ptsd\",\"ptsd\",\"homeless\",\"ptsd\",\"assistance\",\"ptsd\",\"assistance\",\"relationships\",\"anxiety\",\"ptsd\",\"relationships\",\"homeless\",\"relationships\",\"ptsd\",\"assistance\",\"survivorsofabuse\",\"assistance\",\"relationships\",\"homeless\",\"relationships\",\"anxiety\",\"anxiety\",\"survivorsofabuse\",\"relationships\",\"survivorsofabuse\",\"survivorsofabuse\",\"ptsd\",\"ptsd\",\"domesticviolence\",\"relationships\",\"anxiety\",\"survivorsofabuse\",\"homeless\",\"relationships\",\"survivorsofabuse\",\"ptsd\",\"ptsd\",\"homeless\",\"homeless\",\"homeless\",\"domesticviolence\",\"almosthomeless\",\"anxiety\",\"homeless\",\"domesticviolence\",\"ptsd\",\"assistance\",\"anxiety\",\"anxiety\",\"assistance\",\"assistance\",\"relationships\",\"relationships\",\"assistance\",\"anxiety\",\"ptsd\",\"ptsd\",\"domesticviolence\",\"survivorsofabuse\",\"relationships\",\"stress\",\"ptsd\",\"ptsd\",\"relationships\",\"anxiety\",\"domesticviolence\",\"relationships\",\"anxiety\",\"stress\",\"relationships\",\"anxiety\",\"homeless\",\"ptsd\",\"domesticviolence\",\"ptsd\",\"anxiety\",\"anxiety\",\"relationships\",\"almosthomeless\",\"survivorsofabuse\",\"survivorsofabuse\",\"relationships\",\"ptsd\",\"homeless\",\"homeless\",\"relationships\",\"anxiety\",\"survivorsofabuse\",\"ptsd\",\"survivorsofabuse\",\"stress\",\"anxiety\",\"assistance\",\"relationships\",\"relationships\",\"homeless\",\"homeless\",\"domesticviolence\",\"homeless\",\"survivorsofabuse\",\"assistance\",\"survivorsofabuse\",\"almosthomeless\",\"stress\",\"assistance\",\"ptsd\",\"homeless\",\"homeless\",\"ptsd\",\"ptsd\",\"relationships\",\"survivorsofabuse\",\"ptsd\",\"homeless\",\"anxiety\",\"ptsd\",\"survivorsofabuse\",\"relationships\",\"homeless\",\"survivorsofabuse\",\"domesticviolence\",\"survivorsofabuse\",\"anxiety\",\"ptsd\",\"ptsd\",\"survivorsofabuse\",\"relationships\",\"domesticviolence\",\"homeless\",\"ptsd\",\"relationships\",\"assistance\",\"anxiety\",\"relationships\",\"relationships\",\"homeless\",\"relationships\",\"ptsd\",\"relationships\",\"homeless\",\"relationships\",\"relationships\",\"assistance\",\"assistance\",\"ptsd\",\"survivorsofabuse\",\"almosthomeless\",\"survivorsofabuse\",\"anxiety\",\"homeless\",\"anxiety\",\"assistance\",\"survivorsofabuse\",\"relationships\",\"homeless\",\"relationships\",\"relationships\",\"survivorsofabuse\",\"almosthomeless\",\"ptsd\",\"relationships\",\"relationships\",\"domesticviolence\",\"survivorsofabuse\",\"assistance\",\"anxiety\",\"homeless\",\"assistance\",\"anxiety\",\"homeless\",\"assistance\",\"relationships\",\"homeless\",\"survivorsofabuse\",\"domesticviolence\",\"relationships\",\"domesticviolence\",\"survivorsofabuse\",\"relationships\",\"survivorsofabuse\",\"ptsd\",\"homeless\",\"assistance\",\"homeless\",\"domesticviolence\",\"ptsd\",\"homeless\",\"domesticviolence\",\"ptsd\",\"relationships\",\"assistance\",\"homeless\",\"assistance\",\"homeless\",\"anxiety\",\"survivorsofabuse\",\"domesticviolence\",\"relationships\",\"relationships\",\"relationships\",\"relationships\",\"relationships\",\"ptsd\",\"domesticviolence\",\"survivorsofabuse\",\"ptsd\",\"relationships\",\"relationships\",\"domesticviolence\",\"relationships\",\"assistance\",\"stress\",\"survivorsofabuse\",\"relationships\",\"relationships\",\"ptsd\",\"ptsd\",\"anxiety\",\"ptsd\",\"relationships\",\"anxiety\",\"relationships\",\"ptsd\",\"assistance\",\"anxiety\",\"ptsd\",\"assistance\",\"assistance\",\"assistance\",\"assistance\",\"relationships\",\"survivorsofabuse\",\"domesticviolence\",\"ptsd\",\"almosthomeless\",\"ptsd\",\"anxiety\",\"assistance\",\"anxiety\",\"relationships\",\"relationships\",\"homeless\",\"ptsd\",\"ptsd\",\"survivorsofabuse\",\"anxiety\",\"assistance\",\"assistance\",\"homeless\",\"homeless\",\"domesticviolence\",\"survivorsofabuse\",\"homeless\",\"assistance\",\"ptsd\",\"assistance\",\"anxiety\",\"relationships\",\"relationships\",\"relationships\",\"anxiety\",\"domesticviolence\",\"relationships\",\"anxiety\",\"domesticviolence\",\"anxiety\",\"survivorsofabuse\",\"homeless\",\"ptsd\",\"ptsd\",\"homeless\",\"ptsd\",\"relationships\",\"homeless\",\"relationships\",\"survivorsofabuse\",\"relationships\",\"survivorsofabuse\",\"stress\",\"assistance\",\"survivorsofabuse\",\"relationships\",\"survivorsofabuse\",\"anxiety\",\"homeless\",\"anxiety\",\"relationships\",\"relationships\",\"ptsd\",\"assistance\",\"relationships\",\"survivorsofabuse\",\"survivorsofabuse\",\"relationships\",\"almosthomeless\",\"relationships\",\"relationships\",\"anxiety\",\"relationships\",\"stress\",\"ptsd\",\"ptsd\",\"relationships\",\"relationships\",\"assistance\",\"relationships\",\"assistance\",\"assistance\",\"anxiety\",\"assistance\",\"anxiety\",\"relationships\",\"assistance\",\"relationships\",\"ptsd\",\"relationships\",\"homeless\",\"relationships\",\"relationships\",\"almosthomeless\",\"relationships\",\"relationships\",\"relationships\",\"stress\",\"domesticviolence\",\"ptsd\",\"relationships\",\"relationships\",\"survivorsofabuse\",\"assistance\",\"survivorsofabuse\",\"relationships\",\"anxiety\",\"stress\",\"anxiety\",\"assistance\",\"ptsd\",\"ptsd\",\"assistance\",\"ptsd\",\"relationships\",\"stress\",\"survivorsofabuse\",\"ptsd\",\"assistance\",\"survivorsofabuse\",\"relationships\",\"survivorsofabuse\",\"relationships\",\"survivorsofabuse\",\"assistance\",\"ptsd\",\"ptsd\",\"anxiety\",\"ptsd\",\"almosthomeless\",\"assistance\",\"relationships\",\"survivorsofabuse\",\"anxiety\",\"relationships\",\"ptsd\",\"anxiety\",\"relationships\",\"assistance\",\"homeless\",\"domesticviolence\",\"food_pantry\",\"survivorsofabuse\",\"almosthomeless\",\"homeless\",\"assistance\",\"domesticviolence\",\"homeless\",\"relationships\",\"relationships\",\"ptsd\",\"ptsd\",\"relationships\",\"anxiety\",\"relationships\",\"ptsd\",\"relationships\",\"relationships\",\"domesticviolence\",\"assistance\",\"ptsd\",\"assistance\",\"anxiety\",\"anxiety\",\"homeless\",\"assistance\",\"ptsd\",\"assistance\",\"anxiety\",\"relationships\",\"ptsd\",\"ptsd\",\"assistance\",\"anxiety\",\"ptsd\",\"ptsd\",\"relationships\",\"relationships\",\"assistance\",\"anxiety\",\"anxiety\",\"relationships\",\"stress\",\"relationships\",\"almosthomeless\",\"relationships\",\"relationships\",\"assistance\",\"domesticviolence\",\"anxiety\",\"survivorsofabuse\",\"ptsd\",\"relationships\",\"assistance\",\"relationships\",\"domesticviolence\",\"domesticviolence\",\"survivorsofabuse\",\"survivorsofabuse\",\"anxiety\",\"survivorsofabuse\",\"ptsd\",\"relationships\",\"relationships\",\"anxiety\",\"relationships\",\"assistance\",\"ptsd\",\"relationships\",\"ptsd\",\"anxiety\",\"survivorsofabuse\",\"relationships\",\"assistance\",\"survivorsofabuse\",\"relationships\",\"relationships\",\"relationships\",\"anxiety\",\"anxiety\",\"domesticviolence\",\"homeless\",\"survivorsofabuse\",\"relationships\",\"stress\",\"assistance\",\"relationships\",\"homeless\",\"domesticviolence\",\"homeless\",\"relationships\",\"relationships\",\"food_pantry\",\"anxiety\",\"food_pantry\",\"survivorsofabuse\",\"assistance\",\"ptsd\",\"anxiety\",\"survivorsofabuse\",\"relationships\",\"food_pantry\",\"domesticviolence\",\"relationships\",\"almosthomeless\",\"relationships\",\"assistance\",\"survivorsofabuse\",\"almosthomeless\",\"relationships\",\"relationships\",\"survivorsofabuse\",\"anxiety\",\"assistance\",\"domesticviolence\",\"ptsd\",\"stress\",\"relationships\",\"assistance\",\"survivorsofabuse\",\"ptsd\",\"survivorsofabuse\",\"ptsd\",\"assistance\",\"survivorsofabuse\",\"assistance\",\"survivorsofabuse\",\"domesticviolence\",\"anxiety\",\"assistance\",\"assistance\",\"assistance\",\"homeless\",\"assistance\",\"ptsd\",\"anxiety\",\"relationships\",\"relationships\",\"anxiety\",\"anxiety\",\"relationships\",\"assistance\",\"stress\",\"anxiety\",\"ptsd\",\"survivorsofabuse\",\"domesticviolence\",\"survivorsofabuse\",\"food_pantry\",\"anxiety\",\"ptsd\",\"relationships\",\"homeless\",\"assistance\",\"domesticviolence\",\"assistance\",\"homeless\",\"relationships\",\"assistance\",\"food_pantry\",\"relationships\",\"survivorsofabuse\",\"stress\",\"assistance\",\"anxiety\",\"assistance\",\"anxiety\",\"domesticviolence\",\"assistance\",\"relationships\",\"almosthomeless\",\"assistance\",\"assistance\",\"assistance\",\"ptsd\",\"ptsd\",\"ptsd\",\"relationships\",\"anxiety\",\"anxiety\",\"anxiety\",\"ptsd\",\"ptsd\",\"survivorsofabuse\",\"ptsd\",\"assistance\",\"ptsd\",\"anxiety\",\"anxiety\",\"relationships\",\"ptsd\",\"assistance\",\"assistance\",\"ptsd\",\"survivorsofabuse\",\"relationships\",\"homeless\",\"ptsd\",\"assistance\",\"domesticviolence\",\"relationships\",\"relationships\",\"survivorsofabuse\",\"survivorsofabuse\",\"almosthomeless\",\"ptsd\",\"ptsd\",\"ptsd\",\"ptsd\",\"survivorsofabuse\",\"assistance\",\"survivorsofabuse\",\"ptsd\",\"almosthomeless\",\"anxiety\",\"domesticviolence\",\"anxiety\",\"almosthomeless\",\"ptsd\",\"relationships\",\"anxiety\",\"homeless\",\"relationships\",\"domesticviolence\",\"survivorsofabuse\",\"ptsd\",\"ptsd\",\"anxiety\",\"assistance\",\"anxiety\",\"relationships\",\"relationships\",\"ptsd\",\"domesticviolence\",\"ptsd\",\"anxiety\",\"stress\",\"survivorsofabuse\",\"domesticviolence\",\"domesticviolence\",\"assistance\",\"ptsd\",\"anxiety\",\"anxiety\",\"assistance\",\"assistance\",\"domesticviolence\",\"ptsd\",\"relationships\",\"domesticviolence\",\"assistance\",\"assistance\",\"relationships\",\"relationships\",\"anxiety\",\"almosthomeless\"],\"xaxis\":\"x\",\"yaxis\":\"y\",\"type\":\"histogram\",\"textposition\":\"outside\",\"texttemplate\":\"%{y}\"}],                        {\"template\":{\"data\":{\"histogram2dcontour\":[{\"type\":\"histogram2dcontour\",\"colorbar\":{\"outlinewidth\":0,\"ticks\":\"\"},\"colorscale\":[[0.0,\"#0d0887\"],[0.1111111111111111,\"#46039f\"],[0.2222222222222222,\"#7201a8\"],[0.3333333333333333,\"#9c179e\"],[0.4444444444444444,\"#bd3786\"],[0.5555555555555556,\"#d8576b\"],[0.6666666666666666,\"#ed7953\"],[0.7777777777777778,\"#fb9f3a\"],[0.8888888888888888,\"#fdca26\"],[1.0,\"#f0f921\"]]}],\"choropleth\":[{\"type\":\"choropleth\",\"colorbar\":{\"outlinewidth\":0,\"ticks\":\"\"}}],\"histogram2d\":[{\"type\":\"histogram2d\",\"colorbar\":{\"outlinewidth\":0,\"ticks\":\"\"},\"colorscale\":[[0.0,\"#0d0887\"],[0.1111111111111111,\"#46039f\"],[0.2222222222222222,\"#7201a8\"],[0.3333333333333333,\"#9c179e\"],[0.4444444444444444,\"#bd3786\"],[0.5555555555555556,\"#d8576b\"],[0.6666666666666666,\"#ed7953\"],[0.7777777777777778,\"#fb9f3a\"],[0.8888888888888888,\"#fdca26\"],[1.0,\"#f0f921\"]]}],\"heatmap\":[{\"type\":\"heatmap\",\"colorbar\":{\"outlinewidth\":0,\"ticks\":\"\"},\"colorscale\":[[0.0,\"#0d0887\"],[0.1111111111111111,\"#46039f\"],[0.2222222222222222,\"#7201a8\"],[0.3333333333333333,\"#9c179e\"],[0.4444444444444444,\"#bd3786\"],[0.5555555555555556,\"#d8576b\"],[0.6666666666666666,\"#ed7953\"],[0.7777777777777778,\"#fb9f3a\"],[0.8888888888888888,\"#fdca26\"],[1.0,\"#f0f921\"]]}],\"heatmapgl\":[{\"type\":\"heatmapgl\",\"colorbar\":{\"outlinewidth\":0,\"ticks\":\"\"},\"colorscale\":[[0.0,\"#0d0887\"],[0.1111111111111111,\"#46039f\"],[0.2222222222222222,\"#7201a8\"],[0.3333333333333333,\"#9c179e\"],[0.4444444444444444,\"#bd3786\"],[0.5555555555555556,\"#d8576b\"],[0.6666666666666666,\"#ed7953\"],[0.7777777777777778,\"#fb9f3a\"],[0.8888888888888888,\"#fdca26\"],[1.0,\"#f0f921\"]]}],\"contourcarpet\":[{\"type\":\"contourcarpet\",\"colorbar\":{\"outlinewidth\":0,\"ticks\":\"\"}}],\"contour\":[{\"type\":\"contour\",\"colorbar\":{\"outlinewidth\":0,\"ticks\":\"\"},\"colorscale\":[[0.0,\"#0d0887\"],[0.1111111111111111,\"#46039f\"],[0.2222222222222222,\"#7201a8\"],[0.3333333333333333,\"#9c179e\"],[0.4444444444444444,\"#bd3786\"],[0.5555555555555556,\"#d8576b\"],[0.6666666666666666,\"#ed7953\"],[0.7777777777777778,\"#fb9f3a\"],[0.8888888888888888,\"#fdca26\"],[1.0,\"#f0f921\"]]}],\"surface\":[{\"type\":\"surface\",\"colorbar\":{\"outlinewidth\":0,\"ticks\":\"\"},\"colorscale\":[[0.0,\"#0d0887\"],[0.1111111111111111,\"#46039f\"],[0.2222222222222222,\"#7201a8\"],[0.3333333333333333,\"#9c179e\"],[0.4444444444444444,\"#bd3786\"],[0.5555555555555556,\"#d8576b\"],[0.6666666666666666,\"#ed7953\"],[0.7777777777777778,\"#fb9f3a\"],[0.8888888888888888,\"#fdca26\"],[1.0,\"#f0f921\"]]}],\"mesh3d\":[{\"type\":\"mesh3d\",\"colorbar\":{\"outlinewidth\":0,\"ticks\":\"\"}}],\"scatter\":[{\"fillpattern\":{\"fillmode\":\"overlay\",\"size\":10,\"solidity\":0.2},\"type\":\"scatter\"}],\"parcoords\":[{\"type\":\"parcoords\",\"line\":{\"colorbar\":{\"outlinewidth\":0,\"ticks\":\"\"}}}],\"scatterpolargl\":[{\"type\":\"scatterpolargl\",\"marker\":{\"colorbar\":{\"outlinewidth\":0,\"ticks\":\"\"}}}],\"bar\":[{\"error_x\":{\"color\":\"#2a3f5f\"},\"error_y\":{\"color\":\"#2a3f5f\"},\"marker\":{\"line\":{\"color\":\"#E5ECF6\",\"width\":0.5},\"pattern\":{\"fillmode\":\"overlay\",\"size\":10,\"solidity\":0.2}},\"type\":\"bar\"}],\"scattergeo\":[{\"type\":\"scattergeo\",\"marker\":{\"colorbar\":{\"outlinewidth\":0,\"ticks\":\"\"}}}],\"scatterpolar\":[{\"type\":\"scatterpolar\",\"marker\":{\"colorbar\":{\"outlinewidth\":0,\"ticks\":\"\"}}}],\"histogram\":[{\"marker\":{\"pattern\":{\"fillmode\":\"overlay\",\"size\":10,\"solidity\":0.2}},\"type\":\"histogram\"}],\"scattergl\":[{\"type\":\"scattergl\",\"marker\":{\"colorbar\":{\"outlinewidth\":0,\"ticks\":\"\"}}}],\"scatter3d\":[{\"type\":\"scatter3d\",\"line\":{\"colorbar\":{\"outlinewidth\":0,\"ticks\":\"\"}},\"marker\":{\"colorbar\":{\"outlinewidth\":0,\"ticks\":\"\"}}}],\"scattermapbox\":[{\"type\":\"scattermapbox\",\"marker\":{\"colorbar\":{\"outlinewidth\":0,\"ticks\":\"\"}}}],\"scatterternary\":[{\"type\":\"scatterternary\",\"marker\":{\"colorbar\":{\"outlinewidth\":0,\"ticks\":\"\"}}}],\"scattercarpet\":[{\"type\":\"scattercarpet\",\"marker\":{\"colorbar\":{\"outlinewidth\":0,\"ticks\":\"\"}}}],\"carpet\":[{\"aaxis\":{\"endlinecolor\":\"#2a3f5f\",\"gridcolor\":\"white\",\"linecolor\":\"white\",\"minorgridcolor\":\"white\",\"startlinecolor\":\"#2a3f5f\"},\"baxis\":{\"endlinecolor\":\"#2a3f5f\",\"gridcolor\":\"white\",\"linecolor\":\"white\",\"minorgridcolor\":\"white\",\"startlinecolor\":\"#2a3f5f\"},\"type\":\"carpet\"}],\"table\":[{\"cells\":{\"fill\":{\"color\":\"#EBF0F8\"},\"line\":{\"color\":\"white\"}},\"header\":{\"fill\":{\"color\":\"#C8D4E3\"},\"line\":{\"color\":\"white\"}},\"type\":\"table\"}],\"barpolar\":[{\"marker\":{\"line\":{\"color\":\"#E5ECF6\",\"width\":0.5},\"pattern\":{\"fillmode\":\"overlay\",\"size\":10,\"solidity\":0.2}},\"type\":\"barpolar\"}],\"pie\":[{\"automargin\":true,\"type\":\"pie\"}]},\"layout\":{\"autotypenumbers\":\"strict\",\"colorway\":[\"#636efa\",\"#EF553B\",\"#00cc96\",\"#ab63fa\",\"#FFA15A\",\"#19d3f3\",\"#FF6692\",\"#B6E880\",\"#FF97FF\",\"#FECB52\"],\"font\":{\"color\":\"#2a3f5f\"},\"hovermode\":\"closest\",\"hoverlabel\":{\"align\":\"left\"},\"paper_bgcolor\":\"white\",\"plot_bgcolor\":\"#E5ECF6\",\"polar\":{\"bgcolor\":\"#E5ECF6\",\"angularaxis\":{\"gridcolor\":\"white\",\"linecolor\":\"white\",\"ticks\":\"\"},\"radialaxis\":{\"gridcolor\":\"white\",\"linecolor\":\"white\",\"ticks\":\"\"}},\"ternary\":{\"bgcolor\":\"#E5ECF6\",\"aaxis\":{\"gridcolor\":\"white\",\"linecolor\":\"white\",\"ticks\":\"\"},\"baxis\":{\"gridcolor\":\"white\",\"linecolor\":\"white\",\"ticks\":\"\"},\"caxis\":{\"gridcolor\":\"white\",\"linecolor\":\"white\",\"ticks\":\"\"}},\"coloraxis\":{\"colorbar\":{\"outlinewidth\":0,\"ticks\":\"\"}},\"colorscale\":{\"sequential\":[[0.0,\"#0d0887\"],[0.1111111111111111,\"#46039f\"],[0.2222222222222222,\"#7201a8\"],[0.3333333333333333,\"#9c179e\"],[0.4444444444444444,\"#bd3786\"],[0.5555555555555556,\"#d8576b\"],[0.6666666666666666,\"#ed7953\"],[0.7777777777777778,\"#fb9f3a\"],[0.8888888888888888,\"#fdca26\"],[1.0,\"#f0f921\"]],\"sequentialminus\":[[0.0,\"#0d0887\"],[0.1111111111111111,\"#46039f\"],[0.2222222222222222,\"#7201a8\"],[0.3333333333333333,\"#9c179e\"],[0.4444444444444444,\"#bd3786\"],[0.5555555555555556,\"#d8576b\"],[0.6666666666666666,\"#ed7953\"],[0.7777777777777778,\"#fb9f3a\"],[0.8888888888888888,\"#fdca26\"],[1.0,\"#f0f921\"]],\"diverging\":[[0,\"#8e0152\"],[0.1,\"#c51b7d\"],[0.2,\"#de77ae\"],[0.3,\"#f1b6da\"],[0.4,\"#fde0ef\"],[0.5,\"#f7f7f7\"],[0.6,\"#e6f5d0\"],[0.7,\"#b8e186\"],[0.8,\"#7fbc41\"],[0.9,\"#4d9221\"],[1,\"#276419\"]]},\"xaxis\":{\"gridcolor\":\"white\",\"linecolor\":\"white\",\"ticks\":\"\",\"title\":{\"standoff\":15},\"zerolinecolor\":\"white\",\"automargin\":true,\"zerolinewidth\":2},\"yaxis\":{\"gridcolor\":\"white\",\"linecolor\":\"white\",\"ticks\":\"\",\"title\":{\"standoff\":15},\"zerolinecolor\":\"white\",\"automargin\":true,\"zerolinewidth\":2},\"scene\":{\"xaxis\":{\"backgroundcolor\":\"#E5ECF6\",\"gridcolor\":\"white\",\"linecolor\":\"white\",\"showbackground\":true,\"ticks\":\"\",\"zerolinecolor\":\"white\",\"gridwidth\":2},\"yaxis\":{\"backgroundcolor\":\"#E5ECF6\",\"gridcolor\":\"white\",\"linecolor\":\"white\",\"showbackground\":true,\"ticks\":\"\",\"zerolinecolor\":\"white\",\"gridwidth\":2},\"zaxis\":{\"backgroundcolor\":\"#E5ECF6\",\"gridcolor\":\"white\",\"linecolor\":\"white\",\"showbackground\":true,\"ticks\":\"\",\"zerolinecolor\":\"white\",\"gridwidth\":2}},\"shapedefaults\":{\"line\":{\"color\":\"#2a3f5f\"}},\"annotationdefaults\":{\"arrowcolor\":\"#2a3f5f\",\"arrowhead\":0,\"arrowwidth\":1},\"geo\":{\"bgcolor\":\"white\",\"landcolor\":\"#E5ECF6\",\"subunitcolor\":\"white\",\"showland\":true,\"showlakes\":true,\"lakecolor\":\"white\"},\"title\":{\"x\":0.05},\"mapbox\":{\"style\":\"light\"}}},\"xaxis\":{\"anchor\":\"y\",\"domain\":[0.0,1.0],\"title\":{\"text\":\"Subreddit\"}},\"yaxis\":{\"anchor\":\"x\",\"domain\":[0.0,1.0],\"title\":{\"text\":\"count\"}},\"legend\":{\"title\":{\"text\":\"Label\"},\"tracegroupgap\":0},\"title\":{\"text\":\"Histogram of Subreddit by Label\"},\"barmode\":\"relative\"},                        {\"responsive\": true}                    ).then(function(){\n",
       "                            \n",
       "var gd = document.getElementById('25eceedd-abf5-46db-86e3-303a6aabc3bf');\n",
       "var x = new MutationObserver(function (mutations, observer) {{\n",
       "        var display = window.getComputedStyle(gd).display;\n",
       "        if (!display || display === 'none') {{\n",
       "            console.log([gd, 'removed!']);\n",
       "            Plotly.purge(gd);\n",
       "            observer.disconnect();\n",
       "        }}\n",
       "}});\n",
       "\n",
       "// Listen for the removal of the full notebook cells\n",
       "var notebookContainer = gd.closest('#notebook-container');\n",
       "if (notebookContainer) {{\n",
       "    x.observe(notebookContainer, {childList: true});\n",
       "}}\n",
       "\n",
       "// Listen for the clearing of the current output cell\n",
       "var outputEl = gd.closest('.output');\n",
       "if (outputEl) {{\n",
       "    x.observe(outputEl, {childList: true});\n",
       "}}\n",
       "\n",
       "                        })                };                });            </script>        </div>"
      ]
     },
     "metadata": {},
     "output_type": "display_data"
    }
   ],
   "source": [
    "fig = px.histogram(data, x='subreddit', color='label_in_value', nbins=50,\n",
    "                   title='Histogram of Subreddit by Label',\n",
    "                   labels={'subreddit': 'Subreddit', 'label_in_value': 'Label'})\n",
    "counts = data.groupby(['subreddit', 'label_in_value']).size().reset_index(name='count')\n",
    "fig.update_traces(texttemplate='%{y}', textposition='outside')\n",
    "\n",
    "fig.show()"
   ]
  },
  {
   "cell_type": "code",
   "execution_count": 442,
   "id": "4209bf50-bef7-41a1-998e-bf2a365cdeed",
   "metadata": {
    "tags": []
   },
   "outputs": [
    {
     "data": {
      "image/png": "[encoded data removed]",
      "text/plain": [
       "<Figure size 1500x1200 with 1 Axes>"
      ]
     },
     "metadata": {},
     "output_type": "display_data"
    },
    {
     "data": {
      "image/png": "[encoded data removed]",
      "text/plain": [
       "<Figure size 640x480 with 1 Axes>"
      ]
     },
     "metadata": {},
     "output_type": "display_data"
    }
   ],
   "source": [
    "lst=['subreddit','label']\n",
    "plt.figure(figsize=(15,12))\n",
    "for i in range(len(lst)):\n",
    "    plt.subplot(1,2,i+1)\n",
    "    a=data[lst[i]].value_counts()\n",
    "    lbl=a.index\n",
    "    plt.title(lst[i]+'_Distribution')\n",
    "    plt.pie(x=a,labels=lbl,autopct=\"%.1f %%\")\n",
    "    plt.show()"
   ]
  },
  {
   "cell_type": "code",
   "execution_count": 443,
   "id": "699f968a-a7c6-4233-a0b7-ac83b33325d9",
   "metadata": {
    "tags": []
   },
   "outputs": [
    {
     "data": {
      "image/png": "[encoded data removed]",
      "text/plain": [
       "<Figure size 2000x1200 with 1 Axes>"
      ]
     },
     "metadata": {},
     "output_type": "display_data"
    }
   ],
   "source": [
    "plt.figure(figsize=(20,12))\n",
    "plt.title('Subreddit wise stress count')\n",
    "plt.xlabel('Subreddit')\n",
    "sns.countplot(data=data,x='subreddit',hue='label',palette='gist_heat')\n",
    "plt.show()"
   ]
  },
  {
   "cell_type": "code",
   "execution_count": 444,
   "id": "c5e8b7a1-6cce-4142-a9c5-04c6406bf1ed",
   "metadata": {
    "tags": []
   },
   "outputs": [],
   "source": [
    "# Step 1: Text Preprocessing\n",
    "def wordopt(text):\n",
    "    text = text.lower()\n",
    "    text = re.sub('\\[.*?\\]', '', text)\n",
    "    text = re.sub(\"\\\\W\",\" \",text) \n",
    "    text = re.sub('https?://\\S+|www\\.\\S+', '', text)\n",
    "    text = re.sub('<.*?>+', '', text)\n",
    "    text = re.sub('[%s]' % re.escape(string.punctuation), '', text)\n",
    "    text = re.sub('\\n', '', text)\n",
    "    text = re.sub('\\w*\\d\\w*', '', text)    \n",
    "    return text"
   ]
  },
  {
   "cell_type": "code",
   "execution_count": 445,
   "id": "304eca40-dcfe-4624-a9d0-feab378e6c05",
   "metadata": {
    "tags": []
   },
   "outputs": [],
   "source": [
    "data['text'] = data['text'].apply(wordopt)"
   ]
  },
  {
   "cell_type": "code",
   "execution_count": 446,
   "id": "6ae8f30c-7070-44cc-9363-c6a6b38b17c3",
   "metadata": {
    "tags": []
   },
   "outputs": [
    {
     "data": {
      "text/plain": [
       "0       he said he had not felt that way before  sugge...\n",
       "1       hey there r assistance  not sure if this is th...\n",
       "2       my mom then hit me with the newspaper and it s...\n",
       "3       until i met my new boyfriend  he is amazing  h...\n",
       "4       october is domestic violence awareness month a...\n",
       "                              ...                        \n",
       "2833      her  a week ago  precious  how are you   i i...\n",
       "2834    i don t have the ability to cope with it anymo...\n",
       "2835    in case this is the first time you re reading ...\n",
       "2836    do you find this normal  they have a good rela...\n",
       "2837    i was talking to my mom this morning and she s...\n",
       "Name: text, Length: 2838, dtype: object"
      ]
     },
     "execution_count": 446,
     "metadata": {},
     "output_type": "execute_result"
    }
   ],
   "source": [
    "data['text']"
   ]
  },
  {
   "cell_type": "code",
   "execution_count": 447,
   "id": "b24e7f13-3581-4fad-aa17-e82c5f8015ce",
   "metadata": {
    "tags": []
   },
   "outputs": [],
   "source": [
    "data['text'] = data['text'].apply(word_tokenize)"
   ]
  },
  {
   "cell_type": "code",
   "execution_count": 448,
   "id": "5755b900-1e5a-4343-a78c-3a77223221cf",
   "metadata": {
    "tags": []
   },
   "outputs": [
    {
     "data": {
      "text/plain": [
       "0       [he, said, he, had, not, felt, that, way, befo...\n",
       "1       [hey, there, r, assistance, not, sure, if, thi...\n",
       "2       [my, mom, then, hit, me, with, the, newspaper,...\n",
       "3       [until, i, met, my, new, boyfriend, he, is, am...\n",
       "4       [october, is, domestic, violence, awareness, m...\n",
       "                              ...                        \n",
       "2833    [her, a, week, ago, precious, how, are, you, i...\n",
       "2834    [i, don, t, have, the, ability, to, cope, with...\n",
       "2835    [in, case, this, is, the, first, time, you, re...\n",
       "2836    [do, you, find, this, normal, they, have, a, g...\n",
       "2837    [i, was, talking, to, my, mom, this, morning, ...\n",
       "Name: text, Length: 2838, dtype: object"
      ]
     },
     "execution_count": 448,
     "metadata": {},
     "output_type": "execute_result"
    }
   ],
   "source": [
    "data['text']"
   ]
  },
  {
   "cell_type": "code",
   "execution_count": 449,
   "id": "38a6cf34-b8ba-48e5-bbe2-d43dc5c458dd",
   "metadata": {
    "tags": []
   },
   "outputs": [],
   "source": [
    "def remove_stopwords(text):\n",
    "    stpw = set(stopwords.words('english'))\n",
    "    filtered_text = [word for word in text if word not in stpw]\n",
    "    return filtered_text"
   ]
  },
  {
   "cell_type": "code",
   "execution_count": 450,
   "id": "59558bfe-adb1-4472-a3ca-2d5a1faa49ba",
   "metadata": {
    "tags": []
   },
   "outputs": [],
   "source": [
    "data['text'] = data['text'].apply(remove_stopwords)"
   ]
  },
  {
   "cell_type": "code",
   "execution_count": 451,
   "id": "73cf47dd-ab2f-4405-afdb-754ac563f3ef",
   "metadata": {
    "tags": []
   },
   "outputs": [
    {
     "data": {
      "text/plain": [
       "0       [said, felt, way, suggeted, go, rest, trigger,...\n",
       "1       [hey, r, assistance, sure, right, place, post,...\n",
       "2       [mom, hit, newspaper, shocked, would, knows, l...\n",
       "3       [met, new, boyfriend, amazing, kind, sweet, go...\n",
       "4       [october, domestic, violence, awareness, month...\n",
       "                              ...                        \n",
       "2833    [week, ago, precious, ignored, jan, happy, yea...\n",
       "2834    [ability, cope, anymore, trying, lot, things, ...\n",
       "2835    [case, first, time, reading, post, looking, pe...\n",
       "2836    [find, normal, good, relationship, main, probl...\n",
       "2837    [talking, mom, morning, said, sister, trauma, ...\n",
       "Name: text, Length: 2838, dtype: object"
      ]
     },
     "execution_count": 451,
     "metadata": {},
     "output_type": "execute_result"
    }
   ],
   "source": [
    "data['text']"
   ]
  },
  {
   "cell_type": "code",
   "execution_count": 452,
   "id": "21795bc7-8756-4fc4-aa5c-018971a7cfeb",
   "metadata": {
    "tags": []
   },
   "outputs": [],
   "source": [
    "def lemmatize_words(text):\n",
    "    lemmer = WordNetLemmatizer()\n",
    "    lemmatized_text = [lemmer.lemmatize(word, pos='v') for word in text]\n",
    "    return lemmatized_text"
   ]
  },
  {
   "cell_type": "code",
   "execution_count": 453,
   "id": "03f810f4-57d9-4e7c-81d9-947dcc96f96e",
   "metadata": {
    "tags": []
   },
   "outputs": [],
   "source": [
    "data['text'] = data['text'].apply(lemmatize_words)"
   ]
  },
  {
   "cell_type": "code",
   "execution_count": 454,
   "id": "ce6b5205-f83e-4df6-ac59-ccab93fd4b1c",
   "metadata": {
    "tags": []
   },
   "outputs": [
    {
     "data": {
      "text/plain": [
       "0       [say, felt, way, suggeted, go, rest, trigger, ...\n",
       "1       [hey, r, assistance, sure, right, place, post,...\n",
       "2       [mom, hit, newspaper, shock, would, know, like...\n",
       "3       [meet, new, boyfriend, amaze, kind, sweet, goo...\n",
       "4       [october, domestic, violence, awareness, month...\n",
       "                              ...                        \n",
       "2833    [week, ago, precious, ignore, jan, happy, year...\n",
       "2834    [ability, cope, anymore, try, lot, things, tri...\n",
       "2835    [case, first, time, read, post, look, people, ...\n",
       "2836    [find, normal, good, relationship, main, probl...\n",
       "2837    [talk, mom, morning, say, sister, trauma, wors...\n",
       "Name: text, Length: 2838, dtype: object"
      ]
     },
     "execution_count": 454,
     "metadata": {},
     "output_type": "execute_result"
    }
   ],
   "source": [
    "data['text']"
   ]
  },
  {
   "cell_type": "code",
   "execution_count": 455,
   "id": "e9a4b8b8-526e-4e6e-83b9-61bd7733fd25",
   "metadata": {
    "tags": []
   },
   "outputs": [],
   "source": [
    "data['length'] = data['text'].apply(lambda x: len(x))"
   ]
  },
  {
   "cell_type": "code",
   "execution_count": 456,
   "id": "5ac8ade0-f531-43e6-aa0c-e8500769ac90",
   "metadata": {
    "tags": []
   },
   "outputs": [],
   "source": [
    "data['text'] = data['text'].apply(lambda x: ' '.join([index for index in x]))"
   ]
  },
  {
   "cell_type": "code",
   "execution_count": 457,
   "id": "0795414c-33ac-451c-9e63-77bf59ebd782",
   "metadata": {
    "tags": []
   },
   "outputs": [],
   "source": [
    "# Step 2: Modeling\n",
    "X = data['text']\n",
    "y = data['label']\n",
    "\n",
    "# Split the data into training and testing sets\n",
    "X_train, X_test, y_train, y_test = train_test_split(X, y, test_size=0.2, random_state=42)"
   ]
  },
  {
   "cell_type": "code",
   "execution_count": 458,
   "id": "8b077cdc-d9ad-4335-a012-72c533720c9a",
   "metadata": {
    "tags": []
   },
   "outputs": [
    {
     "name": "stdout",
     "output_type": "stream",
     "text": [
      "RandomForestClassifier Cross-Validation Accuracy: 0.6996\n",
      "SVC Cross-Validation Accuracy: 0.7339\n",
      "KNeighborsClassifier Cross-Validation Accuracy: 0.6665\n"
     ]
    }
   ],
   "source": [
    "# Step 3: Cross-validation for models\n",
    "models = [RandomForestClassifier(), SVC(), KNeighborsClassifier()]\n",
    "for model in models:\n",
    "    pipeline = make_pipeline(TfidfVectorizer(), model)\n",
    "    scores = cross_val_score(pipeline, X_train, y_train, cv=5)\n",
    "    print(f\"{model.__class__.__name__} Cross-Validation Accuracy: {scores.mean():.4f}\")"
   ]
  },
  {
   "cell_type": "code",
   "execution_count": 459,
   "id": "8f674b98-3e16-4c38-b837-98e9a469db9b",
   "metadata": {
    "tags": []
   },
   "outputs": [
    {
     "name": "stdout",
     "output_type": "stream",
     "text": [
      "Fitting 5 folds for each of 108 candidates, totalling 540 fits\n",
      "Best parameters: {'randomforestclassifier__max_depth': 30, 'randomforestclassifier__n_estimators': 200, 'tfidfvectorizer__max_features': 5000, 'tfidfvectorizer__ngram_range': (1, 2)}\n",
      "Best cross-validation score: 0.713215859030837\n",
      "Test set accuracy: 0.6919014084507042\n"
     ]
    }
   ],
   "source": [
    "from sklearn.model_selection import GridSearchCV\n",
    "from sklearn.ensemble import RandomForestClassifier\n",
    "from sklearn.svm import SVC\n",
    "from sklearn.neighbors import KNeighborsClassifier\n",
    "from sklearn.feature_extraction.text import TfidfVectorizer\n",
    "from sklearn.pipeline import make_pipeline\n",
    "from sklearn.model_selection import train_test_split\n",
    "\n",
    "# Split your data into training and testing sets\n",
    "X_train, X_test, y_train, y_test = train_test_split(data['text'], data['label'], test_size=0.2, random_state=42)\n",
    "\n",
    "# Define the pipeline with the TfidfVectorizer and the classifier\n",
    "pipeline = make_pipeline(TfidfVectorizer(), RandomForestClassifier())\n",
    "\n",
    "# Define the parameter grid for GridSearchCV\n",
    "param_grid = {\n",
    "    'randomforestclassifier__n_estimators': [50, 100, 200],\n",
    "    'randomforestclassifier__max_depth': [None, 10, 20, 30],\n",
    "    'tfidfvectorizer__max_features': [None, 1000, 5000],\n",
    "    'tfidfvectorizer__ngram_range': [(1, 1), (1, 2), (2, 2)]\n",
    "}\n",
    "\n",
    "# Create the GridSearchCV object\n",
    "grid_search = GridSearchCV(pipeline, param_grid, cv=5, n_jobs=-1, verbose=1)\n",
    "\n",
    "# Fit the GridSearchCV on the training data\n",
    "grid_search.fit(X_train, y_train)\n",
    "\n",
    "# Print the best parameters and the corresponding accuracy\n",
    "print(\"Best parameters:\", grid_search.best_params_)\n",
    "print(\"Best cross-validation score:\", grid_search.best_score_)\n",
    "\n",
    "# Evaluate the performance on the test set\n",
    "test_score = grid_search.score(X_test, y_test)\n",
    "print(\"Test set accuracy:\", test_score)\n"
   ]
  },
  {
   "cell_type": "code",
   "execution_count": null,
   "id": "521d0f2b-21fd-4e0a-bbea-431c3b0a5dd6",
   "metadata": {
    "tags": []
   },
   "outputs": [],
   "source": [
    "from sklearn.decomposition import PCA\n",
    "from sklearn.feature_extraction.text import TfidfVectorizer\n",
    "import numpy as np\n",
    "\n",
    "# Step 5: Visualizing Decision Regions with PCA\n",
    "tfidf_vectorizer = TfidfVectorizer()\n",
    "X_train_tfidf = tfidf_vectorizer.fit_transform(X_train)\n",
    "\n",
    "# Convert the sparse matrix to dense array\n",
    "X_train_dense = X_train_tfidf.todense()\n",
    "\n",
    "# Convert the dense matrix to NumPy array\n",
    "X_train_array = np.array(X_train_dense)\n",
    "\n",
    "pca = PCA(n_components=2)\n",
    "X_train_pca = pca.fit_transform(X_train_array)\n",
    "\n",
    "for model in models:\n",
    "    pipeline = make_pipeline(TfidfVectorizer(), model)\n",
    "    pipeline.fit(X_train, y_train)\n",
    "    plt.figure(figsize=(8, 6))\n",
    "    sns.scatterplot(x=X_train_pca[:, 0], y=X_train_pca[:, 1], hue=y_train, palette='viridis', legend='full')\n",
    "    plt.title(f\"Decision Regions - {model.__class__.__name__}\")\n",
    "    plt.show()"
   ]
  },
  {
   "cell_type": "code",
   "execution_count": null,
   "id": "1979d883-c332-4996-9987-30f8a63088ed",
   "metadata": {
    "tags": []
   },
   "outputs": [],
   "source": []
  },
  {
   "cell_type": "code",
   "execution_count": null,
   "id": "73fbdec9-6b7b-4147-9566-05d05132e38e",
   "metadata": {
    "tags": []
   },
   "outputs": [],
   "source": [
    "# Step 6: Visualizing Feature Importance\n",
    "for model in models:\n",
    "    if hasattr(model, 'feature_importances_'):\n",
    "        importances = model.feature_importances_\n",
    "        feature_names = TfidfVectorizer().fit(X_train).get_feature_names_out()\n",
    "        feature_importance = pd.DataFrame({'Feature': feature_names, 'Importance': importances})\n",
    "        feature_importance = feature_importance.sort_values(by='Importance', ascending=False).head(10)\n",
    "        plt.figure(figsize=(10, 6))\n",
    "        sns.barplot(x='Importance', y='Feature', data=feature_importance, palette='viridis')\n",
    "        plt.title(f\"Feature Importance - {model.__class__.__name__}\")\n",
    "        plt.show()"
   ]
  },
  {
   "cell_type": "code",
   "execution_count": null,
   "id": "12d12fba-325a-4953-834c-86788ac6783e",
   "metadata": {
    "tags": []
   },
   "outputs": [],
   "source": [
    "# Step 7: Classification Report and Confusion Matrix\n",
    "\n",
    "import matplotlib.pyplot as plt\n",
    "import seaborn as sns\n",
    "from sklearn.metrics import confusion_matrix\n",
    "\n",
    "# Function to plot confusion matrix\n",
    "def plot_confusion_matrix(y_true, y_pred, model_name):\n",
    "    cm = confusion_matrix(y_true, y_pred)\n",
    "    plt.figure(figsize=(6, 4))\n",
    "    sns.heatmap(cm, annot=True, fmt=\"d\", cmap=\"Blues\", cbar=False)\n",
    "    plt.title(f'Confusion Matrix for {model_name}')\n",
    "    plt.xlabel('Predicted Label')\n",
    "    plt.ylabel('True Label')\n",
    "    plt.show()\n",
    "\n",
    "# Models and their predictions\n",
    "models = [RandomForestClassifier(), SVC(), KNeighborsClassifier()]\n",
    "model_names = ['RandomForestClassifier', 'SVC', 'KNeighborsClassifier']\n",
    "\n",
    "# Iterate through models and plot confusion matrix\n",
    "for model, model_name in zip(models, model_names):\n",
    "    pipeline = make_pipeline(TfidfVectorizer(), model)\n",
    "    pipeline.fit(X_train, y_train)\n",
    "    y_pred = pipeline.predict(X_test)\n",
    "    \n",
    "    # Print classification report\n",
    "    print(f\"Classification Report for {model_name}:\\n{classification_report(y_test, y_pred)}\")\n",
    "    \n",
    "    # Plot confusion matrix\n",
    "    plot_confusion_matrix(y_test, y_pred, model_name)\n"
   ]
  },
  {
   "cell_type": "code",
   "execution_count": null,
   "id": "79b4c4fa-787d-4f1f-92c0-488ff5f0de12",
   "metadata": {
    "tags": []
   },
   "outputs": [],
   "source": [
    "# Step 8: Prediction on Trained Data\n",
    "chosen_model = RandomForestClassifier(n_estimators=100)\n",
    "final_pipeline = make_pipeline(TfidfVectorizer(), chosen_model)\n",
    "final_pipeline.fit(X, y)"
   ]
  },
  {
   "cell_type": "code",
   "execution_count": null,
   "id": "acce6a0a-a6c5-4ef4-8b90-0b9917311bd8",
   "metadata": {
    "tags": []
   },
   "outputs": [],
   "source": [
    "# Save the model\n",
    "import joblib\n",
    "joblib.dump(final_pipeline, 'stress_detection_model.pkl')"
   ]
  },
  {
   "cell_type": "code",
   "execution_count": null,
   "id": "2007849a-ee27-4f87-ba17-437b1c9ce18b",
   "metadata": {},
   "outputs": [],
   "source": []
  },
  {
   "cell_type": "code",
   "execution_count": null,
   "id": "73e40db2-242f-4467-9fbe-c4a4e9c05bf9",
   "metadata": {
    "tags": []
   },
   "outputs": [],
   "source": [
    "input=pd.DataFrame({\n",
    "    'text':['i am going on a adventurous trip','Monday is a hard day to go to work','difficult']\n",
    "})"
   ]
  },
  {
   "cell_type": "code",
   "execution_count": null,
   "id": "3129b55a-4f8f-4165-b67f-19ec06c8d77c",
   "metadata": {},
   "outputs": [],
   "source": [
    "input"
   ]
  },
  {
   "cell_type": "code",
   "execution_count": null,
   "id": "76d27d6a-7def-4d74-b2f1-9c358de02542",
   "metadata": {
    "tags": []
   },
   "outputs": [],
   "source": [
    "# Preprocess the new data\n",
    "input['text'] = input['text'].apply(word_tokenize)\n",
    "input['text'] = input['text'].apply(remove_stopwords)\n",
    "input['text'] = input['text'].apply(lemmatize_words)\n",
    "input['text'] = input['text'].apply(lambda x: ' '.join([index for index in x]))"
   ]
  },
  {
   "cell_type": "code",
   "execution_count": null,
   "id": "e6bc3efb-10e6-45ff-b031-b21acdd826dc",
   "metadata": {
    "tags": []
   },
   "outputs": [],
   "source": [
    "vect=TfidfVectorizer(lowercase=False)"
   ]
  },
  {
   "cell_type": "code",
   "execution_count": null,
   "id": "4d8ea27f-7e2a-4f77-8a94-3a94863195ee",
   "metadata": {
    "tags": []
   },
   "outputs": [],
   "source": [
    "X_valid=vect.fit_transform(input['text'])"
   ]
  },
  {
   "cell_type": "code",
   "execution_count": null,
   "id": "e9c7ffc3-2202-4ae3-8383-d2ae2223c0ec",
   "metadata": {
    "tags": []
   },
   "outputs": [],
   "source": [
    "X_valid = vect.transform(input['text'])"
   ]
  },
  {
   "cell_type": "code",
   "execution_count": null,
   "id": "008901a0-a4b0-40df-acb4-9c9b2c6a2965",
   "metadata": {
    "tags": []
   },
   "outputs": [],
   "source": [
    "from sklearn.model_selection import train_test_split\n",
    "from sklearn.svm import SVC\n",
    "from sklearn.pipeline import make_pipeline\n",
    "from sklearn.feature_extraction.text import TfidfVectorizer\n",
    "\n",
    "# Assuming you have the word_tokenize, remove_stopwords, and lemmatize_words functions defined\n",
    "def preprocess_text(text):\n",
    "    tokens = word_tokenize(text)\n",
    "    tokens = remove_stopwords(tokens)\n",
    "    tokens = lemmatize_words(tokens)\n",
    "    return ' '.join(tokens)\n",
    "\n",
    "# Split your data into training and testing sets\n",
    "X_train, X_test, y_train, y_test = train_test_split(data['text'], data['label'], test_size=0.2, random_state=42)\n",
    "\n",
    "# Assuming you have a trained pipeline with SVC\n",
    "pipeline = make_pipeline(TfidfVectorizer(), SVC())\n",
    "pipeline.fit(X_train, y_train)\n",
    "\n",
    "# Assuming X_valid is your new data\n",
    "X_valid = input['text'].apply(preprocess_text)\n",
    "\n",
    "# Predict on the new data\n",
    "input['predicted'] = pipeline.predict(X_valid)\n",
    "input['predicted'] = input['predicted'].apply(lambda x: 'Stress' if x == 1 else 'Not Stress')\n"
   ]
  },
  {
   "cell_type": "code",
   "execution_count": null,
   "id": "072d5595-3bf1-4e79-b430-749a9696278c",
   "metadata": {
    "tags": []
   },
   "outputs": [],
   "source": [
    "input"
   ]
  },
  {
   "cell_type": "code",
   "execution_count": null,
   "id": "f60f1222-d497-4c89-b7b8-6cb9a7ca8437",
   "metadata": {
    "tags": []
   },
   "outputs": [],
   "source": [
    "import pandas as pd\n",
    "from sklearn.feature_extraction.text import TfidfVectorizer\n",
    "from lazypredict.Supervised import LazyClassifier\n",
    "from lazypredict.Supervised import LazyRegressor\n",
    "\n",
    "# Assuming X_train and X_test are your text data\n",
    "tfidf = TfidfVectorizer()\n",
    "X_train_tfidf = tfidf.fit_transform(X_train)\n",
    "X_test_tfidf = tfidf.transform(X_test)\n",
    "\n",
    "# Convert the sparse matrices to dense arrays\n",
    "X_train_dense = X_train_tfidf.todense()\n",
    "X_test_dense = X_test_tfidf.todense()\n",
    "\n",
    "# Convert dense arrays to Pandas DataFrames\n",
    "X_train_df = pd.DataFrame(X_train_dense, columns=tfidf.get_feature_names_out())\n",
    "X_test_df = pd.DataFrame(X_test_dense, columns=tfidf.get_feature_names_out())\n",
    "\n",
    "# LazyPredict with DataFrame data\n",
    "clf = LazyClassifier(verbose=0, ignore_warnings=True, custom_metric=None)\n",
    "models, predictions = clf.fit(X_train_df, X_test_df, y_train, y_test)\n",
    "\n",
    "# Display the results\n",
    "print(models)\n"
   ]
  },
  {
   "cell_type": "code",
   "execution_count": null,
   "id": "919fc0ff-e71d-4146-8232-8f35a1a043df",
   "metadata": {
    "tags": []
   },
   "outputs": [],
   "source": []
  },
  {
   "cell_type": "code",
   "execution_count": null,
   "id": "ea682525-27e9-41b0-bc59-4799cfd9c225",
   "metadata": {},
   "outputs": [],
   "source": []
  },
  {
   "cell_type": "code",
   "execution_count": null,
   "id": "e74c0d5e-47a1-42bf-897b-10ad8a733b67",
   "metadata": {},
   "outputs": [],
   "source": []
  }
 ],
 "metadata": {
  "kernelspec": {
   "display_name": "Python 3 (ipykernel)",
   "language": "python",
   "name": "python3"
  },
  "language_info": {
   "codemirror_mode": {
    "name": "ipython",
    "version": 3
   },
   "file_extension": ".py",
   "mimetype": "text/x-python",
   "name": "python",
   "nbconvert_exporter": "python",
   "pygments_lexer": "ipython3",
   "version": "3.11.4"
  }
 },
 "nbformat": 4,
 "nbformat_minor": 5
}
